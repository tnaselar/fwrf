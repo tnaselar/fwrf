{
 "cells": [
  {
   "cell_type": "code",
   "execution_count": 1,
   "metadata": {
    "collapsed": false
   },
   "outputs": [
    {
     "name": "stderr",
     "output_type": "stream",
     "text": [
      "Using gpu device 0: GeForce GTX TITAN X (CNMeM is disabled, cuDNN not available)\n"
     ]
    }
   ],
   "source": [
    "import lasagne\n",
    "import numpy as np\n",
    "import matplotlib.pyplot as plt\n",
    "from theano import tensor as tnsr\n",
    "from theano import function, shared\n",
    "from hrf_fitting.src.feature_weighted_rf_models import receptive_fields\n",
    "from hrf_fitting.src.features import make_space"
   ]
  },
  {
   "cell_type": "code",
   "execution_count": 2,
   "metadata": {
    "collapsed": false
   },
   "outputs": [],
   "source": [
    "%load_ext autoreload\n",
    "%autoreload 2\n",
    "%matplotlib inline"
   ]
  },
  {
   "cell_type": "markdown",
   "metadata": {},
   "source": [
    "#### Dimensions"
   ]
  },
  {
   "cell_type": "code",
   "execution_count": 3,
   "metadata": {
    "collapsed": true
   },
   "outputs": [],
   "source": [
    "T = 256 ##trials\n",
    "D = 64 ##features\n",
    "S = 125 ##pixels\n",
    "V = 100 ##voxels\n",
    "deg_per_stim = 20\n",
    "\n",
    "\n"
   ]
  },
  {
   "cell_type": "code",
   "execution_count": 264,
   "metadata": {
    "collapsed": false
   },
   "outputs": [],
   "source": [
    "class receptive_field_layer(lasagne.layers.Layer):\n",
    "    '''\n",
    "    receptive_field_layer(incoming, num_rfs, (X_grid, Y_grid), deg_per_stim, x0=None, y0=None, sig=None)\n",
    "    \n",
    "    --inputs\n",
    "    incoming ~ should be an input layer with (T,D,S,S) input_var tensor4\n",
    "    \n",
    "    num_rfs  ~ G, which in this case will almost certainly be V = the number of voxels you are trying to model\n",
    "    \n",
    "    (X_grid, Y_grid) ~ numpy matrices of spatial 2D grid specified in pixels. output \"make_space\" or np.meshgrid\n",
    "    \n",
    "    when x0,y0,sig=None initializes each rf with (x0,y0)=(0,0), stdev = 1. otherwise, can initialize with a theano shared variable or numpy array\n",
    "    \n",
    "    --attributes\n",
    "    params are [x0, y0, sig], which are the (x,y) coors and standard dev., resp., of the gaussian rfs\n",
    "    for some set of voxels\n",
    "    \n",
    "    make_rf_stack() will construct a stack of visualizable rf's\n",
    "    '''    \n",
    "    def __init__(self, incoming, num_rfs, space_grid, deg_per_stim, x0=None, y0=None, sig=None, dtype='float32', **kwargs):\n",
    "        super(receptive_field_layer, self).__init__(incoming, **kwargs)  ##this will give us an \"input_shape\" attribute\n",
    "        self.S = self.input_shape[-1]\n",
    "        self.G = num_rfs\n",
    "        \n",
    "        self.pix_per_deg = self.S * (1./deg_per_stim)  ##this will convert into pixels\n",
    "        self.Xm = shared(space_grid[0].astype(dtype))  ##explicit casting. is there a better way to do this?\n",
    "        self.Ym = shared(space_grid[1].astype(dtype))\n",
    "        if x0: ##we assume the shared variable has already been created and registered\n",
    "            self.x0 = x0  \n",
    "        else: ##we assume it has not\n",
    "            self.x0 = self.add_param(np.zeros(num_rfs,dtype=dtype),(num_rfs,), name='x0',rf_param=True,x0=True)\n",
    "        if y0:\n",
    "            self.y0 = y0\n",
    "        else:\n",
    "            self.y0 = self.add_param(np.zeros(num_rfs,dtype=dtype),(num_rfs,), name='y0',rf_param=True,y0=True)\n",
    "        if sig:\n",
    "            self.sig = sig\n",
    "        else:\n",
    "            self.sig = self.add_param(np.ones(num_rfs,dtype=dtype),(num_rfs,), name='sig',rf_param=True,sig=True) \n",
    "        \n",
    "        \n",
    "        \n",
    "        ##we put the pix_per_deg conversion here becuase x0,y0,sig will be shared across feature spaces\n",
    "        self.gauss_expr = ((1. / 2*np.pi*(self.sig[:,np.newaxis,np.newaxis]*self.pix_per_deg)**2)\n",
    "                           *tnsr.exp(-((self.Xm[np.newaxis,:,:]-self.x0[:,np.newaxis,np.newaxis]*self.pix_per_deg)**2\n",
    "                                       + (self.Ym[np.newaxis,:,:]-self.y0[:, np.newaxis,np.newaxis]*self.pix_per_deg)**2)\n",
    "                                     /(2*(self.sig[:,np.newaxis,np.newaxis]*self.pix_per_deg)**2)))\n",
    "        \n",
    "        self.make_rf_stack = function([],self.gauss_expr)\n",
    "        \n",
    "    \n",
    "    def get_output_for(self, input, **kwargs):\n",
    "        return tnsr.tensordot(self.gauss_expr, input, axes=[[1,2],[2,3]])\n",
    "    \n",
    "    def get_output_shape_for(self, input_shape): ##(G, T, D)\n",
    "        return (self.G, input_shape[0], input_shape[1])\n",
    "    \n",
    "        "
   ]
  },
  {
   "cell_type": "code",
   "execution_count": 5,
   "metadata": {
    "collapsed": true
   },
   "outputs": [],
   "source": [
    "class compressive_nonlinearity_layer(lasagne.layers.Layer):\n",
    "    def get_output_for(self, input, **kwargs):\n",
    "        return tnsr.log(1+tnsr.sqrt(input))\n",
    "    "
   ]
  },
  {
   "cell_type": "code",
   "execution_count": 218,
   "metadata": {
    "collapsed": false
   },
   "outputs": [],
   "source": [
    "class feature_weights_layer(lasagne.layers.Layer):\n",
    "    '''\n",
    "    feature_weights_layer(incoming, num_outputs, NU = lasagne.init.Constant([0]))\n",
    "       incoming ~ should be an model space tensor (num_rfs,T,D)\n",
    "    num_outputs ~ should be thought of as \"number of voxels per receptive field\".\n",
    "                  if running grid search over possible rf models, each of the G rf models is potential model for each\n",
    "                  voxel, so set num_outputs = num_voxels (i.e., \"V\").\n",
    "                  if running gradient descent on params of one rf model per voxel, num_outputs = 1\n",
    "             NU ~ (num_rfs,D,num_outputs) tensor of feature weights.\n",
    "    output      ~ (num_rfs, T, num_outputs) tensor3 of predicted responses.\n",
    "    '''    \n",
    "    def __init__(self, incoming, num_outputs, NU = lasagne.init.Constant([0]), **kwargs):\n",
    "        ##this will give us an \"input_shape\" attribute\n",
    "        super(feature_weights_layer, self).__init__(incoming, **kwargs)  \n",
    "        self.G = self.input_shape[0]\n",
    "        self.D = self.input_shape[2]\n",
    "        self.num_outputs = num_outputs\n",
    "        ##creates the theano shared variable\n",
    "        self.NU = self.add_param(NU, (self.G,self.D,num_outputs), name='feature_weights', feature_weights=True) \n",
    "    \n",
    "    def get_output_for(self, input, **kwargs):\n",
    "        return tnsr.batched_tensordot(input,\n",
    "                                      self.NU,\n",
    "                                      axes=[[2],[1]]) ##prediction tensor: num_rfs x T x num_outputs\n",
    "    \n",
    "    def get_output_shape_for(self, input_shape): ##input_shape = (num_rfs, T, D)\n",
    "        return (self.G, input_shape[1], self.num_outputs)"
   ]
  },
  {
   "cell_type": "code",
   "execution_count": 1073,
   "metadata": {
    "collapsed": true
   },
   "outputs": [],
   "source": [
    "class normalization_layer(lasagne.layers.Layer):\n",
    "    def __init__(self, incoming, mean=lasagne.init.Constant([0]), stdev=lasagne.init.Constant([1])):\n",
    "        super(normalization_layer,self).__init__(incoming, **kwargs)\n",
    "        self.G = self.input_shape[0]\n",
    "        self.D = self.input_shape[2]\n",
    "        self.mean = self.add_param(mean, (self.G, self.D), name='mean', trainable=False)\n",
    "        self.stdev = self.add_param(stdev, (self.G, self.D), name='stdev', trainable=False)\n",
    "    \n",
    "    def get_output_for(self, input, **kwargs):\n",
    "        return (input - self.mean[:,np.newaxis,:])/self.stdev[:,np.newaxis,:]\n"
   ]
  },
  {
   "cell_type": "code",
   "execution_count": 319,
   "metadata": {
    "collapsed": true
   },
   "outputs": [],
   "source": [
    "#### construct a fwrf model space: THIS SHOULD BE A BASE CLASS METHOD!!!\n",
    "def make_fwrf_model_space(feature_map_dict, num_rfs, deg_per_stim):\n",
    "    '''\n",
    "    each dict value is a (T,D_i,S_i,S_i) stack of feature maps, where i indexes each stack of feature maps\n",
    "    each model space in the list will have output shape (G,T,D)\n",
    "    will concatenate along axis 2 (= D)\n",
    "    will share x0,y0,sig (the rf params) across feature spaces\n",
    "    '''\n",
    "    model_space_list = []\n",
    "    input_var_dict = {}\n",
    "    for f_map_name in feature_map_dict.keys():\n",
    "        input_shape = (None,)+feature_map_dict[f_map_name].shape[1:]\n",
    "        \n",
    "        ##one way to do this\n",
    "        input_var_dict[f_map_name] = tnsr.tensor4(f_map_name)\n",
    "        \n",
    "        \n",
    "        \n",
    "        l1 = lasagne.layers.InputLayer(input_shape, input_var = input_var_dict[f_map_name], name='input_'+f_map_name)\n",
    "        Xm,Ym = make_space(input_shape[-1])\n",
    "        if not model_space_list:  \n",
    "            l2 = receptive_field_layer(l1,num_rfs,(Xm,Ym),deg_per_stim,name='rf_'+f_map_name)\n",
    "            model_space_list.append(l2)\n",
    "        else: ##rf centers/sizes will be shared\n",
    "            model_space_list.append(receptive_field_layer(l1,num_rfs,(Xm,Ym),deg_per_stim,\n",
    "                                                          x0=l2.x0,\n",
    "                                                          y0=l2.y0,\n",
    "                                                          sig=l2.sig,\n",
    "                                                          name='rf_'+f_map_name))\n",
    "    \n",
    "    fwrf_model_space = lasagne.layers.ConcatLayer(model_space_list,axis=2, name='fwrf_model_space')\n",
    "\n",
    "    return input_var_dict, l2, fwrf_model_space\n",
    "        \n",
    "        "
   ]
  },
  {
   "cell_type": "code",
   "execution_count": null,
   "metadata": {
    "collapsed": true
   },
   "outputs": [],
   "source": [
    "##merges multiple feature map stacks, applies receptive field layer, and whatever else you want.\n",
    "class fwrf(object):\n",
    "    '''\n",
    "    \n",
    "    TODO: a decoding method for the base class? \n",
    "        \n",
    "    fwrf( feature_map_dict, deg_per_stim, num_rfs, [rf_init={x0:array, y0:array, sig:array}])\n",
    "    \n",
    "    this is an abstract base class: to be inherited, not instantiated.\n",
    "    \n",
    "    merges multiple feature map stacks, applies receptive field layer, creates a dictionary of input tensors\n",
    "    corresponding to each feature map stack, and creates an \"rf_layer\" attribute for convenient access to rf\n",
    "    parameters.\n",
    "    \n",
    "    does not apply the feature_weights layer. too many different branches after rf application for that to be useful.\n",
    "    \n",
    "    once \"fwrf\" is defined, there are some useful methods for setting/getting param values\n",
    "    \n",
    "    once \"loss\" is defined, there is a useful method for building a kernel for learning.\n",
    "    '''\n",
    "    \n",
    "    ##not overwrite\n",
    "    def __init__(self, feature_map_dict, deg_per_stim, num_rfs, rf_init=None):\n",
    "        ##voxel data tensor\n",
    "        self.voxel_data_tnsr = tnsr.matrix('voxel_data_tnsr')  ##voxel data tensor: (T x V)\n",
    "        \n",
    "        \n",
    "        ##record and store basic properties of the feature maps\n",
    "        self.feature_depth = {}\n",
    "        self.feature_indices = {}\n",
    "        self.feature_resolutions = {}\n",
    "        idx = 0\n",
    "        for f_key in feature_map_dict.keys():\n",
    "            self.feature_depth[f_key] = feature_map_dict[f_key].shape[1]\n",
    "            self.feature_indices[f_key] = np.arange(idx,idx + self.feature_depth[f_key],step=1)\n",
    "            idx += self.feature_depth[f_key]\n",
    "            self.feature_resolutions[f_key] = feature_map_dict[f_key].shape[2]\n",
    "        \n",
    "        ##total feature depth\n",
    "        self.D = np.sum(self.feature_depth.values())\n",
    "        \n",
    "        ##rf properties\n",
    "        self.voxels_per_rf = voxels_per_rf ## this is really number of voxels per rf\n",
    "        self.deg_per_stim = deg_per_stim\n",
    "        self.num_rfs = num_rfs\n",
    "        if not rf_info:\n",
    "            rf_info = {}\n",
    "            rf_info['x0'] = np.zeros(num_rfs,dtype='float32')\n",
    "            rf_info['y0'] = np.zeros(num_rfs,dtype='float32')\n",
    "            rf_info['sig'] = np.ones(num_rfs,dtype='float32')\n",
    "        else:\n",
    "            \n",
    "    \n",
    "        ##construct model space network: applies rf's to feature maps\n",
    "        self.input_var_dict, self.rf_layer, self.model_space = make_fwrf_model_space(feature_map_dict, self.num_rfs, deg_per_stim)\n",
    "\n",
    "        self.rf_layer.x0.set_value(rf_info['x0'])\n",
    "        self.rf_layer.y0.set_value(rf_info['y0'])\n",
    "        self.rf_layer.sig.set_value(rf_info['sig'])\n",
    "        \n",
    "        \n",
    "\n",
    "    def set_model_params(self,**kwargs):\n",
    "        for shared_var in lasagne.layers.get_all_params(self.fwrf):\n",
    "            if shared_var.name in kwargs.keys():\n",
    "                shared_var.set_value(kwargs[shared_var.name])\n",
    "    \n",
    "    def get_param_shapes(self, *args):\n",
    "        param_shape_dict = {}\n",
    "        for shared_var in lasagne.layers.get_all_params(self.fwrf):\n",
    "            if shared_var.name in args:\n",
    "                param_shape_dict[shared_var.name] = shared_var.get_value().shape\n",
    "                print 'parameter %s has shape %s' %(shared_var.name, param_shape_dict[shared_var.name])\n",
    "        return param_shape_dict\n",
    "    \n",
    "    def get_param_values(self, *args):\n",
    "        param_value_dict = {}\n",
    "        for shared_var in lasagne.layers.get_all_params(self.fwrf):\n",
    "            if shared_var.name in args:\n",
    "                param_value_dict[shared_var.name] = shared_var.get_value()\n",
    "        return param_value_dict\n",
    "            \n",
    "        \n",
    "    def _build_training_kernel(self, learning_rate):\n",
    "        params = lasagne.layers.get_all_params(self.fwrf,trainable=True)\n",
    "        print 'will solve for: %s' %(params)\n",
    "        fwrf_update = lasagne.updates.adagrad(self.loss_expr,params,learning_rate=learning_rate)\n",
    "        ##training kernel\n",
    "        self.trn_kernel = function([self.voxel_data_tnsr]+self.input_var_dict.values(), self.loss_expr, updates=fwrf_update)\n",
    "    \n",
    "    def _descend_and_validate(self, trn_in, trn_out, val_in, val_out, check_every=10):\n",
    "        step_count = 0\n",
    "        while step_count < check_every:\n",
    "            _ = self.trn_kernel(trn_out, *trn_in.values()) \n",
    "            step_count += 1\n",
    "        trn_loss_is = self.loss(trn_out, *trn_in.values())     \n",
    "        val_loss_is = self.loss(val_out, *val_in.values()) \n",
    "        return val_loss_is, trn_loss_is\n",
    "    \n",
    "    def _build_loss(self):\n",
    "        raise NotImplementedError('must return self.loss_expr')\n",
    "    \n",
    "    def _build_pred(self):\n",
    "        raise NotImplementedError('must return self.pred_expr')\n",
    "        \n",
    "    def _construct_network(self):\n",
    "        raise NotImplementedError('must return self.fwrf')\n",
    "    \n",
    "    def decode(self, decode_params)    "
   ]
  },
  {
   "cell_type": "code",
   "execution_count": 1072,
   "metadata": {
    "collapsed": false
   },
   "outputs": [
    {
     "data": {
      "text/plain": [
       "True"
      ]
     },
     "execution_count": 1072,
     "metadata": {},
     "output_type": "execute_result"
    }
   ],
   "source": [
    "class coarse_fwrf(fwrf):\n",
    "    def __init__(self, feature_map_dict, deg_per_stim, num_rfs, number_of_voxels, rf_init=None, activation_layer=None):\n",
    "        super(coarse_fwrf, self).__init__(feature_map_dict, deg_per_stim, num_rfs, rf_init)\n",
    "        self.number_of_voxels = number_of_voxels\n",
    "        self.construct_network(activation_layer)\n",
    "        self.build_expressions()\n",
    "    \n",
    "    def construct_network(self,activation_layer):\n",
    "        if activation_layer:\n",
    "            self.fwrf = activation_layer(self.model_space)\n",
    "        else:\n",
    "            self.fwrf = self.model_space\n",
    "        \n",
    "        self.fwrf = normalization_layer(self.fwrf)\n",
    "        self.fwrf = feature_weights_layer(self.fwrf, self.number_of_voxels)\n",
    "        \n",
    "    def _build_mst(self, data_generator, num_samples, chunk_size):\n",
    "        mst = np.zeros((self.num_rfs, num_samples, self.D), dtype='float32')\n",
    "        cnt = 0\n",
    "        for trn_in in data_generator:\n",
    "            mst[:,cnt:cnt+chunk_size,:] = self._construct_model_space(trn_in)\n",
    "            cnt += chunk_size\n",
    "        return mst\n",
    "    \n",
    "    def normalize(self, *args):\n",
    "        mst = self._build_mst(*args)\n",
    "        mn = np.mean(mst, axis=1)\n",
    "        stdev = 1+np.stdev(mst, axis=1)\n",
    "        self.set_params()\n",
    "    \n",
    "    \n",
    "            \n",
    "    \n"
   ]
  },
  {
   "cell_type": "code",
   "execution_count": 539,
   "metadata": {
    "collapsed": true
   },
   "outputs": [],
   "source": [
    "feature_map_names = ['a','b','c']\n",
    "feature_map_dict = {}\n",
    "feature_depths = [12, 45, 78]\n",
    "for fmap,fdep in zip(feature_map_names,feature_depths):\n",
    "    feature_map_dict[fmap] = np.random.random(size=(T,fdep,S,S)).astype('float32')\n",
    "\n",
    "num_voxels = 10"
   ]
  },
  {
   "cell_type": "code",
   "execution_count": 1043,
   "metadata": {
    "collapsed": false
   },
   "outputs": [],
   "source": [
    "foo = encoding_model(feature_map_dict, num_voxels, 20)"
   ]
  },
  {
   "cell_type": "code",
   "execution_count": 1046,
   "metadata": {
    "collapsed": true
   },
   "outputs": [],
   "source": [
    "network = lambda x: feature_weights_layer(lasagne.layers.BatchNormLayer(x,axes=(1,)), foo.num_outputs)\n",
    "#lasagne.layers.BatchNormLayer(compressive_nonlinearity_layer("
   ]
  },
  {
   "cell_type": "code",
   "execution_count": 1047,
   "metadata": {
    "collapsed": false
   },
   "outputs": [],
   "source": [
    "foo.construct_network(network)"
   ]
  },
  {
   "cell_type": "code",
   "execution_count": 1048,
   "metadata": {
    "collapsed": true
   },
   "outputs": [],
   "source": [
    "NU=np.random.random(size=(foo.num_voxels, foo.D, foo.num_outputs)).astype('float32')\n",
    "foo.set_model_params(feature_weights=NU)"
   ]
  },
  {
   "cell_type": "code",
   "execution_count": 1049,
   "metadata": {
    "collapsed": false
   },
   "outputs": [],
   "source": [
    "x0 = 4*np.random.random(size=(num_voxels)).astype('float32')\n",
    "y0 = 4*np.random.random(size=(num_voxels)).astype('float32')\n",
    "sig = 4*np.random.random(size=(num_voxels)).astype('float32')\n",
    "foo.set_model_params(rf_center = (x0,y0), rf_size = sig)"
   ]
  },
  {
   "cell_type": "code",
   "execution_count": 886,
   "metadata": {
    "collapsed": false
   },
   "outputs": [
    {
     "ename": "KeyError",
     "evalue": "'beta'",
     "output_type": "error",
     "traceback": [
      "\u001b[1;31m---------------------------------------------------------------------------\u001b[0m",
      "\u001b[1;31mKeyError\u001b[0m                                  Traceback (most recent call last)",
      "\u001b[1;32m<ipython-input-886-71a6c009758d>\u001b[0m in \u001b[0;36m<module>\u001b[1;34m()\u001b[0m\n\u001b[0;32m      1\u001b[0m \u001b[0mparam_shapes\u001b[0m \u001b[1;33m=\u001b[0m \u001b[0mfoo\u001b[0m\u001b[1;33m.\u001b[0m\u001b[0mget_param_shapes\u001b[0m\u001b[1;33m(\u001b[0m\u001b[1;34m'beta'\u001b[0m\u001b[1;33m,\u001b[0m \u001b[1;34m'gamma'\u001b[0m\u001b[1;33m)\u001b[0m\u001b[1;33m\u001b[0m\u001b[0m\n\u001b[1;32m----> 2\u001b[1;33m \u001b[0mb\u001b[0m \u001b[1;33m=\u001b[0m \u001b[0mnp\u001b[0m\u001b[1;33m.\u001b[0m\u001b[0mzeros\u001b[0m\u001b[1;33m(\u001b[0m\u001b[0mparam_shapes\u001b[0m\u001b[1;33m[\u001b[0m\u001b[1;34m'beta'\u001b[0m\u001b[1;33m]\u001b[0m\u001b[1;33m,\u001b[0m \u001b[0mdtype\u001b[0m\u001b[1;33m=\u001b[0m\u001b[1;34m'float32'\u001b[0m\u001b[1;33m)\u001b[0m\u001b[1;33m\u001b[0m\u001b[0m\n\u001b[0m\u001b[0;32m      3\u001b[0m \u001b[0mg\u001b[0m \u001b[1;33m=\u001b[0m \u001b[0mnp\u001b[0m\u001b[1;33m.\u001b[0m\u001b[0mones\u001b[0m\u001b[1;33m(\u001b[0m\u001b[0mparam_shapes\u001b[0m\u001b[1;33m[\u001b[0m\u001b[1;34m'gamma'\u001b[0m\u001b[1;33m]\u001b[0m\u001b[1;33m,\u001b[0m \u001b[0mdtype\u001b[0m\u001b[1;33m=\u001b[0m\u001b[1;34m'float32'\u001b[0m\u001b[1;33m)\u001b[0m\u001b[1;33m\u001b[0m\u001b[0m\n\u001b[0;32m      4\u001b[0m \u001b[0mfoo\u001b[0m\u001b[1;33m.\u001b[0m\u001b[0mset_model_params\u001b[0m\u001b[1;33m(\u001b[0m\u001b[0mbeta\u001b[0m\u001b[1;33m=\u001b[0m\u001b[0mb\u001b[0m\u001b[1;33m,\u001b[0m \u001b[0mgamma\u001b[0m\u001b[1;33m=\u001b[0m\u001b[0mg\u001b[0m\u001b[1;33m)\u001b[0m\u001b[1;33m\u001b[0m\u001b[0m\n",
      "\u001b[1;31mKeyError\u001b[0m: 'beta'"
     ]
    }
   ],
   "source": [
    "# param_shapes = foo.get_param_shapes('beta', 'gamma')\n",
    "# b = np.zeros(param_shapes['beta'], dtype='float32')\n",
    "# g = np.ones(param_shapes['gamma'], dtype='float32')\n",
    "# foo.set_model_params(beta=b, gamma=g)"
   ]
  },
  {
   "cell_type": "code",
   "execution_count": 1050,
   "metadata": {
    "collapsed": false
   },
   "outputs": [
    {
     "data": {
      "text/plain": [
       "<matplotlib.image.AxesImage at 0x7f77bca2b450>"
      ]
     },
     "execution_count": 1050,
     "metadata": {},
     "output_type": "execute_result"
    },
    {
     "data": {
      "image/png": "[encoded data removed]",
      "text/plain": [
       "<matplotlib.figure.Figure at 0x7f77bfa8b810>"
      ]
     },
     "metadata": {},
     "output_type": "display_data"
    }
   ],
   "source": [
    "extent=[-deg_per_stim/2.,deg_per_stim/2.,deg_per_stim/2.,-deg_per_stim/2.]\n",
    "plt.imshow(foo.rf_layer.make_rf_stack()[-1,:,:],cmap=plt.cm.Reds, interpolation='none', extent=extent)"
   ]
  },
  {
   "cell_type": "code",
   "execution_count": 1051,
   "metadata": {
    "collapsed": true
   },
   "outputs": [],
   "source": [
    "trn_in = {key: value[:-11,:,:,:] for key,value in feature_map_dict.iteritems()}\n",
    "val_in = {key: value[-11:,:,:,:] for key,value in feature_map_dict.iteritems()}\n",
    "trn_out = foo.predicted_activity(*trn_in.values())\n",
    "val_out = foo.predicted_activity(*val_in.values())"
   ]
  },
  {
   "cell_type": "code",
   "execution_count": 1052,
   "metadata": {
    "collapsed": false
   },
   "outputs": [
    {
     "name": "stdout",
     "output_type": "stream",
     "text": [
      "[[ 0.]\n",
      " [ 0.]\n",
      " [ 0.]\n",
      " [ 0.]\n",
      " [ 0.]\n",
      " [ 0.]\n",
      " [ 0.]\n",
      " [ 0.]\n",
      " [ 0.]\n",
      " [ 0.]]\n"
     ]
    }
   ],
   "source": [
    "print foo.loss(np.squeeze(val_out).T, *val_in.values())"
   ]
  },
  {
   "cell_type": "code",
   "execution_count": 1053,
   "metadata": {
    "collapsed": false
   },
   "outputs": [
    {
     "name": "stdout",
     "output_type": "stream",
     "text": [
      "[[  2.39559237e+15]\n",
      " [  2.86052879e+17]\n",
      " [  6.16917399e+15]\n",
      " [  2.55340657e+18]\n",
      " [  4.52541849e+16]\n",
      " [  3.05872178e+17]\n",
      " [  6.67870045e+15]\n",
      " [  1.01723050e+07]\n",
      " [  3.14166292e+16]\n",
      " [  7.62574192e+16]]\n"
     ]
    }
   ],
   "source": [
    "NU_start=np.zeros(shape=(foo.num_voxels, foo.D, foo.num_outputs)).astype('float32')\n",
    "foo.set_model_params(feature_weights=NU_start)\n",
    "# x0_start = 1*np.zeros(shape=(num_voxels)).astype('float32')\n",
    "# y0_start = 1*np.zeros(shape=(num_voxels)).astype('float32')\n",
    "# sig_start = 1*np.ones(shape=(num_voxels)).astype('float32')\n",
    "# foo.set_model_params(rf_center = (x0_start,y0_start), rf_size = sig_start, feature_weights=NU_start)\n",
    "\n",
    "# param_shapes = foo.get_param_shapes('beta', 'gamma')\n",
    "# b = np.zeros(param_shapes['beta'], dtype='float32')\n",
    "# g = np.ones(param_shapes['gamma'], dtype='float32')\n",
    "# foo.set_model_params(beta=b, gamma=g)\n",
    "\n",
    "start_val_err = foo.loss(np.squeeze(val_out).T, *val_in.values())\n",
    "start_trn_err = foo.loss(np.squeeze(trn_out).T, *trn_in.values())\n",
    "print start_trn_err"
   ]
  },
  {
   "cell_type": "code",
   "execution_count": 1054,
   "metadata": {
    "collapsed": false
   },
   "outputs": [
    {
     "data": {
      "text/plain": [
       "<matplotlib.image.AxesImage at 0x7f77bb7faed0>"
      ]
     },
     "execution_count": 1054,
     "metadata": {},
     "output_type": "execute_result"
    },
    {
     "data": {
      "image/png": "[encoded data removed]",
      "text/plain": [
       "<matplotlib.figure.Figure at 0x7f77bc4866d0>"
      ]
     },
     "metadata": {},
     "output_type": "display_data"
    }
   ],
   "source": [
    "extent=[-deg_per_stim/2.,deg_per_stim/2.,deg_per_stim/2.,-deg_per_stim/2.]\n",
    "plt.imshow(foo.rf_layer.make_rf_stack()[-1,:,:],cmap=plt.cm.Reds, interpolation='none', extent=extent)"
   ]
  },
  {
   "cell_type": "code",
   "execution_count": 1055,
   "metadata": {
    "collapsed": false
   },
   "outputs": [
    {
     "name": "stdout",
     "output_type": "stream",
     "text": [
      "will solve for: [rf_a.x0, rf_a.y0, rf_a.sig, beta, gamma, feature_weights]\n"
     ]
    }
   ],
   "source": [
    "# print lasagne.layers.get_all_param_values(foo.fwrf,trainable=True)\n",
    "foo._build_training_kernel(1e-0)"
   ]
  },
  {
   "cell_type": "code",
   "execution_count": 1062,
   "metadata": {
    "collapsed": false
   },
   "outputs": [
    {
     "name": "stdout",
     "output_type": "stream",
     "text": [
      "[[ 300.61328125]\n",
      " [  34.80930328]\n",
      " [  22.4452858 ]\n",
      " [  14.22865105]\n",
      " [  26.59971428]\n",
      " [ 233.33322144]\n",
      " [ 186.52301025]\n",
      " [ 963.64562988]\n",
      " [ 364.03448486]\n",
      " [ 236.4291687 ]]\n"
     ]
    }
   ],
   "source": [
    "stop_val_err,stop_trn_err = foo._descend_and_validate(trn_in,np.squeeze(trn_out).T,val_in,np.squeeze(val_out).T,check_every=10)\n",
    "print stop_trn_err/start_trn_err\n"
   ]
  },
  {
   "cell_type": "code",
   "execution_count": 1065,
   "metadata": {
    "collapsed": false
   },
   "outputs": [
    {
     "data": {
      "image/png": "[encoded data removed]",
      "text/plain": [
       "<matplotlib.figure.Figure at 0x7f77bed66bd0>"
      ]
     },
     "metadata": {},
     "output_type": "display_data"
    }
   ],
   "source": [
    "extent=[-deg_per_stim/2.,deg_per_stim/2.,deg_per_stim/2.,-deg_per_stim/2.]\n",
    "plt.subplot(1,2,1)\n",
    "plt.imshow(foo.rf_layer.make_rf_stack()[-1,:,:],cmap=plt.cm.Reds, interpolation='none', extent=extent)\n",
    "plt.subplot(1,2,2)\n",
    "_=plt.scatter(NU[2,:, 0],foo.get_param_values('feature_weights')['feature_weights'][2,:, 0])\n",
    "_=plt.plot(np.arange(0,1,.10),np.arange(0,1,.10),hold=True)\n",
    "_=plt.axis('equal')"
   ]
  },
  {
   "cell_type": "code",
   "execution_count": 1064,
   "metadata": {
    "collapsed": false
   },
   "outputs": [
    {
     "data": {
      "text/plain": [
       "(10, 135, 1)"
      ]
     },
     "execution_count": 1064,
     "metadata": {},
     "output_type": "execute_result"
    }
   ],
   "source": [
    "NU.shape"
   ]
  },
  {
   "cell_type": "code",
   "execution_count": 1027,
   "metadata": {
    "collapsed": false
   },
   "outputs": [
    {
     "name": "stdout",
     "output_type": "stream",
     "text": [
      "[[  2.75007483e-06]\n",
      " [  5.44622999e-05]\n",
      " [  4.64585992e-06]\n",
      " [  1.47744061e-06]\n",
      " [  3.12452812e-06]\n",
      " [  2.45448831e-07]\n",
      " [  8.94460027e-06]\n",
      " [  3.25691371e-06]\n",
      " [  6.40929898e-07]\n",
      " [  3.96716587e-06]]\n"
     ]
    },
    {
     "data": {
      "image/png": "[encoded data removed]",
      "text/plain": [
       "<matplotlib.figure.Figure at 0x7f77b8974a50>"
      ]
     },
     "metadata": {},
     "output_type": "display_data"
    }
   ],
   "source": [
    "_=plt.scatter(y0,foo.get_param_values('rf_a.y0')['rf_a.y0'])\n",
    "_=plt.plot(np.arange(0,10,.10),np.arange(0,10,.10),hold=True)\n",
    "_=plt.axis('equal')\n",
    "print stop_val_err/start_val_err"
   ]
  },
  {
   "cell_type": "code",
   "execution_count": 823,
   "metadata": {
    "collapsed": false
   },
   "outputs": [
    {
     "data": {
      "text/plain": [
       "0.11138599"
      ]
     },
     "execution_count": 823,
     "metadata": {},
     "output_type": "execute_result"
    }
   ],
   "source": [
    "0.11138599"
   ]
  },
  {
   "cell_type": "code",
   "execution_count": null,
   "metadata": {
    "collapsed": true
   },
   "outputs": [],
   "source": [
    "####===================ORPHANAGE========================="
   ]
  },
  {
   "cell_type": "code",
   "execution_count": 921,
   "metadata": {
    "collapsed": false
   },
   "outputs": [],
   "source": [
    "        \n",
    "#     def _build_trn_pred(self):\n",
    "#         self.trn_pred_expr = lasagne.layers.get_output(self.fwrf)\n",
    "#         #self.trn_pred_func = function(self.input_var_dict.values(), self.trn_pred_expr)\n",
    "    \n",
    "#     def _build_val_pred(self):\n",
    "#         ##this will make predictions using the current normalization params (i.e., since the last call of trn_pred_func)\n",
    "#         self.val_pred_expr = lasagne.layers.get_output(self.fwrf, deterministic='True')\n",
    "#         ##FUNCTION\n",
    "#         self.predicted_activity = function(self.input_var_dict.values(), self.val_pred_expr)\n",
    "        \n",
    "#     def _build_trn_loss(self):\n",
    "#         ##training loss expression: same as above except for the last summing step. so:\n",
    "#         trn_diff = self.voxel_data_tnsr.T[:,:,np.newaxis]-self.trn_pred_expr  ##difference tensor: (V x T x 1) - (V x T x 1) = (V x T x 1)\n",
    "#         self.trn_loss_expr = (trn_diff*trn_diff).sum(axis=1).sum() ##sum-sqaured-diffs tensor: V x 1\n",
    "    \n",
    "#     def _build_val_loss(self): \n",
    "#         ##validation loss\n",
    "#         val_diff = self.voxel_data_tnsr.T[:,:,np.newaxis]-self.val_pred_expr  ##difference tensor: (V x T x 1) - (V x T x 1) = (V x T x 1)\n",
    "#         self.val_loss_expr = (val_diff*val_diff).sum(axis=1) ##sum-sqaured-diffs tensor: V x 1\n",
    "#         ##FUNCTION\n",
    "#         self.loss = function([self.voxel_data_tnsr]+self.input_var_dict.values(), self.val_loss_expr)\n",
    "\n",
    "        \n",
    "        \n",
    "              "
   ]
  },
  {
   "cell_type": "markdown",
   "metadata": {},
   "source": [
    "#### How to build an input layer"
   ]
  },
  {
   "cell_type": "code",
   "execution_count": 49,
   "metadata": {
    "collapsed": false
   },
   "outputs": [],
   "source": [
    "####input shape\n",
    "input_shape = (T,D,S,S)\n",
    "####this tensor stores feature map\n",
    "f_map_0 = tnsr.tensor4('f_map_0',dtype='float32')  ##(T,D,S,S)"
   ]
  },
  {
   "cell_type": "code",
   "execution_count": 51,
   "metadata": {
    "collapsed": true
   },
   "outputs": [],
   "source": [
    "####the lasagne input layer\n",
    "layer_1 = lasagne.layers.InputLayer(input_shape, input_var = f_map_0, name='layer_1')"
   ]
  },
  {
   "cell_type": "markdown",
   "metadata": {},
   "source": [
    "#### Test the rf layer\n",
    "Output will have model-space tensor dimensions. "
   ]
  },
  {
   "cell_type": "code",
   "execution_count": 52,
   "metadata": {
    "collapsed": true
   },
   "outputs": [],
   "source": [
    "G = 48\n",
    "deg_per_stim = 20"
   ]
  },
  {
   "cell_type": "code",
   "execution_count": 53,
   "metadata": {
    "collapsed": false
   },
   "outputs": [],
   "source": [
    "\n",
    "rf_layer = receptive_field_layer(layer_1, G, make_space(S), deg_per_stim)"
   ]
  },
  {
   "cell_type": "markdown",
   "metadata": {},
   "source": [
    "##### see initial stack of rfs -- they are all the same"
   ]
  },
  {
   "cell_type": "code",
   "execution_count": 78,
   "metadata": {
    "collapsed": false
   },
   "outputs": [
    {
     "data": {
      "text/plain": [
       "<matplotlib.image.AxesImage at 0x7f77cf4f4510>"
      ]
     },
     "execution_count": 78,
     "metadata": {},
     "output_type": "execute_result"
    },
    {
     "data": {
      "image/png": "[encoded data removed]",
      "text/plain": [
       "<matplotlib.figure.Figure at 0x7f77ce389250>"
      ]
     },
     "metadata": {},
     "output_type": "display_data"
    }
   ],
   "source": [
    "extent=[-deg_per_stim/2.,deg_per_stim/2.,deg_per_stim/2.,-deg_per_stim/2.]\n",
    "plt.imshow(rf_layer.make_rf_stack()[-1,:,:],cmap=plt.cm.Reds, interpolation='none', extent=extent)"
   ]
  },
  {
   "cell_type": "markdown",
   "metadata": {},
   "source": [
    "##### but now change them, and re-view them\n",
    "NOTE: everytyhing is specified in degrees.\n"
   ]
  },
  {
   "cell_type": "code",
   "execution_count": 15,
   "metadata": {
    "collapsed": false
   },
   "outputs": [
    {
     "data": {
      "text/plain": [
       "<matplotlib.image.AxesImage at 0x7f77cf6cb550>"
      ]
     },
     "execution_count": 15,
     "metadata": {},
     "output_type": "execute_result"
    },
    {
     "data": {
      "image/png": "[encoded data removed]",
      "text/plain": [
       "<matplotlib.figure.Figure at 0x7f77d05f6c90>"
      ]
     },
     "metadata": {},
     "output_type": "display_data"
    }
   ],
   "source": [
    "rf_layer.x0.set_value(-5*np.ones(G).astype('float32'))\n",
    "rf_layer.y0.set_value(5*np.ones(G).astype('float32'))\n",
    "rf_layer.sig.set_value(3*np.ones(G).astype('float32'))\n",
    "plt.imshow(rf_layer.make_rf_stack()[3,:,:],cmap=plt.cm.Reds, interpolation='none', extent=extent)"
   ]
  },
  {
   "cell_type": "markdown",
   "metadata": {},
   "source": [
    "##### compile output function, test shape"
   ]
  },
  {
   "cell_type": "code",
   "execution_count": 16,
   "metadata": {
    "collapsed": false
   },
   "outputs": [],
   "source": [
    "prediction = lasagne.layers.get_output(rf_layer)\n",
    "pred_func = function([layer_1.input_var], prediction)"
   ]
  },
  {
   "cell_type": "code",
   "execution_count": 17,
   "metadata": {
    "collapsed": false
   },
   "outputs": [
    {
     "name": "stdout",
     "output_type": "stream",
     "text": [
      "float32\n",
      "(48, 256, 64)\n"
     ]
    }
   ],
   "source": [
    "outp = pred_func(np.zeros(input_shape).astype('float32'))\n",
    "print outp.dtype\n",
    "print outp.shape"
   ]
  },
  {
   "cell_type": "markdown",
   "metadata": {},
   "source": [
    "##### check out the params"
   ]
  },
  {
   "cell_type": "code",
   "execution_count": 18,
   "metadata": {
    "collapsed": false
   },
   "outputs": [
    {
     "data": {
      "text/plain": [
       "[x0, y0, sig]"
      ]
     },
     "execution_count": 18,
     "metadata": {},
     "output_type": "execute_result"
    }
   ],
   "source": [
    "lasagne.layers.get_all_params(rf_layer)"
   ]
  },
  {
   "cell_type": "markdown",
   "metadata": {},
   "source": [
    "#### Test the activation layer\n",
    "For the gabor model, we sometimes use the log(1+sqrt(x)) transforms. Here's that:"
   ]
  },
  {
   "cell_type": "code",
   "execution_count": 54,
   "metadata": {
    "collapsed": true
   },
   "outputs": [],
   "source": [
    "act_layer = compressive_nonlinearity_layer(rf_layer)"
   ]
  },
  {
   "cell_type": "code",
   "execution_count": 20,
   "metadata": {
    "collapsed": false
   },
   "outputs": [
    {
     "data": {
      "text/plain": [
       "[x0, y0, sig]"
      ]
     },
     "execution_count": 20,
     "metadata": {},
     "output_type": "execute_result"
    }
   ],
   "source": [
    "lasagne.layers.get_all_params(act_layer)"
   ]
  },
  {
   "cell_type": "code",
   "execution_count": 21,
   "metadata": {
    "collapsed": false
   },
   "outputs": [],
   "source": [
    "l_3 = lasagne.layers.get_output(act_layer)\n",
    "l_3_func = function([layer_1.input_var], l_3)"
   ]
  },
  {
   "cell_type": "code",
   "execution_count": 22,
   "metadata": {
    "collapsed": false
   },
   "outputs": [
    {
     "data": {
      "text/plain": [
       "(48, 256, 64)"
      ]
     },
     "execution_count": 22,
     "metadata": {},
     "output_type": "execute_result"
    }
   ],
   "source": [
    "l_3_func(np.zeros(input_shape).astype('float32')).shape"
   ]
  },
  {
   "cell_type": "markdown",
   "metadata": {},
   "source": [
    "#### Normalization layer\n",
    "    pass deterministic=False for training\n",
    "    pass deterministic=True for validation\n",
    "    in our case output shape = (G,T,D), so normalization must integrate over axis=1\n",
    "    this will give mean/stdev/gamma/beta params of shape (G,D)"
   ]
  },
  {
   "cell_type": "code",
   "execution_count": 79,
   "metadata": {
    "collapsed": false
   },
   "outputs": [],
   "source": [
    "norm_layer = lasagne.layers.BatchNormLayer(rf_layer, axes=(1,))"
   ]
  },
  {
   "cell_type": "code",
   "execution_count": 80,
   "metadata": {
    "collapsed": false
   },
   "outputs": [
    {
     "name": "stdout",
     "output_type": "stream",
     "text": [
      "(48, 64)\n",
      "(48, 64)\n",
      "(48, 64)\n",
      "(48, 64)\n"
     ]
    }
   ],
   "source": [
    "print norm_layer.mean.get_value().shape\n",
    "print norm_layer.inv_std.get_value().shape\n",
    "print norm_layer.gamma.get_value().shape\n",
    "print norm_layer.beta.get_value().shape"
   ]
  },
  {
   "cell_type": "markdown",
   "metadata": {},
   "source": [
    "##### so everytime you call the layer_4 output function the mean/stdev params are updated.\n",
    "but if you call with deterministic='True', the mean/stdev are not updated, they are fixed."
   ]
  },
  {
   "cell_type": "code",
   "execution_count": 82,
   "metadata": {
    "collapsed": true
   },
   "outputs": [],
   "source": [
    "norm_pred_expr = lasagne.layers.get_output(norm_layer)\n",
    "norm_pred_func = function([layer_1.input_var], norm_pred_expr)"
   ]
  },
  {
   "cell_type": "code",
   "execution_count": 88,
   "metadata": {
    "collapsed": true
   },
   "outputs": [],
   "source": [
    "x = np.random.random(size=input_shape).astype('float32')\n",
    "_=norm_pred_func(x)\n",
    "before= norm_layer.mean.get_value()\n",
    "for _ in range(10):\n",
    "    x = np.random.random(size=input_shape).astype('float32')\n",
    "    um=norm_pred_func(x)\n",
    "after = norm_layer.mean.get_value()"
   ]
  },
  {
   "cell_type": "code",
   "execution_count": 89,
   "metadata": {
    "collapsed": false
   },
   "outputs": [
    {
     "data": {
      "text/plain": [
       "<matplotlib.collections.PathCollection at 0x7f778f3a3c90>"
      ]
     },
     "execution_count": 89,
     "metadata": {},
     "output_type": "execute_result"
    },
    {
     "data": {
      "image/png": "[encoded data removed]",
      "text/plain": [
       "<matplotlib.figure.Figure at 0x7f778f13f690>"
      ]
     },
     "metadata": {},
     "output_type": "display_data"
    }
   ],
   "source": [
    "plt.scatter(before,after)\n",
    "# lims = [np.min(after), np.max(after)]\n",
    "# plt.xlim(lims)\n",
    "# plt.ylim(lims)"
   ]
  },
  {
   "cell_type": "markdown",
   "metadata": {},
   "source": [
    "...call layer_4 output function with deterministic='Trure' in a loop, and means are updated stay fixed"
   ]
  },
  {
   "cell_type": "code",
   "execution_count": 90,
   "metadata": {
    "collapsed": true
   },
   "outputs": [],
   "source": [
    "norm_pred_expr_fixed = lasagne.layers.get_output(norm_layer, deterministic = 'True')\n",
    "norm_pred_func_fixed = function([layer_1.input_var], norm_pred_expr_fixed)"
   ]
  },
  {
   "cell_type": "code",
   "execution_count": 91,
   "metadata": {
    "collapsed": false,
    "scrolled": true
   },
   "outputs": [
    {
     "data": {
      "text/plain": [
       "<matplotlib.collections.PathCollection at 0x7f77cc20d910>"
      ]
     },
     "execution_count": 91,
     "metadata": {},
     "output_type": "execute_result"
    },
    {
     "data": {
      "image/png": "[encoded data removed]",
      "text/plain": [
       "<matplotlib.figure.Figure at 0x7f77cc32d290>"
      ]
     },
     "metadata": {},
     "output_type": "display_data"
    }
   ],
   "source": [
    "before= norm_layer.mean.get_value()\n",
    "for _ in range(10):\n",
    "    x = np.random.random(size=input_shape).astype('float32')\n",
    "    _=norm_pred_func_fixed(x)\n",
    "after = norm_layer.mean.get_value()\n",
    "plt.scatter(before,after)"
   ]
  },
  {
   "cell_type": "markdown",
   "metadata": {},
   "source": [
    "#### Feature weights layer\n"
   ]
  },
  {
   "cell_type": "code",
   "execution_count": 92,
   "metadata": {
    "collapsed": true
   },
   "outputs": [],
   "source": [
    "layer_5 = feature_weights_layer(norm_layer,1)"
   ]
  },
  {
   "cell_type": "code",
   "execution_count": 93,
   "metadata": {
    "collapsed": true
   },
   "outputs": [],
   "source": [
    "layer_5_pred_expr = lasagne.layers.get_output(layer_5)"
   ]
  },
  {
   "cell_type": "code",
   "execution_count": 94,
   "metadata": {
    "collapsed": true
   },
   "outputs": [],
   "source": [
    "layer_5_pred_func = function([layer_1.input_var],layer_5_pred_expr)"
   ]
  },
  {
   "cell_type": "code",
   "execution_count": 95,
   "metadata": {
    "collapsed": false
   },
   "outputs": [
    {
     "data": {
      "text/plain": [
       "(48, 256, 1)"
      ]
     },
     "execution_count": 95,
     "metadata": {},
     "output_type": "execute_result"
    }
   ],
   "source": [
    "\n",
    "layer_5_pred_func(x).shape"
   ]
  },
  {
   "cell_type": "markdown",
   "metadata": {},
   "source": [
    "#### Putting it all together\n",
    "Usually we'll have multiple features spaces, where each feature space is a stack of feature maps with the same \n",
    "resolution.  \n",
    "Because resolution can vary, we'll need construct separate rf layers for each feature space.  \n",
    "Then, we can merge the feature spaces, and apply whatever normalization, nonlinearity, etc. we want before apply the feature weights."
   ]
  },
  {
   "cell_type": "markdown",
   "metadata": {},
   "source": [
    "##### construct feature space dictionary"
   ]
  },
  {
   "cell_type": "code",
   "execution_count": 166,
   "metadata": {
    "collapsed": true
   },
   "outputs": [],
   "source": [
    "feature_map_names = ['a','b','c']\n",
    "feature_map_dict = {}\n",
    "feature_depths = [12, 45, 78]\n",
    "for fmap,fdep in zip(feature_map_names,feature_depths):\n",
    "    feature_map_dict[fmap] = np.random.random(size=(T,fdep,S,S)).astype('float32')\n",
    "\n",
    "num_rfs = 10"
   ]
  },
  {
   "cell_type": "code",
   "execution_count": 167,
   "metadata": {
    "collapsed": false
   },
   "outputs": [],
   "source": [
    "##construct model space\n",
    "input_var_dict, model_space = make_fwrf_model_space(feature_map_dict, num_rfs, deg_per_stim)"
   ]
  },
  {
   "cell_type": "markdown",
   "metadata": {},
   "source": [
    "test the model space part"
   ]
  },
  {
   "cell_type": "code",
   "execution_count": 168,
   "metadata": {
    "collapsed": false
   },
   "outputs": [
    {
     "name": "stdout",
     "output_type": "stream",
     "text": [
      "(256, 64, 125, 125)\n"
     ]
    }
   ],
   "source": [
    "print model_space.get_output_shape_for([input_shape])\n",
    "\n",
    "model_space_pred_expr = lasagne.layers.get_output(model_space)\n",
    "model_space_pred_func = function(input_var_dict.values(), model_space_pred_expr)"
   ]
  },
  {
   "cell_type": "code",
   "execution_count": 172,
   "metadata": {
    "collapsed": false
   },
   "outputs": [
    {
     "data": {
      "text/plain": [
       "[rf_a.x0, rf_a.y0, rf_a.sig]"
      ]
     },
     "execution_count": 172,
     "metadata": {},
     "output_type": "execute_result"
    }
   ],
   "source": [
    "lasagne.layers.get_all_params(model_space,rf_param=True)"
   ]
  },
  {
   "cell_type": "raw",
   "metadata": {},
   "source": [
    "important: note how we need to unpack the argument list."
   ]
  },
  {
   "cell_type": "code",
   "execution_count": 173,
   "metadata": {
    "collapsed": false
   },
   "outputs": [
    {
     "name": "stdout",
     "output_type": "stream",
     "text": [
      "(10, 256, 135)\n",
      "135\n"
     ]
    }
   ],
   "source": [
    "print model_space_pred_func(*feature_map_dict.values()).shape\n",
    "print sum(feature_depths)"
   ]
  },
  {
   "cell_type": "markdown",
   "metadata": {},
   "source": [
    "check the parameters"
   ]
  },
  {
   "cell_type": "markdown",
   "metadata": {},
   "source": [
    "### Two ways to train"
   ]
  },
  {
   "cell_type": "markdown",
   "metadata": {},
   "source": [
    "**Method 1**: Grid search over many rfs for each voxel. In this case we run the model space+act+norm network to construct a model-space tensor for the training and testing data. Then we construct a simple linear network where we just apply the feature weights to the mst. We do this to avoid having to re-apply the rf models to the feature maps each time we want to make a prediction. The gradient of loss is now w.r.t. to the feature weights only, but the training procedure needs to include a mechanism for selecting the best rf for each voxel."
   ]
  },
  {
   "cell_type": "code",
   "execution_count": 102,
   "metadata": {
    "collapsed": true
   },
   "outputs": [],
   "source": [
    "##define the model space network\n",
    "model_space = compressive_nonlinearity_layer(model_space)\n",
    "model_space = lasagne.layers.BatchNormLayer(model_space, axes=(1,))"
   ]
  },
  {
   "cell_type": "code",
   "execution_count": 103,
   "metadata": {
    "collapsed": true
   },
   "outputs": [],
   "source": [
    "##define the prediction expression / function\n",
    "model_space_pred_expr = lasagne.layers.get_output(model_space, deterministic='False')\n",
    "model_space_pred_func = function(input_var_dict.values(), model_space_pred_expr)"
   ]
  },
  {
   "cell_type": "code",
   "execution_count": 107,
   "metadata": {
    "collapsed": false
   },
   "outputs": [
    {
     "name": "stdout",
     "output_type": "stream",
     "text": [
      "(10, 256, 135)\n"
     ]
    }
   ],
   "source": [
    "##construct the mst\n",
    "mst = model_space_pred_func(*feature_map_dict.values())\n",
    "print mst.shape"
   ]
  },
  {
   "cell_type": "code",
   "execution_count": 108,
   "metadata": {
    "collapsed": true
   },
   "outputs": [],
   "source": [
    "##now construct full model: the input is the model space tensor\n",
    "mst_tnsr = tnsr.tensor3('mst')\n",
    "fwrf = lasagne.layers.InputLayer((mst.shape[0],None,mst.shape[-1]), input_var=mst_tnsr,name='fwrf')\n",
    "fwrf = feature_weights_layer(fwrf,V)"
   ]
  },
  {
   "cell_type": "code",
   "execution_count": 109,
   "metadata": {
    "collapsed": true
   },
   "outputs": [],
   "source": [
    "##construct prediction expr: (G,T,V)\n",
    "fwrf_pred_expr = lasagne.layers.get_output(fwrf)"
   ]
  },
  {
   "cell_type": "code",
   "execution_count": 110,
   "metadata": {
    "collapsed": true
   },
   "outputs": [],
   "source": [
    "##loss expression: we already have all this stuff from before\n",
    "voxel_data_tnsr = tnsr.matrix('voxel_data_tnsr')  ##voxel data tensor: T x V\n",
    "diff = voxel_data_tnsr-fwrf_pred_expr  ##difference tensor: (T x V) - (G x T x V) = (G x T x V)\n",
    "sq_diff = (diff*diff).sum(axis=1) ##sum-sqaured-diffs tensor: G x V\n",
    "\n",
    "\n",
    "fwrf_loss_expr = sq_diff.sum()  ##<<this sum is critical. theano knows not to differentiate w.r.t params if deriv. is always 0"
   ]
  },
  {
   "cell_type": "code",
   "execution_count": 111,
   "metadata": {
    "collapsed": true
   },
   "outputs": [],
   "source": [
    "##update rule\n",
    "learning_rate = 0.1\n",
    "params = lasagne.layers.get_all_params(fwrf)\n",
    "fwrf_update = lasagne.updates.sgd(fwrf_loss_expr, params, learning_rate)"
   ]
  },
  {
   "cell_type": "code",
   "execution_count": 112,
   "metadata": {
    "collapsed": true
   },
   "outputs": [],
   "source": [
    "##training kernel: returns loss, updates params\n",
    "trn_kernel = function([mst_tnsr,voxel_data_tnsr], fwrf_loss_expr, updates=fwrf_update)"
   ]
  },
  {
   "cell_type": "code",
   "execution_count": 113,
   "metadata": {
    "collapsed": true
   },
   "outputs": [],
   "source": [
    "##validation kernel: returns predictions and loss, leaves params alone\n",
    "val_kernel = function([mst_tnsr, voxel_data_tnsr], [fwrf_pred_expr, fwrf_loss_expr])"
   ]
  },
  {
   "cell_type": "code",
   "execution_count": 117,
   "metadata": {
    "collapsed": false
   },
   "outputs": [
    {
     "name": "stdout",
     "output_type": "stream",
     "text": [
      "5.03935089508e+14\n"
     ]
    }
   ],
   "source": [
    "neural_data = np.random.random(size=(T,V)).astype('float32')\n",
    "print trn_kernel(mst, neural_data)"
   ]
  },
  {
   "cell_type": "code",
   "execution_count": 118,
   "metadata": {
    "collapsed": false
   },
   "outputs": [
    {
     "name": "stdout",
     "output_type": "stream",
     "text": [
      "(10, 256, 100)\n",
      "3.93386847789e+24\n"
     ]
    }
   ],
   "source": [
    "pred,loss = val_kernel(mst, neural_data)\n",
    "print pred.shape\n",
    "print loss"
   ]
  },
  {
   "cell_type": "code",
   "execution_count": null,
   "metadata": {
    "collapsed": true
   },
   "outputs": [],
   "source": [
    "##training proc: pseudo-code\n",
    "# val_in, val_out = get_val_data(mst)\n",
    "# for trn_in, trn_out in batch_generator(mst):\n",
    "#     trn_loss = trn_kernel(trn_in, trn_out)\n",
    "#     _,val_loss = val_kernel(val_in,val_out) ##don't really care about val_pred here\n",
    "#     if val_loss is less_than_it_was:\n",
    "#         rf_idx = select_best_rf(fwrf)\n",
    "#         NU = select_best_weights(fwrf)\n",
    "#     if val_loss is too_big:\n",
    "#         break\n",
    "# new_fwrf = make_best_model(rf_idx, NU)"
   ]
  },
  {
   "cell_type": "markdown",
   "metadata": {},
   "source": [
    "**Method 2**: Gradient descent on rf parameters. In this case we optimize one rf per voxel using gradient descent. We build the full network and take gradients w.r.t. both the mean/size of each voxel's rf and the feature weights. "
   ]
  },
  {
   "cell_type": "code",
   "execution_count": 174,
   "metadata": {
    "collapsed": true
   },
   "outputs": [],
   "source": [
    "##Construct the full model network\n",
    "##add activation\n",
    "fwrf = compressive_nonlinearity_layer(model_space)\n",
    "\n",
    "##add normalization\n",
    "fwrf = lasagne.layers.BatchNormLayer(fwrf, axes=(1,))\n",
    "\n",
    "##add feature layer\n",
    "num_outputs=1\n",
    "fwrf = feature_weights_layer(fwrf,num_outputs)"
   ]
  },
  {
   "cell_type": "code",
   "execution_count": 175,
   "metadata": {
    "collapsed": false
   },
   "outputs": [],
   "source": [
    "##prediction expression with update of normalization params: ##V x T x 1\n",
    "trn_pred_expr = lasagne.layers.get_output(fwrf)\n",
    "# trn_pred_func = function(input_var_dict.values(), trn_pred_expr)\n",
    "\n",
    "##this will make predictions using the current normalization params (i.e., since the last call of trn_pred_func)\n",
    "val_pred_expr = lasagne.layers.get_output(fwrf, deterministic='True')\n",
    "# val_pred_func = function(input_var_dict.values(), val_pred_expr)"
   ]
  },
  {
   "cell_type": "code",
   "execution_count": 176,
   "metadata": {
    "collapsed": true
   },
   "outputs": [],
   "source": [
    "##voxel data needed for loss\n",
    "voxel_data_tnsr = tnsr.matrix('voxel_data_tnsr')  ##voxel data tensor: (T x V)\n",
    "\n",
    "##training loss expression: same as above except for the last summing step. so:\n",
    "trn_diff = voxel_data_tnsr.T[:,:,np.newaxis]-trn_pred_expr  ##difference tensor: (V x T x 1) - (V x T x 1) = (V x T x 1)\n",
    "trn_loss = (trn_diff*trn_diff).sum(axis=1) ##sum-sqaured-diffs tensor: V x 1\n",
    "\n",
    "##validation loss\n",
    "val_diff = voxel_data_tnsr.T[:,:,np.newaxis]-val_pred_expr  ##difference tensor: (V x T x 1) - (V x T x 1) = (V x T x 1)\n",
    "val_loss = (val_diff*val_diff).sum(axis=1) ##sum-sqaured-diffs tensor: V x 1"
   ]
  },
  {
   "cell_type": "code",
   "execution_count": 187,
   "metadata": {
    "collapsed": false
   },
   "outputs": [
    {
     "data": {
      "text/plain": [
       "[rf_a.x0, rf_a.y0, rf_a.sig, beta, gamma, feature_weights]"
      ]
     },
     "execution_count": 187,
     "metadata": {},
     "output_type": "execute_result"
    }
   ],
   "source": [
    "lasagne.layers.get_all_params(fwrf,trainable=True)"
   ]
  },
  {
   "cell_type": "code",
   "execution_count": 178,
   "metadata": {
    "collapsed": false
   },
   "outputs": [],
   "source": [
    "##-----check the gradients\n",
    "fw_grad = tnsr.grad(trn_loss.sum(),fwrf.NU)\n",
    "rf_grad = tnsr.grad(trn_loss.sum(),lasagne.layers.get_all_params(fwrf,rf_param=True))\n",
    "\n",
    "\n",
    "##functionalize\n",
    "fw_grad_func = function([voxel_data_tnsr]+input_var_dict.values(), fw_grad)\n",
    "rf_grad_func = function([voxel_data_tnsr]+input_var_dict.values(), rf_grad)"
   ]
  },
  {
   "cell_type": "code",
   "execution_count": 190,
   "metadata": {
    "collapsed": true
   },
   "outputs": [],
   "source": [
    "encoding_grad = tnsr.grad(trn_loss.sum(),lasagne.layers.get_all_params(fwrf,trainable=True))\n",
    "encoding_grad_func = function([voxel_data_tnsr]+input_var_dict.values(), encoding_grad)"
   ]
  },
  {
   "cell_type": "code",
   "execution_count": 198,
   "metadata": {
    "collapsed": false
   },
   "outputs": [
    {
     "name": "stdout",
     "output_type": "stream",
     "text": [
      "(10, 135, 1)\n"
     ]
    }
   ],
   "source": [
    "print fw_grad_func(neural_data,*feature_map_dict.values()).shape"
   ]
  },
  {
   "cell_type": "code",
   "execution_count": 179,
   "metadata": {
    "collapsed": false
   },
   "outputs": [],
   "source": [
    "neural_data = np.random.random(size=(T,num_rfs)).astype('float32')"
   ]
  },
  {
   "cell_type": "code",
   "execution_count": 193,
   "metadata": {
    "collapsed": true
   },
   "outputs": [],
   "source": [
    "grads= encoding_grad_func(neural_data,*feature_map_dict.values())"
   ]
  },
  {
   "cell_type": "code",
   "execution_count": 197,
   "metadata": {
    "collapsed": false
   },
   "outputs": [
    {
     "data": {
      "text/plain": [
       "(10, 135, 1)"
      ]
     },
     "execution_count": 197,
     "metadata": {},
     "output_type": "execute_result"
    }
   ],
   "source": [
    "grads[-1].shape"
   ]
  },
  {
   "cell_type": "code",
   "execution_count": 182,
   "metadata": {
    "collapsed": false
   },
   "outputs": [
    {
     "data": {
      "text/plain": [
       "[array([ 0.,  0.,  0.,  0.,  0.,  0.,  0.,  0.,  0.,  0.], dtype=float32),\n",
       " array([ 0.,  0.,  0.,  0.,  0.,  0.,  0.,  0.,  0.,  0.], dtype=float32),\n",
       " array([ 0.,  0.,  0.,  0.,  0.,  0.,  0.,  0.,  0.,  0.], dtype=float32)]"
      ]
     },
     "execution_count": 182,
     "metadata": {},
     "output_type": "execute_result"
    }
   ],
   "source": [
    "rf_grad_func(neural_data,*feature_map_dict.values())"
   ]
  },
  {
   "cell_type": "code",
   "execution_count": 199,
   "metadata": {
    "collapsed": false
   },
   "outputs": [],
   "source": [
    "##update rule\n",
    "learning_rate = 0.1\n",
    "params = lasagne.layers.get_all_params(fwrf,trainable=True)\n",
    "fwrf_update = lasagne.updates.sgd(trn_loss.sum(),params,learning_rate)"
   ]
  },
  {
   "cell_type": "code",
   "execution_count": 200,
   "metadata": {
    "collapsed": true
   },
   "outputs": [],
   "source": [
    "##training kernel\n",
    "trn_kernel = function(input_var_dict.values()+[voxel_data_tnsr], trn_loss, updates=fwrf_update)"
   ]
  },
  {
   "cell_type": "code",
   "execution_count": 201,
   "metadata": {
    "collapsed": true
   },
   "outputs": [],
   "source": [
    "##validation kernel\n",
    "val_kernel = function(input_var_dict.values()+[voxel_data_tnsr], [val_pred_expr,val_loss])"
   ]
  },
  {
   "cell_type": "code",
   "execution_count": null,
   "metadata": {
    "collapsed": false
   },
   "outputs": [],
   "source": [
    "##training proc: pseudo-code\n",
    "# val_in, val_out = get_val_data(mst)\n",
    "# for trn_in, trn_out in batch_generator(mst):\n",
    "#     trn_loss = trn_kernel(trn_in, trn_out)\n",
    "#     _,val_loss = val_kernel(val_in,val_out) ##don't really care about val_pred here\n",
    "#     if val_loss is less_than_it_was:\n",
    "#         NU = lasagne.layers.get_param_values(fwrf)[-1]  ##<<something like this\n",
    "#     if val_loss is too_big:\n",
    "#         break\n",
    "# new_fwrf = make_best_model(NU)"
   ]
  },
  {
   "cell_type": "markdown",
   "metadata": {},
   "source": [
    "### Decoding\n",
    "uses \"new_fwrf\" resulting from one of the two training methods.\n",
    "How to treat input layer?\n",
    "Link input to a shared variable? Probably a bad idea.\n",
    "Create a feature map layer that has a shared variable param? When building the \"new_fwrf\", make a decoding version with this feature map layer at the front?\n",
    "Or: just dont' use shared variable here...probably the best idea."
   ]
  },
  {
   "cell_type": "code",
   "execution_count": 206,
   "metadata": {
    "collapsed": true
   },
   "outputs": [],
   "source": [
    "decoding_pred_expr = lasagne.layers.get_output(fwrf, deterministic='True') ##V x T x 1\n",
    "target_activity = tnsr.matrix('target_activity')  #T x V\n",
    "decoding_loss = val_loss.sum()"
   ]
  },
  {
   "cell_type": "code",
   "execution_count": 208,
   "metadata": {
    "collapsed": false
   },
   "outputs": [],
   "source": [
    "##apparently, the input_var can't be share variable, so we'll have to do updates explicitly\n",
    "decoding_grad = tnsr.grad(decoding_loss,wrt=input_var_dict.values())\n",
    "decoding_grad_func = function([voxel_data_tnsr]+input_var_dict.values(), decoding_grad)"
   ]
  },
  {
   "cell_type": "code",
   "execution_count": 215,
   "metadata": {
    "collapsed": true
   },
   "outputs": [],
   "source": [
    "decodeable_pattern = np.random.random(size=(T,num_rfs)).astype('float32')"
   ]
  },
  {
   "cell_type": "code",
   "execution_count": 216,
   "metadata": {
    "collapsed": false,
    "scrolled": true
   },
   "outputs": [],
   "source": [
    "d_grad = decoding_grad_func(decodeable_pattern, *feature_map_dict.values())"
   ]
  },
  {
   "cell_type": "code",
   "execution_count": 217,
   "metadata": {
    "collapsed": false
   },
   "outputs": [
    {
     "data": {
      "text/plain": [
       "3"
      ]
     },
     "execution_count": 217,
     "metadata": {},
     "output_type": "execute_result"
    }
   ],
   "source": [
    "len(d_grad)"
   ]
  },
  {
   "cell_type": "code",
   "execution_count": 220,
   "metadata": {
    "collapsed": false
   },
   "outputs": [],
   "source": [
    "foo = shared(np.ones((2,2)))"
   ]
  },
  {
   "cell_type": "code",
   "execution_count": 225,
   "metadata": {
    "collapsed": false
   },
   "outputs": [
    {
     "data": {
      "text/plain": [
       "'fwrf_model_space'"
      ]
     },
     "execution_count": 225,
     "metadata": {},
     "output_type": "execute_result"
    }
   ],
   "source": [
    "model_space.name"
   ]
  },
  {
   "cell_type": "code",
   "execution_count": null,
   "metadata": {
    "collapsed": true
   },
   "outputs": [],
   "source": []
  }
 ],
 "metadata": {
  "kernelspec": {
   "display_name": "Python 2",
   "language": "python",
   "name": "python2"
  },
  "language_info": {
   "codemirror_mode": {
    "name": "ipython",
    "version": 2
   },
   "file_extension": ".py",
   "mimetype": "text/x-python",
   "name": "python",
   "nbconvert_exporter": "python",
   "pygments_lexer": "ipython2",
   "version": "2.7.11"
  }
 },
 "nbformat": 4,
 "nbformat_minor": 0
}
