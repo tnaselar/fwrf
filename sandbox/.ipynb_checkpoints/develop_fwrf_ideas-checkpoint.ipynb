{
 "cells": [
  {
   "cell_type": "markdown",
   "metadata": {},
   "source": [
    "# Original class definitions + unit tests"
   ]
  },
  {
   "cell_type": "code",
   "execution_count": 1,
   "metadata": {
    "collapsed": false
   },
   "outputs": [
    {
     "name": "stderr",
     "output_type": "stream",
     "text": [
      "Using gpu device 0: GeForce GTX TITAN X (CNMeM is disabled, cuDNN not available)\n"
     ]
    }
   ],
   "source": [
    "import lasagne\n",
    "import numpy as np\n",
    "import matplotlib.pyplot as plt\n",
    "import unittest\n",
    "import string\n",
    "from types import GeneratorType\n",
    "from theano import tensor as tnsr\n",
    "from theano import function, shared\n",
    "from hrf_fitting.src.feature_weighted_rf_models import receptive_fields, make_rf_table\n",
    "from hrf_fitting.src.features import make_space"
   ]
  },
  {
   "cell_type": "code",
   "execution_count": 2,
   "metadata": {
    "collapsed": false
   },
   "outputs": [],
   "source": [
    "%load_ext autoreload\n",
    "%autoreload 2\n",
    "%matplotlib inline"
   ]
  },
  {
   "cell_type": "markdown",
   "metadata": {},
   "source": [
    "### Utilities"
   ]
  },
  {
   "cell_type": "code",
   "execution_count": null,
   "metadata": {
    "collapsed": true
   },
   "outputs": [],
   "source": [
    "##convenience functions for getting/setting params by name\n",
    "\n",
    "def get_model_params_names(l_model):\n",
    "    '''\n",
    "    Return list of names of all parameters (shared variables)\n",
    "    '''\n",
    "    p_names = [shared_var.name for shared_var in lasagne.layers.get_all_params(l_model)]\n",
    "    return p_names\n",
    "\n",
    "def set_named_model_params(l_model,**kwargs):\n",
    "    '''\n",
    "    set_named_model_params(lasagne_model, param1=param1_value, ...)\n",
    "    sets the values of all named params. uses theano shared variable method \"set_value()\"\n",
    "    returns nothing, modifies the l_model in-place.\n",
    "    '''\n",
    "    for shared_var in lasagne.layers.get_all_params(l_model):\n",
    "        if shared_var.name in kwargs.keys():\n",
    "            shared_var.set_value(kwargs[shared_var.name])\n",
    "\n",
    "def get_named_param_shapes(l_model, *args):\n",
    "    \"\"\"\n",
    "    get_named_param_shapes(l_model, 'param1',...)\n",
    "    \n",
    "    returns dictionary of name/shape-tuple pairs\n",
    "    \n",
    "    \"\"\"\n",
    "    param_shape_dict = {}\n",
    "    for shared_var in lasagne.layers.get_all_params(l_model):\n",
    "        if shared_var.name in args:\n",
    "            try:\n",
    "                param_shape_dict[shared_var.name] = shared_var.get_value().shape\n",
    "                print 'parameter %s has shape %s' %(shared_var.name, param_shape_dict[shared_var.name])\n",
    "            except AttributeError:\n",
    "                print 'no shape attribute available for %s' %(shared_var.name)\n",
    "    return param_shape_dict    \n",
    "\n",
    "\n",
    "def get_named_params(l_model, *args):\n",
    "    \"\"\"\n",
    "    get_named_params(l_model, 'param1',...)\n",
    "    \n",
    "    return dictionary of name/theano-shared-variable pairs.\n",
    "    \n",
    "    if you modify values of the returned shared variables, you will modify the values\n",
    "    of the corresponding parameters attached to l_model.\n",
    "    \"\"\"\n",
    "    param_value_dict = {}\n",
    "    for shared_var in lasagne.layers.get_all_params(l_model):\n",
    "        if shared_var.name in args:\n",
    "            param_value_dict[shared_var.name] = shared_var\n",
    "    return param_value_dict\n",
    " "
   ]
  },
  {
   "cell_type": "markdown",
   "metadata": {
    "collapsed": false
   },
   "source": [
    "### Layers"
   ]
  },
  {
   "cell_type": "code",
   "execution_count": 5,
   "metadata": {
    "collapsed": false
   },
   "outputs": [],
   "source": [
    "##TODO: GENERALIZE SO NOT COMMITTED TO GAUSSIAN RF MODEL\n",
    "##TODO: CREATE AN \"RF GRID\" CLASS TO PASS TO THIS.\n",
    "\n",
    "class receptive_field_layer(lasagne.layers.Layer):\n",
    "    '''\n",
    "    receptive_field_layer(incoming, num_voxels, (X_grid, Y_grid), deg_per_stim, x0=None, y0=None, sig=None)\n",
    "    \n",
    "    --inputs\n",
    "    incoming ~ should be an input layer with (T,D,S,S) input_var tensor4\n",
    "    \n",
    "    num_voxels  ~ V\n",
    "    \n",
    "    (X_grid, Y_grid) ~ numpy matrices of spatial 2D grid specified in pixels. output \"make_space\" or np.meshgrid\n",
    "    \n",
    "    when x0,y0,sig=None initializes each rf with (x0,y0)=(0,0), stdev = 1. otherwise, can initialize with a theano shared variable or numpy array\n",
    "    \n",
    "    creates a stack of 2D gaussian rf blobs. The stack has dimensions (V,S,S). just call \"make_rf_stack()\"\n",
    "    \n",
    "    application gives a tensor of shape (T,D,V) \n",
    "    \n",
    "    --attributes\n",
    "    params are [x0, y0, sig], which are the (x,y) coors and standard dev., resp., of the gaussian rfs\n",
    "    for some set of voxels\n",
    "    \n",
    "    make_rf_stack() will construct a stack of visualizable rf's\n",
    "    '''    \n",
    "    def __init__(self, incoming, num_voxels, space_grid, deg_per_stim, x0=None, y0=None, sig=None, dtype='float32', **kwargs):\n",
    "        super(receptive_field_layer, self).__init__(incoming, **kwargs)  ##this will give us an \"input_shape\" attribute\n",
    "        self.S = self.input_shape[-1]\n",
    "        self.V = num_voxels\n",
    "        \n",
    "        self.pix_per_deg = self.S * (1./deg_per_stim)  ##this will convert into pixels\n",
    "        self.Xm = shared(space_grid[0].astype(dtype))  ##explicit casting. is there a better way to do this?\n",
    "        self.Ym = shared(space_grid[1].astype(dtype))        \n",
    "        \n",
    "        if x0 is not None:\n",
    "            self.x0 = self.add_param(x0,(self.V,), name='x0',rf_param=True,x0=True)\n",
    "        else:\n",
    "            self.x0 = self.add_param(np.zeros(self.V,dtype=dtype),(self.V,), name='x0',rf_param=True,x0=True)\n",
    "        \n",
    "        if y0 is not None:\n",
    "            self.y0 = self.add_param(y0,(self.V,), name='y0',rf_param=True,y0=True)\n",
    "        else:\n",
    "            self.y0 = self.add_param(np.zeros(self.V,dtype=dtype),(self.V,), name='y0',rf_param=True,y0=True)\n",
    "        \n",
    "        if sig is not None:\n",
    "            self.sig = self.add_param(sig,(self.V,), name='sig',rf_param=True,sig=True) \n",
    "        else:\n",
    "            self.sig = self.add_param(np.ones(self.V,dtype=dtype),(self.V,), name='sig',rf_param=True,sig=True) \n",
    "        \n",
    "        \n",
    "\n",
    "        \n",
    "        \n",
    "        ##we put the pix_per_deg conversion here becuase x0,y0,sig will be shared across feature spaces\n",
    "        #this expression has shape (V,S,S)\n",
    "        self.gauss_expr = ((1. / 2*np.pi*(self.sig[:,np.newaxis,np.newaxis]*self.pix_per_deg)**2)\n",
    "                           *tnsr.exp(-((self.Xm[np.newaxis,:,:]-self.x0[:,np.newaxis,np.newaxis]*self.pix_per_deg)**2\n",
    "                                       + (self.Ym[np.newaxis,:,:]-self.y0[:, np.newaxis,np.newaxis]*self.pix_per_deg)**2)\n",
    "                                     /(2*(self.sig[:,np.newaxis,np.newaxis]*self.pix_per_deg)**2)))\n",
    "        \n",
    "        self.make_rf_stack = function([],self.gauss_expr)\n",
    "        \n",
    "    \n",
    "    #T,D,S,S x V,S,S --> T,D,V\n",
    "    def get_output_for(self, input, **kwargs):\n",
    "        return tnsr.tensordot(input, self.gauss_expr, axes=[[2,3],[1,2]])\n",
    "    \n",
    "    def get_output_shape_for(self, input_shape): ##(T,D,V)\n",
    "        return (input_shape[0], input_shape[1], self.V)\n",
    "    \n",
    "    def set_value_for_voxel(self, voxel_idx=None, x0=None, y0=None, sig=None):\n",
    "        if x0 is not None: ##we assume the shared variable has already been created and registered\n",
    "            x0_temp = self.x0.get_value()\n",
    "            x0_temp[voxel_idx] = x0\n",
    "            self.x0.set_value(x0_temp)\n",
    "        if y0 is not None:\n",
    "            y0_temp = self.y0.get_value()\n",
    "            y0_temp[voxel_idx] = y0\n",
    "            self.y0.set_value(y0_temp)\n",
    "        if sig is not None:\n",
    "            sig_temp = self.sig.get_value()\n",
    "            sig_temp[voxel_idx] = sig\n",
    "            self.sig.set_value(sig_temp)\n",
    "        \n",
    "    \n",
    "        \n",
    "\n",
    "class compressive_nonlinearity_layer(lasagne.layers.Layer):\n",
    "    '''\n",
    "    a compressive function used in a previous publication. works well.\n",
    "    requires all inputs to be positive, BUT DOES NOT CHECK!\n",
    "    computes elementwise log(1+sqrt(input))\n",
    "    '''\n",
    "    def get_output_for(self, input, **kwargs):\n",
    "        return tnsr.log(1+tnsr.sqrt(input))\n",
    "    \n",
    "\n",
    "class normalization_layer(lasagne.layers.Layer):\n",
    "    def __init__(self, incoming, mean=lasagne.init.Constant([0]), stdev=lasagne.init.Constant([1]), mask = lasagne.init.Constant([1]), **kwargs):\n",
    "        super(normalization_layer,self).__init__(incoming, **kwargs)\n",
    "        self.mean = self.add_param(mean, self.input_shape[1:], name='mean', trainable=False)\n",
    "        self.stdev = self.add_param(stdev, self.input_shape[1:], name='stdev', trainable=False)\n",
    "        self.stability_mask = self.add_param(mask, self.input_shape[1:], name='stability_mask', trainable=False)\n",
    "    \n",
    "    def get_output_for(self, input, **kwargs):\n",
    "        return tnsr.switch(self.stability_mask>0, (input - self.mean[np.newaxis,:,:])/self.stdev[np.newaxis,:,:], 0)\n",
    "\n",
    "class feature_weights_layer(lasagne.layers.Layer):\n",
    "    '''\n",
    "    feature_weights_layer(incoming, NU = lasagne.init.Constant([0]))\n",
    "       incoming ~ should be an rf space tensor (T,D,V)\n",
    "             NU ~ (D, V) matrix of feature weights.\n",
    "    output      ~ (T, V) matrix of predicted responses.\n",
    "    '''    \n",
    "    def __init__(self, incoming, NU = lasagne.init.Constant([0]), **kwargs):\n",
    "        ##this will give us an \"input_shape\" attribute\n",
    "        super(feature_weights_layer, self).__init__(incoming, **kwargs)  \n",
    "        self.D = self.input_shape[1]\n",
    "        self.V = self.input_shape[-1]\n",
    "        self.feature_dim = 0\n",
    "        self.voxel_dim = 1\n",
    "        ##creates the theano shared variable\n",
    "        self.NU = self.add_param(NU, (self.D, self.V), name='feature_weights', feature_weights=True) \n",
    "    \n",
    "    def get_output_for(self, input, **kwargs):\n",
    "        return (input*self.NU[np.newaxis,:,:]).sum(axis=1)\n",
    "        \n",
    "    def get_output_shape_for(self, input_shape): ##input_shape = (T, D, V)\n",
    "        return (input_shape[0], self.V)\n",
    "    \n",
    "    ##if NU = None, this will do nothing and return None\n",
    "    def set_weight_for_voxel(self, voxel_idx=None, NU=None):\n",
    "        if NU is not None:\n",
    "            NU_temp = self.NU.get_value()\n",
    "            NU_temp[:,voxel_idx] = NU\n",
    "            self.NU.set_value(NU_temp)\n",
    "            \n",
    "\n",
    "class prediction_menu_layer(lasagne.layers.Layer):\n",
    "    '''\n",
    "    feature_weights_layer(incoming, num_voxels, NU = lasagne.init.Constant([0]))\n",
    "         incoming ~ should be an rf space tensor (T,D,G), where G is the grid of potential receptive fields\n",
    "       num_voxels ~ number of voxels to make predictions for. num_voxels = V\n",
    "               NU ~ (D, G, V) matrix of feature weights. \n",
    "    outputs a (T, G, V) menu of predicted responses. V predictions for each of the G potential rf models.\n",
    "    '''    \n",
    "    def __init__(self, incoming, num_voxels, NU = lasagne.init.Constant([0]), **kwargs):\n",
    "        ##this will give us an \"input_shape\" attribute\n",
    "        super(prediction_menu_layer, self).__init__(incoming, **kwargs)  \n",
    "        self.D = self.input_shape[1]\n",
    "        self.G = self.input_shape[-1]\n",
    "        self.feature_dim = 0\n",
    "        self.voxel_dim = 2\n",
    "        self.V = num_voxels\n",
    "        ##creates the theano shared variable\n",
    "        self.NU = self.add_param(NU, (self.D, self.G, self.V), name='feature_weights', feature_weights=True) \n",
    "    \n",
    "    def get_output_for(self, input, **kwargs):\n",
    "        return (input[:,:,:,np.newaxis]*self.NU[np.newaxis,:,:, :]).sum(axis=1)\n",
    "        \n",
    "    def get_output_shape_for(self, input_shape): ##should be (T, G, V)\n",
    "        return (input_shape[0], self.G, self.V)\n",
    "        \n",
    "    ##if NU = None, this will do nothing and return None\n",
    "    def set_weight_for_voxel(self, voxel_idx=None, NU=None):\n",
    "        if NU is not None:\n",
    "            NU_temp = self.NU.get_value()\n",
    "            NU_temp[:,:,voxel_idx] = NU\n",
    "            self.NU.set_value(NU_temp)\n",
    "            "
   ]
  },
  {
   "cell_type": "markdown",
   "metadata": {},
   "source": [
    "### Learners"
   ]
  },
  {
   "cell_type": "code",
   "execution_count": 15,
   "metadata": {
    "collapsed": false
   },
   "outputs": [],
   "source": [
    "class batch_model_learner(object):\n",
    "    \n",
    "    def __init__(self,l_model, model_input_tnsr_dict, trn_data_generator, val_data_generator, num_voxels, epochs = 1, check_every=10, num_iters=10, learning_rate = 1.0,learn_these_params = None, voxel_dims = None, check_dims = True, print_stuff=False):\n",
    "\n",
    "        '''\n",
    "        batch_model_learner(l_model,\n",
    "                            model_input_tnsr_dict,\n",
    "                            trn_data_generator,\n",
    "                            val_data_generator,\n",
    "                            num_voxels,\n",
    "                            epochs=1,\n",
    "                            check_every=10,\n",
    "                            num_iters=10,\n",
    "                            learning_rate = 1.0,\n",
    "                            learn_these_params = None,\n",
    "                            voxel_dims = None\n",
    "                            check_dims = True)\n",
    "\n",
    "        a class for doing cross-validated (stochastic) gradient descent on params of many independent encoding models at the same time.\n",
    "        After each gradient step, checks each model independently, and updates it if gradient step reduces error on validation set.\n",
    "\n",
    "        inputs:\n",
    "                            l_model ~ a lasagne model with output shape (T,V), where T = #trials, V=#voxels\n",
    "            model_input_tensor_dict ~ dict of theano tensors that are input to the l_model.\n",
    "                 trn_data_generator ~ a generator of (input, output) training data batches. this is function that you have write.\n",
    "                                      it should yield batches of data, i.e., trn_data_generator() will give you your training batches.\n",
    "                                      the format for each batch is (input, output), where\n",
    "                                      input = training input data dictionary. each key/value matches the names/dimensions of corresponding tensor in model_input_tensor_dict\n",
    "                                      output = np.array of shape (Ttrn, V)\n",
    "                 val_data_generator ~ generator for validation data\n",
    "                             epochs ~ number of times through all data in the generator\n",
    "                        check_every ~ int. how often validation loss is checked. default = 10\n",
    "                          num_iters ~ number of gradient steps per batch before stopping. default = 100\n",
    "                      learning_rate ~ size of gradient step. default = 1\n",
    "                 learn_these_params ~ list of parameters names to learn, in case you don't want to train them all.\n",
    "                                      default = None, meaning train all trainable params\n",
    "                        voxel_dims  ~ dictionary, keys=param names, values = ints.\n",
    "                                      for each learned parameter, this corresponds to the voxel dimension.\n",
    "                                      default = None, in which case we try to figure out what the dimension is.\n",
    "                                      if we can't, we complain, and you are forced to specify.\n",
    "                         check_dims ~ if True, run potentially slow sanity check on dimensions of inputs\n",
    "        outputs:\n",
    "                     l_model ~ original l_model with params all trained up. this is a convenience, as params are learned in-place\n",
    "              final_val_loss ~ the final validation loss for each of the models\n",
    "                 trn_history ~ array of length num_iters showing number of voxels with decreased training loss at each time step\n",
    "                 val_history ~ array of length num_iters showing number of voxels with decreased validation loss at each time step\n",
    "\n",
    "        notes:\n",
    "            we call each independent model a \"voxel\". but it could be anything. \n",
    "\n",
    "            the data_generator approach is very general/flexible. in the case where you can simply load up the whole training/validation\n",
    "            data sets at once, it is just a slight encumberance, forcing you to define trn_data_generator() = yield trn_data.\n",
    "            in many cases though, it will not be possible to load all the data at once, so this approach will be helpful.\n",
    "\n",
    "            if trn_data_generator() contains only one large batch, epochs=1, and num_iters = BIG, we get standard grad. descent.\n",
    "            if trn_data_generator() contains many mini-batches, epochs > 1, num_iters = 1, we get *stochastic* grad. descent.\n",
    "        '''\n",
    "        \n",
    "        ##record all the inputs\n",
    "        self.l_model = l_model\n",
    "        self.learn_these_params = learn_these_params\n",
    "        self.model_input_tnsr_dict = model_input_tnsr_dict\n",
    "        self.trn_data_generator = trn_data_generator\n",
    "        self.val_data_generator = val_data_generator\n",
    "        self.num_voxels = num_voxels\n",
    "        self.epochs = epochs\n",
    "        self.check_every=check_every\n",
    "        self.num_iters = num_iters\n",
    "        self.learn_these_params = learn_these_params\n",
    "        self.learning_rate = learning_rate\n",
    "        self.print_stuff = print_stuff\n",
    "        self.voxel_dims = voxel_dims\n",
    "        self.check_dims = check_dims\n",
    "\n",
    "        ##inspect one batch of input to sanity check dimensions\n",
    "        if self.check_dims:\n",
    "            self.grab_example_batch()\n",
    "            ##check data dimensions\n",
    "            self.check_consistent()\n",
    "    \n",
    "        ##get learned params: stores as a list of shared variables just like output of lasage.layers.get_all_params\n",
    "        self.get_learned_params()\n",
    "\n",
    "\n",
    "        ##try to determine which dimension of each parameter is the voxel dimension\n",
    "        self.find_batch_dimension()\n",
    "\n",
    "        ##construct a gradient update and loss functions to be called iteratively by the learn method\n",
    "        self.construct_training_kernel()\n",
    "    \n",
    "    def grab_example_batch( self ):\n",
    "        self.trn_in, self.trn_out = next(self.trn_data_generator()) \n",
    "        self.val_in, self.val_out = next(self.val_data_generator())\n",
    "\n",
    "\n",
    "    def check_consistent( self ):\n",
    "        ##read first batches to get some dimensions. assumes first dimension of input is time, last dimension is voxel \n",
    "        trn_batch_size, num_trn_voxels = self.trn_out.shape[0],self.trn_out.shape[-1]\n",
    "        val_batch_size, num_val_voxels = self.val_out.shape[0],self.val_out.shape[-1]   \n",
    "        assert num_trn_voxels == num_val_voxels, \"number of trn/val voxels don't match\"\n",
    "        assert num_trn_voxels == self.num_voxels,\"number voxels in trn/val does not match specific number of voxels\"\n",
    "        \n",
    "        \n",
    "        ##check to make sure that all feature map stacks in the input dictionary have the same number of timepoints.\n",
    "        ##this is not a complete check, since it's just the first batch, but if shit is not fucked up for this batch, \n",
    "        ##shit will hopefully not be fucked up for subsequent batches\n",
    "        for k,v in self.trn_in.iteritems():\n",
    "            assert v.shape[0] == trn_batch_size, \"number of input/output trn trials don't match for feature %s\" %(k)\n",
    "\n",
    "        for k,v in self.val_in.iteritems():\n",
    "            assert v.shape[0] == val_batch_size, \"number of input/output val trials don't match for feature %s\" %(k)\n",
    "\n",
    "\n",
    "    def get_learned_params( self ):\n",
    "        if self.learn_these_params is not None:            \n",
    "            self.params = [v for v in get_named_params(self.l_model, *self.learn_these_params).values()] ##<<unpack the dict.\n",
    "        else:\n",
    "            self.params = lasagne.layers.get_all_params(self.l_model,trainable=True)\n",
    "        print 'will solve for: %s' %(self.params)\n",
    "\n",
    "    def find_batch_dimension( self ):\n",
    "        if self.voxel_dims is None:\n",
    "            self.voxel_dims = {}\n",
    "            for p in self.params:\n",
    "                ##the voxel dimension should be the one that matches \"num_voxels\"\n",
    "                vdim = [ii for ii,pdim in enumerate(p.shape.eval()) if pdim==self.num_voxels]\n",
    "\n",
    "                ##if we happen to have multiple dimensions that = \"num_voxels\", user must disambiguate\n",
    "                assert len(vdim)==1, \"sorry, we can't determine voxel dimension for param %s. please supply explicit 'voxel_dims' argument\" %p.name\n",
    "                self.voxel_dims[p.name] = vdim[0]\n",
    "\n",
    "                \n",
    "    ##construct a gradient update and loss functions to be called iteratively by the learn method\n",
    "    def construct_training_kernel( self ):\n",
    "        voxel_data_tnsr = tnsr.matrix('voxel_data_tnsr')  ##voxel data tensor: (T x V)\n",
    "\n",
    "        ##get symbolic prediction expression\n",
    "        pred_expr = lasagne.layers.get_output(self.l_model)  ##voxel prediction tensor: (T x V)\n",
    "\n",
    "        ##generate symbolic loss expression\n",
    "        trn_diff = voxel_data_tnsr-pred_expr        ##difference tensor: shape = (T, V)\n",
    "        loss_expr = (trn_diff*trn_diff).sum(axis=0) ##sum squared diffs over time: shape = (V,)\n",
    "\n",
    "        ##for *training* error we compute of errors along voxel dimension.\n",
    "        ##we have to do this because auto-diff requires. a scalar loss function.\n",
    "        ##BUT: this is fine because gradient w.r.t. one voxel's weights is not affected by loss for any other voxel.\n",
    "        trn_loss_expr = loss_expr.sum()\n",
    "\n",
    "        #construct update rule using *training* loss.\n",
    "        fwrf_update = lasagne.updates.sgd(trn_loss_expr,self.params,learning_rate=self.learning_rate)\n",
    "        self.trn_kernel = function([voxel_data_tnsr]+self.model_input_tnsr_dict.values(), trn_loss_expr, updates=fwrf_update)           \n",
    "        print 'will update wrt: %s' % (self.params,)\n",
    "        \n",
    "        ##compile loss and training functions\n",
    "        ##NOTE: this is *validation* loss, not summed over voxels, so it has len = num_voxels\n",
    "        print 'compiling...'\n",
    "        self.loss = function([voxel_data_tnsr]+self.model_input_tnsr_dict.values(), loss_expr)\n",
    "                \n",
    "    \n",
    "    ##if the last gradient step made things better for some voxels, update their parameters\n",
    "    def update_best_param_values(self, best_param_values, improved_voxels):\n",
    "        for ii,p in enumerate(self.params):\n",
    "            vdim = self.voxel_dims[p.name] ##the voxel dimension\n",
    "            s = [slice(None),]*p.ndim      ##create a slicing object with right number of dims\n",
    "            s[vdim] = improved_voxels      ##assign improved voxel indices to the correct dim of the slice object\n",
    "            best_param_values[ii][s] = np.copy(p.get_value()[s])   ##keep a record of the best params.\n",
    "        return best_param_values        \n",
    "    \n",
    "    ##iteratively perform gradient descent\n",
    "    def learn(self):\n",
    "        \n",
    "        ##initialize best parameters to whatever they are\n",
    "        best_param_values = [np.copy(p.get_value()) for p in self.params]\n",
    "        \n",
    "        ##initalize validation loss to whatever you get from initial weigths\n",
    "        val_loss_was = 0\n",
    "        for val_in, val_out in self.val_data_generator():\n",
    "            val_loss_was += self.loss(val_out, *val_in.values())\n",
    "\n",
    "        ##initialize train loss to whatever, we only report the difference    \n",
    "        trn_loss_was = 0.0 ##we keep track of total across voxels as sanity check, since it *must* decrease\n",
    "  \n",
    "        val_history = []\n",
    "        trn_history = []\n",
    "        \n",
    "        ##descend and validate\n",
    "        epoch_count = 0\n",
    "        while epoch_count < self.epochs:\n",
    "            print '=======epoch: %d' %(epoch_count) \n",
    "            for trn_in, trn_out in self.trn_data_generator():\n",
    "                step_count = 0\n",
    "                while step_count < self.num_iters:\n",
    "                    \n",
    "                    ##update params, output training loss\n",
    "                    trn_loss_is = self.trn_kernel(trn_out, *trn_in.values())                    \n",
    "                    if step_count % self.check_every == 0:\n",
    "\n",
    "                        ##check for improvements\n",
    "                        val_loss_is = 0\n",
    "                        for val_in, val_out in self.val_data_generator():\n",
    "                            val_loss_is += self.loss(val_out, *val_in.values())\n",
    "                        improved = (val_loss_is < val_loss_was)\n",
    "\n",
    "                        ##update val loss\n",
    "                        val_loss_was[improved] = val_loss_is[improved]\n",
    "\n",
    "                        ##replace old params with better params\n",
    "                        best_param_values = self.update_best_param_values(best_param_values, improved)\n",
    "\n",
    "                        ##report on loss history\n",
    "                        val_history.append(improved.sum())\n",
    "                        trn_history.append(trn_loss_is)\n",
    "                        if self.print_stuff:\n",
    "                            print '====iter: %d' %(step_count)\n",
    "                            print 'number of improved models: %d' %(val_history[-1])\n",
    "                            print 'trn error: %0.6f' %(trn_history[-1])\n",
    "                    \n",
    "                    step_count += 1\n",
    "\n",
    "            epoch_count += 1\n",
    "\n",
    "        ##restore best values of learned params\n",
    "        set_named_model_params(self.l_model, **{k.name:v for k,v in zip(self.params, best_param_values)})\n",
    "       \n",
    "\n",
    "        return self.l_model, val_loss_was, val_history, trn_history\n",
    "\n",
    "class batch_model_learner_multi( batch_model_learner ):\n",
    "   \n",
    "    '''\n",
    "    batch_model_learner_multi(l_model, model_input_tnsr_dict,trn_data_gen, val_data_gen, num_voxels, num_models)\n",
    "    \n",
    "    learn multiple models for a batch of voxels. for each voxel, we have multiple possible models\n",
    "    to choose from. we use sgd to optimize parameters for each possible model. some methods for selecting\n",
    "    the best model are added here.\n",
    "    \n",
    "    T = number of time points\n",
    "    G = number of possible models\n",
    "    V = number of voxels.\n",
    "    \n",
    "    lasagne_model is assumed to have an output of dimensions (T, G, V)\n",
    "    \n",
    "    loss ~ (G,V)\n",
    "    \n",
    "    assumes extra argument \"num_models\"\n",
    "    \n",
    "    \n",
    "    '''\n",
    "    \n",
    "    def __init__(self, *args, **kwargs):\n",
    "        model_dim_arg_dx = 5 ##we just happen to know this. shit will get fucked up if we get this wrong.\n",
    "        args = list(args)\n",
    "        self.num_models = args.pop(model_dim_arg_dx)\n",
    "        args = tuple(args)\n",
    "        self.model_dims = kwargs.pop('model_dims', None)\n",
    "        super(batch_model_learner_multi, self).__init__(*args,**kwargs)\n",
    " \n",
    "        \n",
    "        self.find_model_dimension()\n",
    "    \n",
    "    ##overwrite the training kernel:\n",
    "    ##construct a gradient update and loss functions to be called iteratively by the learn method\n",
    "    ##output loss is (G,V)\n",
    "    def construct_training_kernel( self ):\n",
    "        voxel_data_tnsr = tnsr.matrix('voxel_data_tnsr')  ##voxel data tensor: (T, V)\n",
    "\n",
    "        ##get symbolic prediction expression\n",
    "        pred_expr = lasagne.layers.get_output(self.l_model)  ##voxel prediction tensor: (T,G,V)\n",
    "\n",
    "        ##generate symbolic loss expression\n",
    "        trn_diff = voxel_data_tnsr[:,np.newaxis,:]-pred_expr ##difference tensor: shape = (T, V)\n",
    "        loss_expr = (trn_diff*trn_diff).sum(axis=0)          ##sum squared diffs over time: shape = (G,V)\n",
    "\n",
    "        ##for *training* error we compute sum of errors along G and V dimensions.\n",
    "        ##we have to do this because auto-diff requires. a scalar loss function.\n",
    "        ##BUT: this is fine because gradient w.r.t. one voxel's weights is not affected by loss for any other voxel.\n",
    "        trn_loss_expr = loss_expr.sum()\n",
    "\n",
    "        #construct update rule using *training* loss.\n",
    "        fwrf_update = lasagne.updates.sgd(trn_loss_expr,self.params,learning_rate=self.learning_rate)\n",
    "        self.trn_kernel = function([voxel_data_tnsr]+self.model_input_tnsr_dict.values(), trn_loss_expr, updates=fwrf_update)           \n",
    "        print 'will update wrt: %s' % (self.params,)\n",
    "        \n",
    "        ##compile loss and training functions\n",
    "        ##NOTE: this is *validation* loss, not summed over voxels, so it has len = num_voxels\n",
    "        print 'compiling...'\n",
    "        self.loss = function([voxel_data_tnsr]+self.model_input_tnsr_dict.values(), loss_expr)\n",
    "\n",
    "    ##get the dimension for the possible models (the \"G\" dimension) \n",
    "    def find_model_dimension( self ):\n",
    "        if self.model_dims is None:\n",
    "            self.model_dims = {}\n",
    "            for p in self.params:\n",
    "                ##the model dimension should be the one that matches \"num_models\"\n",
    "                mdim = [ii for ii,pdim in enumerate(p.shape.eval()) if pdim==self.num_models]\n",
    "                \n",
    "                ##if we happen to have multiple dimensions that = \"num_models\", user must disambiguate\n",
    "                assert len(mdim)==1, \"can't determine model dimension for param %s. supply explicit 'model_dims' argument\" %p.name\n",
    "                self.model_dims[p.name] = mdim[0]\n",
    "       \n",
    "    \n",
    "    ##overwrite to deal with 2D nature of 'improved_voxels'\n",
    "    ##if the last gradient step made things better for some voxels, update their parameters\n",
    "    def update_best_param_values(self, best_param_values, improved_voxels):\n",
    "        '''\n",
    "        update_best_param_values(self, best_param_values, improved_voxels)\n",
    "        improved_voxels ~ (G,V)\n",
    "        \n",
    "        '''\n",
    "        improvement_tuples = np.where(improved_voxels)\n",
    "        for ii,p in enumerate(self.params):\n",
    "            vdim = self.voxel_dims[p.name] ##the voxel dimension\n",
    "            mdim = self.model_dims[p.name]\n",
    "            s = [slice(None),]*p.ndim      ##create a slicing object with right number of dims\n",
    "            s[mdim] = improvement_tuples[0]\n",
    "            s[vdim] = improvement_tuples[1]\n",
    "            best_param_values[ii][s] = np.copy(p.get_value()[s])   ##keep a record of the best params.\n",
    "        return best_param_values\n",
    "    \n",
    "    def get_min_loss(self, loss):\n",
    "        min_loss = np.zeros((self.num_voxels))\n",
    "        argmin_loss = np.zeros((self.num_voxels),dtype='int')\n",
    "        for ii in range(self.num_voxels):\n",
    "            min_loss[ii] = np.min(loss[:,ii])\n",
    "            argmin_loss[ii] = np.argmin(loss[:,ii])\n",
    "        return min_loss, argmin_loss\n",
    "    \n",
    "    \n",
    "    def select_best_model(self, loss):\n",
    "        '''\n",
    "        after learning, submit final val. loss to get a dict. of best model params.\n",
    "        best param arrays don't have the \"model\" dimension\n",
    "        '''\n",
    "        _,best_model_dx = self.get_min_loss(loss)\n",
    "        improvement_tuples = [tuple(best_model_dx), tuple(range(self.num_voxels))]\n",
    "        best_model_params = {}\n",
    "        for ii,p in enumerate(self.params):\n",
    "            vdim = self.voxel_dims[p.name] ##the voxel dimension\n",
    "            mdim = self.model_dims[p.name]\n",
    "            s = [slice(None),]*p.ndim      ##create a slicing object with right number of dims\n",
    "            s[mdim] = improvement_tuples[0]\n",
    "            s[vdim] = improvement_tuples[1]\n",
    "            best_model_params[p.name] = np.copy(p.get_value()[s])  ##select the best params.\n",
    "            assert self.num_voxels in best_model_params[p.name].shape, 'voxel dim. not right for best param %s' %p.name\n",
    "        return best_model_params\n",
    " \n",
    "    "
   ]
  },
  {
   "cell_type": "markdown",
   "metadata": {},
   "source": [
    "### Models"
   ]
  },
  {
   "cell_type": "code",
   "execution_count": 19,
   "metadata": {
    "collapsed": false
   },
   "outputs": [],
   "source": [
    "##TODO: GENERALIZE SO THAT NOT COMMITTED TO GAUSSIAN RF MODEL\n",
    "##merges multiple feature map stacks, applies receptive field layer, and whatever else you want.\n",
    "class rf_model_space(object):\n",
    "    '''  \n",
    "       \n",
    "    rf_model_space( feature_map_dict, deg_per_stim, num_voxels, rf_init={x0:array, y0:array, sig:array})\n",
    "    \n",
    "    The foundation for constructing a fwrf model. Creates receptive fields for a set of num_voxel voxels.\n",
    "    \n",
    "    inputs:\n",
    "    feature_map_dict ~ dictionary of (T,D_i,S_i,S_i) feature maps. T can be 1. These values are not stored, they\n",
    "                       are just used get basic name/dimension information for each kind of feature map.\n",
    "        deg_per_stim ~ for the rf_layer, so that we can interpret things if deg. of visual angle\n",
    "          num_voxels ~ the number of voxels\n",
    "             rf_init ~ optional initial receptive field params for each voxels. \n",
    "                       must be a dictionary like {x0:x0_array, y0:y0_array, sig:sig_array}, where len(??_array)=num_voxels\n",
    "    \n",
    "    attributes:\n",
    "        feature_depth\n",
    "        feature_indices\n",
    "        feature_resolutions\n",
    "        D\n",
    "        deg_per_stim\n",
    "        num_voxels\n",
    "        input_var_dict\n",
    "        rf_layer ~ lasagne layer. good for accessing rf parameters\n",
    "        rf_model_space ~ lasagne layer\n",
    "        construct_model_space_tensor(feature_map_dict) ~ method\n",
    "        normalize(calibration_data_generator, epsilon=10e-6, unstable=10e-10) ~ method\n",
    "    \n",
    "    \n",
    "    merges multiple feature map stacks, applies receptive field layer, creates a dictionary of input tensors\n",
    "    corresponding to each feature map stack, and creates an \"rf_layer\" attribute for convenient access to rf\n",
    "    parameters.\n",
    "    \n",
    "    normalization: call it once using training data, it computes the -mean/stdev, adds a normalization layer,\n",
    "                   and then sets the weights.\n",
    "    \n",
    "    does not apply the feature_weights layer. too many different branches after rf application for that to be useful.\n",
    "    \n",
    "    \n",
    "    '''\n",
    "    \n",
    "    \n",
    "    def __init__(self, feature_map_dict, deg_per_stim, num_voxels, rf_init=None):\n",
    "        \n",
    "        ##record and store basic properties of the feature maps\n",
    "        self.feature_depth = {}\n",
    "        self.feature_indices = {}\n",
    "        self.feature_resolutions = {}\n",
    "        idx = 0\n",
    "        for f_key in feature_map_dict.keys():\n",
    "            self.feature_depth[f_key] = feature_map_dict[f_key].shape[1]\n",
    "            self.feature_indices[f_key] = np.arange(idx,idx + self.feature_depth[f_key],step=1)\n",
    "            idx += self.feature_depth[f_key]\n",
    "            self.feature_resolutions[f_key] = feature_map_dict[f_key].shape[2]\n",
    "        \n",
    "        ##total feature depth\n",
    "        self.D = np.sum(self.feature_depth.values())\n",
    "        \n",
    "        ##rf properties\n",
    "        self.deg_per_stim = deg_per_stim\n",
    "        self.num_voxels = num_voxels\n",
    "        if rf_init is None:\n",
    "            rf_init = {}\n",
    "            rf_init['x0'] = np.zeros(num_voxels,dtype='float32')\n",
    "            rf_init['y0'] = np.zeros(num_voxels,dtype='float32')\n",
    "            rf_init['sig'] = np.ones(num_voxels,dtype='float32')\n",
    "        \n",
    "            \n",
    "    \n",
    "        ##construct model space : applies rf's to feature maps\n",
    "        '''\n",
    "        each dict value is a (T,D_i,S_i,S_i) stack of feature maps, where i indexes each stack of feature maps\n",
    "        each model space in the list will have output shape (T,D_i,V)\n",
    "        will concatenate along axis 1 (= D)\n",
    "        will share x0,y0,sig (the rf params) across feature spaces\n",
    "        '''\n",
    "        rf_space_list = []\n",
    "        self.input_var_dict = {}\n",
    "        for f_map_name in feature_map_dict.keys():\n",
    "            \n",
    "            ##get S_i x S_i\n",
    "            input_shape = (None,)+feature_map_dict[f_map_name].shape[1:]\n",
    "\n",
    "            self.input_var_dict[f_map_name] = tnsr.tensor4(f_map_name)\n",
    "\n",
    "            ##the rf_layer for the first feature map\n",
    "            l1 = lasagne.layers.InputLayer(input_shape, input_var = self.input_var_dict[f_map_name], name='input_'+f_map_name)\n",
    "            \n",
    "            ##the points in 2D space where rf will be evaluated \n",
    "            Xm,Ym = make_space(input_shape[-1])\n",
    "            \n",
    "            ##only one feature map stack or the first map stack:\n",
    "            if not rf_space_list:  \n",
    "                self.rf_layer = receptive_field_layer(l1,num_voxels,(Xm,Ym),deg_per_stim,x0=rf_init['x0'], y0=rf_init['y0'], sig=rf_init['sig'],name='rf_'+f_map_name)\n",
    "                rf_space_list.append(self.rf_layer)\n",
    "            else: ##rf centers/sizes will be shared\n",
    "                rf_space_list.append(receptive_field_layer(l1,num_voxels,(Xm,Ym),deg_per_stim,\n",
    "                                                              x0=self.rf_layer.x0,\n",
    "                                                              y0=self.rf_layer.y0,\n",
    "                                                              sig=self.rf_layer.sig,\n",
    "                                                              name='rf_'+f_map_name))\n",
    "    \n",
    "        self.rf_model_space = lasagne.layers.ConcatLayer(rf_space_list,axis=1, name='rf_model_space')\n",
    "        \n",
    "        self.construct_model_space_tensor = function(self.input_var_dict.values(), lasagne.layers.get_output(self.rf_model_space))\n",
    "    \n",
    "    def normalize(self, calibration_data_generator, epsilon=0., unstable=10e-10):\n",
    "        mst = []\n",
    "        for cal_map in calibration_data_generator():\n",
    "            mst.append(self.construct_model_space_tensor(*cal_map.values()))\n",
    "        mst = np.concatenate(mst,axis=0)\n",
    "        mn = np.mean(mst,axis=0)\n",
    "        stdev = np.std(mst, axis=0)+epsilon\n",
    "        stability_mask = (stdev > unstable).astype('float32')\n",
    "        self.rf_model_space = normalization_layer(self.rf_model_space, mean=mn, stdev=stdev, mask=stability_mask)\n",
    "        self.epsilon=epsilon\n",
    "        self.unstable=unstable\n",
    "        self.construct_model_space_tensor = function(self.input_var_dict.values(), lasagne.layers.get_output(self.rf_model_space))\n",
    "        \n",
    "\n",
    "##a fwrf model\n",
    "##TODO: A \"merge_with\" method to merge one fwrf with another so it will be easy to batch up voxels.\n",
    "\n",
    "class fwrf(rf_model_space):\n",
    "    \n",
    "    '''\n",
    "    fwrf(feature_map_dict, deg_per_stim, num_voxels, rf_init=None, bonus_layers=None)\n",
    "\n",
    "    Creates a fwrf model for multiple voxels.\n",
    "\n",
    "    inputs:\n",
    "    feature_map_dict ~ dictionary of (T,D_i,S_i,S_i) feature maps. T can be 1. These values are not stored, they\n",
    "                       are just used get basic name/dimension information for each kind of feature map.\n",
    "        deg_per_stim ~ for the rf_layer, so that we can interpret things if deg. of visual angle\n",
    "          num_voxels ~ the number of voxels\n",
    "             rf_init ~ optional initial receptive field params for each voxels. \n",
    "                       must be a dictionary like {x0:x0_array, y0:y0_array, sig:sig_array}, where len(??_array)=num_voxels\n",
    "        bonus_layers ~ a callable stack of layers that accepts an incoming layer. if supplied, the rf_model_space\n",
    "                       lasagne model is treated as incoming to the bonus layer. a feature_weights_layer is then applied.\n",
    "                       if not supplied, a feature_weights_layer is added directly to rf_model_space.\n",
    "    \n",
    "    attributes:\n",
    "    predicted_activity(*feature_map_dict.values())\n",
    "\n",
    "    '''\n",
    "    \n",
    "    def __init__(self, *args, **kwargs):\n",
    "        self.bonus_layers = kwargs.pop('bonus_layers', None)\n",
    "        NU = kwargs.pop('NU', lasagne.init.Constant([0]))\n",
    " \n",
    "        super(fwrf, self).__init__(*args, **kwargs)  ##this creates the rf_model_space\n",
    "\n",
    "        if self.bonus_layers is not None:\n",
    "            self.stack_feature_layers = lambda x: feature_weights_layer(self.bonus_layers(x),NU=NU)\n",
    "        else:\n",
    "            self.stack_feature_layers = lambda x: feature_weights_layer(x,NU=NU)\n",
    "            \n",
    "        self.fwrf = self.stack_feature_layers(self.rf_model_space)\n",
    "        \n",
    "        self.pred_expr = lasagne.layers.get_output(self.fwrf)\n",
    "        \n",
    "        ##this gives predicted output as (T,V) tensor\n",
    "        self.pred_func = function(self.input_var_dict.values(), self.pred_expr)\n",
    "    \n",
    "    def predict( self, feature_map_dict):\n",
    "        return self.pred_func(*feature_map_dict.values())\n",
    "\n",
    "    \n",
    "    def train_me(self, *args, **kwargs):\n",
    "        '''\n",
    "        you can call:\n",
    "        train_me(trn_data_generator, val_data_generator, fine=True, **training_keywords,)\n",
    "        or:\n",
    "        train_me(trn_data_generator, val_data_generator, coarse=True, rf_grid=required_dict_of_rf_params, rf_batch_size=optional, **training_keywords)\n",
    "        \n",
    "        note that trn/val_data_generator should be functions that return generataors of batches of data.\n",
    "        \n",
    "        so the first batch of training data would be like: first_trn_batch = trn_data_generator().next\n",
    "        first_trn_batch = (inp, outp)\n",
    "        inp = feature_map_dict\n",
    "        outp = matrix of voxel activities with shape (first_batch_size, num_voxels)\n",
    "        \n",
    "        optional training_keywords are (with their default values):\n",
    "            epochs = 1, \n",
    "            check_every=10,\n",
    "            num_iters=10,\n",
    "            learning_rate = 1.0,\n",
    "            learn_these_params = None,\n",
    "            voxel_dims = None,\n",
    "            model_dims = None,\n",
    "            check_dims = True,\n",
    "            print_stuff=False\n",
    "        \n",
    "        modifies the feature_weights and the rf parameters in place.\n",
    "        returns:\n",
    "        \n",
    "        fine:    (final_val_loss, improvement_history, trn_loss_history)\n",
    "        coarse: final_val_loss (sorry, batching the rf's makes it a pita to return full history)\n",
    "        '''\n",
    "        \n",
    "        coarse = kwargs.pop('coarse', False)\n",
    "        \n",
    "        if coarse:\n",
    "            assert kwargs.pop('fine', False) == False, 'you have to decide on coarse or fine fitting. fine is default'\n",
    "            assert 'rf_grid' in kwargs.keys(), 'coarse traning requires an rf_grid'\n",
    "            assert type(kwargs['rf_grid']) is dict, 'rf_grid should be a dictionary with keys x0,y0,sig' \n",
    "            return self._train_coarse(*args, **kwargs)\n",
    "                        \n",
    "        else:\n",
    "            assert 'rf_grid' not in kwargs.keys(), \"don't pass an rf grid if you are fine-tuning. you will just confuse yourself.\"\n",
    "            fine = kwargs.pop('fine',True)\n",
    "            return self._train_fine(*args,**kwargs)\n",
    "            \n",
    "    \n",
    "    def _train_fine(self, trn_data_generator, val_data_generator, **kwargs):\n",
    "        self.fwrf,val_loss,val_history,trn_history = batch_model_learner(self.fwrf, self.input_var_dict, trn_data_generator, val_data_generator, self.num_voxels, **kwargs).learn()\n",
    "        return val_loss, val_history, trn_history\n",
    "\n",
    "    def _train_coarse(self, trn_data_generator, val_data_generator, **kwargs):\n",
    "        \n",
    "        rf_grid = kwargs.pop('rf_grid','None')\n",
    "        assert rf_grid is not None, 'you somehow magically managed to call _train_coarse without passing rf_grid as keyword. are you a wizard?'\n",
    "        rf_batch_size = kwargs.pop('rf_batch_size',None)\n",
    "        consolidate = kwargs.pop('consolidate', False)\n",
    "        normalize = kwargs.pop('normalize', False)\n",
    "        \n",
    "  \n",
    "        if rf_batch_size is None:\n",
    "            rf_grid_batches = (rf_grid,)\n",
    "        else: ##break the rf_grid up into batches\n",
    "            rf_grid_batches = self._batch_rf_grid(rf_grid, rf_batch_size)  ##give us a generator\n",
    "\n",
    "        ##initialize containers to collect training results across batches of rf's\n",
    "        best_loss = []     ##collects 1 x V arrays\n",
    "        best_params = []   ##collects 1 x D x V arrays\n",
    "        best_rfs = []      ##collects 1 x 3 x V arrays, (x0,y0,sig)\n",
    "        \n",
    "        for rfb in rf_grid_batches:\n",
    "                  \n",
    "            ##a generator of model space tensors that iterates over T\n",
    "            trn_gen_multi,val_gen_multi = self._build_rf_model_space_tensor(trn_data_generator, val_data_generator, rfb, normalize=normalize, consolidate=consolidate)\n",
    "            assert type(trn_gen_multi()) is GeneratorType, 'you somehow managed to not produce a generator'\n",
    "            assert type(val_gen_multi()) is GeneratorType, 'you somehow managed to not produce a generator'\n",
    "            \n",
    "\n",
    "            ##a new network that treats everything up to the feature weights as input\n",
    "            ##NOTE: IT IS REALLY BAD TO BE REFERENCING A DICT. KEY HERE. SUPER NOT GENERAL!\n",
    "            G = len(rfb['x0']) ##grab the number of candidate rf models\n",
    "            proxy_net, proxy_input_var_dict = self._build_proxy_network((None,self.fwrf.D,G))\n",
    "\n",
    "            ##learn the best feature weights for the rf models in rfb\n",
    "            learn_best_rf = batch_model_learner_multi(proxy_net, proxy_input_var_dict, trn_gen_multi, val_gen_multi,self.num_voxels,G, **kwargs)\n",
    "            _,val_loss,val_history,trn_history = learn_best_rf.learn()\n",
    "\n",
    "            ##get the index of the best set of weights\n",
    "            cur_best_loss,best_dx = learn_best_rf.get_min_loss(val_loss)\n",
    "            best_loss.append(cur_best_loss)\n",
    "                        \n",
    "            ##get the best feature weights\n",
    "            best_params.append(learn_best_rf.select_best_model(val_loss)['feature_weights'])\n",
    "                       \n",
    "            ##expose the best rf params for each voxel\n",
    "            best_rfs.append(self._index_rf_grid_dict(rfb, best_dx))\n",
    "\n",
    "        best_loss = np.vstack(best_loss)  ##batch x voxels\n",
    "        best_params = np.stack(best_params, axis=0)   ##batch x D x voxels\n",
    "        best_rfs = np.stack(best_rfs, axis=0)         ##batch x 3 x voxels\n",
    "        \n",
    "        best_batches = tuple(np.argmin(best_loss, axis=0))\n",
    "        vox_range = tuple(range(self.num_voxels))\n",
    "        best_params = best_params[best_batches,:,vox_range].T  ##(D,voxels). transpose to put voxels in last dim.\n",
    "        best_rfs = best_rfs[best_batches,:,vox_range].T ##(3,voxels)\n",
    "#         best_loss = np.min(best_loss,axis=0)\n",
    "        \n",
    "        ##return stuff\n",
    "#         return best_params, best_rfs, best_loss\n",
    "         \n",
    "        ##assign this back to fwrf\n",
    "        ##BAD: THIS IS SICKENINGLY NOT GENERAL.\n",
    "        set_named_model_params(self.fwrf, feature_weights=best_params)\n",
    "        set_named_model_params(self.fwrf, x0=best_rfs[0])\n",
    "        set_named_model_params(self.fwrf, y0=best_rfs[1])\n",
    "        set_named_model_params(self.fwrf, sig=best_rfs[2])\n",
    "        \n",
    "        ##return training history\n",
    "        return best_loss\n",
    "        \n",
    "        \n",
    "    def _batch_rf_grid(self, rf_grid,rf_batch_size):\n",
    "        '''\n",
    "        returns a proper generator of batches of rf_grid\n",
    "        '''\n",
    "        x0 = rf_grid['x0']\n",
    "        y0 = rf_grid['y0']\n",
    "        sig = rf_grid['sig']\n",
    "        n = rf_batch_size\n",
    "        for ii in xrange(0, len(x0), rf_batch_size):\n",
    "            yield {'x0':x0[ii:ii+n],'y0':y0[ii:ii+n], 'sig':sig[ii:ii+n]}\n",
    "    \n",
    "    def _index_rf_grid_dict(self, rf_grid_dict, dx):\n",
    "        rf = np.zeros((3,len(dx)))\n",
    "        rf[0,:] = rf_grid_dict['x0'][dx]\n",
    "        rf[1,:] = rf_grid_dict['y0'][dx]\n",
    "        rf[2,:] = rf_grid_dict['sig'][dx]\n",
    "        return rf\n",
    "    \n",
    "    def _build_proxy_network(self, input_shape):\n",
    "        #check fwrf, get shape\n",
    "        #make a new network with an input layer and prediction_menu layer only\n",
    "        proxy_input_var_dict = {}\n",
    "        proxy_input_var_dict['mst'] = tnsr.tensor3('mst')\n",
    "        proxy_net = lasagne.layers.InputLayer((None,)+input_shape[1:], input_var = proxy_input_var_dict['mst'])\n",
    "        proxy_net = prediction_menu_layer(proxy_net, self.num_voxels)\n",
    "        return proxy_net, proxy_input_var_dict\n",
    "        \n",
    "    \n",
    "    def _build_rf_model_space_tensor(self, trn_data_gen, val_data_gen, rf_grid, normalize=False, consolidate=False):\n",
    "        '''\n",
    "        generating_function = _build_rf_model_space_tensor(trn_data_gen, val_data_gen, rf_grid, consolidate=False)\n",
    "        the goal is to convert a data generator of (feature_map_dict,voxel_activity) tuples\n",
    "        into a generator of (model_space_tensor, voxel_activity) tuples.\n",
    "        \n",
    "        the model_space_tensors will have shape (batch_size,D,G)\n",
    "        \n",
    "        returns  *functions* that, when called with no arguments, are each a generator of such tuples.\n",
    "        so\n",
    "        \n",
    "        (first_mst_batch, first_voxel_act_batch) = generating_function().next()\n",
    "        \n",
    "        note that, to comply with idea that network inputs should be dictionaries,\n",
    "        \n",
    "        first_mst_batch = {'mst':mst}, where mst is a model space tensoro with shape (batch_size,D,G)\n",
    "        \n",
    "        '''\n",
    "        example_inp,_ = trn_data_gen().next()\n",
    "        G = len(rf_grid['x0']) ##grab the number of candidate rf models\n",
    "        proxy_rf_model_space = rf_model_space(example_inp, self.deg_per_stim, G,rf_init=rf_grid)\n",
    "        if normalize:\n",
    "            ##need a new generator that only generates inputs\n",
    "            def only_input_trn_gen():\n",
    "                for inp,outp in trn_data_gen():\n",
    "                    yield inp\n",
    "            ##get normalization params       \n",
    "            proxy_rf_model_space.normalize(only_input_trn_gen)\n",
    "            \n",
    "        ##okay, this is ugly but,\n",
    "        if not consolidate:\n",
    "            ##generating function for trn data\n",
    "            def make_trn_gen_func():\n",
    "                for inp,outp in trn_data_gen():\n",
    "                    yield ({'mst':proxy_rf_model_space.construct_model_space_tensor(*inp.values())}, outp)\n",
    "            ##generating function for val data\n",
    "            def make_val_gen_func():\n",
    "                for inp,outp in val_data_gen():\n",
    "                    yield ({'mst':proxy_rf_model_space.construct_model_space_tensor(*inp.values())}, outp)\n",
    "                    \n",
    "        else:\n",
    "            ##we don't want batches, so we smoosh them all together\n",
    "            def make_trn_gen_func():\n",
    "                mst = []\n",
    "                r = []\n",
    "                for inp,outp in trn_data_gen():\n",
    "                    r.append(outp)\n",
    "                    mst.append(proxy_rf_model_space.construct_model_space_tensor(*inp.values()))\n",
    "                mst = np.concatenate(mst, axis=0)\n",
    "                r = np.concatenate(r, axis=0)\n",
    "                yield ({'mst':mst},r)\n",
    "\n",
    "            def make_val_gen_func():\n",
    "                mst = []\n",
    "                r = []\n",
    "                for inp,outp in val_data_gen():\n",
    "                    r.append(outp)\n",
    "                    mst.append(proxy_rf_model_space.construct_model_space_tensor(*inp.values()))\n",
    "                mst = np.concatenate(mst, axis=0)\n",
    "                r = np.concatenate(r, axis=0)\n",
    "                yield ({'mst':mst},r)\n",
    "\n",
    "        return make_trn_gen_func, make_val_gen_func\n",
    "    \n",
    "    def normalize(self, *args, **kwargs):\n",
    "        ##TODO: Should check to make sure no normalization yet!\n",
    "        \n",
    "        ##call the model_space method\n",
    "        super(fwrf, self).normalize(*args, **kwargs)\n",
    "        \n",
    "        ##then overwrite the feature layer\n",
    "        self.fwrf = self.stack_feature_layers(self.rf_model_space)\n",
    "        \n",
    "        ##and update the prediction expressions/functions\n",
    "        self.pred_expr = lasagne.layers.get_output(self.fwrf)\n",
    "        self.pred_func = function(self.input_var_dict.values(), self.pred_expr)\n",
    "        \n",
    "               \n",
    "    \n"
   ]
  },
  {
   "cell_type": "code",
   "execution_count": 22,
   "metadata": {
    "collapsed": false
   },
   "outputs": [
    {
     "data": {
      "text/html": [
       "<div>\n",
       "<table border=\"1\" class=\"dataframe\">\n",
       "  <thead>\n",
       "    <tr style=\"text-align: right;\">\n",
       "      <th></th>\n",
       "      <th>deg_per_radius</th>\n",
       "      <th>x_deg</th>\n",
       "      <th>y_deg</th>\n",
       "    </tr>\n",
       "  </thead>\n",
       "  <tbody>\n",
       "    <tr>\n",
       "      <th>0</th>\n",
       "      <td>1</td>\n",
       "      <td>-10.000000</td>\n",
       "      <td>-10</td>\n",
       "    </tr>\n",
       "    <tr>\n",
       "      <th>1</th>\n",
       "      <td>1</td>\n",
       "      <td>-7.777778</td>\n",
       "      <td>-10</td>\n",
       "    </tr>\n",
       "    <tr>\n",
       "      <th>2</th>\n",
       "      <td>1</td>\n",
       "      <td>-5.555556</td>\n",
       "      <td>-10</td>\n",
       "    </tr>\n",
       "    <tr>\n",
       "      <th>3</th>\n",
       "      <td>1</td>\n",
       "      <td>-3.333333</td>\n",
       "      <td>-10</td>\n",
       "    </tr>\n",
       "    <tr>\n",
       "      <th>4</th>\n",
       "      <td>1</td>\n",
       "      <td>-1.111111</td>\n",
       "      <td>-10</td>\n",
       "    </tr>\n",
       "  </tbody>\n",
       "</table>\n",
       "</div>"
      ],
      "text/plain": [
       "   deg_per_radius      x_deg  y_deg\n",
       "0               1 -10.000000    -10\n",
       "1               1  -7.777778    -10\n",
       "2               1  -5.555556    -10\n",
       "3               1  -3.333333    -10\n",
       "4               1  -1.111111    -10"
      ]
     },
     "execution_count": 22,
     "metadata": {},
     "output_type": "execute_result"
    }
   ],
   "source": [
    "##params\n",
    "Ttrn,Tval,D,V,nmaps = 2003,301,17,4,8\n",
    "deg_per_stim = 20\n",
    "sf = 10\n",
    "\n",
    "##feature maps\n",
    "trn_feature_map_dict = {}\n",
    "for ii in range(1,nmaps+1):\n",
    "    input_name = 'fmap_%0.2d' % (ii)\n",
    "    trn_feature_map_dict[input_name] = np.random.random((Ttrn,D,sf*ii,sf*ii)).astype('float32')\n",
    "\n",
    "val_feature_map_dict = {}\n",
    "for ii in range(1,nmaps+1):\n",
    "    input_name = 'fmap_%0.2d' % (ii)\n",
    "    val_feature_map_dict[input_name] = np.random.random((Tval,D,sf*ii,sf*ii)).astype('float32')\n",
    "    \n",
    "    \n",
    "##true rfs\n",
    "bound = int((deg_per_stim-3)/2.)\n",
    "true_rf_params = {k:np.random.randint(-bound,high=bound, size=V).astype('float32') for k in ['x0','y0']}\n",
    "true_rf_params['sig'] = np.random.randint(1,high=bound,size=V).astype('float32')\n",
    "##true feature weights\n",
    "true_NU = np.random.random((D*nmaps,V)).astype('float32')\n",
    "\n",
    "##fwrf model\n",
    "true_model = fwrf(val_feature_map_dict,deg_per_stim,V,rf_init=true_rf_params, NU=true_NU)\n",
    "true_model.normalize(lambda: (yield trn_feature_map_dict))\n",
    "\n",
    "##true outputs, trn/val\n",
    "trn_voxel_activity = true_model.predict(trn_feature_map_dict).astype('float32')\n",
    "val_voxel_activity = true_model.predict(val_feature_map_dict).astype('float32')\n",
    "\n",
    "##data generator: note these are functions that *return* generators, so we can reboot the generator whenever.\n",
    "chunk_size = 100\n",
    "trn_data_gen = lambda: (({k:v[ii:ii+chunk_size,:,:,:] for k,v in trn_feature_map_dict.iteritems()}, trn_voxel_activity[ii:ii+chunk_size,:]) for ii in range(0,Ttrn,chunk_size))\n",
    "val_data_gen = lambda: (({k:v[ii:ii+chunk_size,:,:,:] for k,v in val_feature_map_dict.iteritems()}, val_voxel_activity[ii:ii+chunk_size,:]) for ii in range(0,Tval,chunk_size))       \n",
    "\n",
    "##rf grid for coarse training\n",
    "deg_per_radius = (1,deg_per_stim,12)\n",
    "spacing = 2\n",
    "rf_grid_df = make_rf_table(deg_per_stim,deg_per_radius,spacing,pix_per_stim = None)\n",
    "G = rf_grid_df.shape[0]\n",
    "rf_grid = {}\n",
    "rf_grid['x0'] = rf_grid_df.x_deg.values.astype('float32')\n",
    "rf_grid['y0'] = rf_grid_df.y_deg.values.astype('float32')\n",
    "rf_grid['sig'] = rf_grid_df.deg_per_radius.values.astype('float32')\n",
    "rf_grid_df.head()"
   ]
  },
  {
   "cell_type": "code",
   "execution_count": 23,
   "metadata": {
    "collapsed": false
   },
   "outputs": [
    {
     "data": {
      "text/plain": [
       "[<matplotlib.lines.Line2D at 0x7f78f3399c50>]"
      ]
     },
     "execution_count": 23,
     "metadata": {},
     "output_type": "execute_result"
    },
    {
     "data": {
      "image/png": "[encoded data removed]",
      "text/plain": [
       "<matplotlib.figure.Figure at 0x7f78f33bf310>"
      ]
     },
     "metadata": {},
     "output_type": "display_data"
    }
   ],
   "source": [
    "plt.plot(true_model.fwrf.NU.get_value().ravel(), true_NU.ravel(),'.')"
   ]
  },
  {
   "cell_type": "code",
   "execution_count": 24,
   "metadata": {
    "collapsed": false,
    "scrolled": true
   },
   "outputs": [
    {
     "name": "stdout",
     "output_type": "stream",
     "text": [
      "will solve for: [feature_weights]\n",
      "will update wrt: [feature_weights]\n",
      "compiling...\n",
      "=======epoch: 0\n",
      "====iter: 0\n",
      "number of improved models: 4190\n",
      "trn error: 461179232.000000\n",
      "=======epoch: 1\n",
      "====iter: 0\n",
      "number of improved models: 4187\n",
      "trn error: 461039296.000000\n",
      "=======epoch: 2\n",
      "====iter: 0\n",
      "number of improved models: 4182\n",
      "trn error: 460900576.000000\n",
      "=======epoch: 3\n",
      "====iter: 0\n",
      "number of improved models: 4183\n",
      "trn error: 460760448.000000\n",
      "=======epoch: 4\n",
      "====iter: 0\n",
      "number of improved models: 4179\n",
      "trn error: 460619360.000000\n",
      "=======epoch: 5\n",
      "====iter: 0\n",
      "number of improved models: 4174\n",
      "trn error: 460479584.000000\n",
      "=======epoch: 6\n",
      "====iter: 0\n",
      "number of improved models: 4179\n",
      "trn error: 460339712.000000\n",
      "=======epoch: 7\n",
      "====iter: 0\n",
      "number of improved models: 4175\n",
      "trn error: 460200256.000000\n",
      "=======epoch: 8\n",
      "====iter: 0\n",
      "number of improved models: 4171\n",
      "trn error: 460060800.000000\n",
      "=======epoch: 9\n",
      "====iter: 0\n",
      "number of improved models: 4172\n",
      "trn error: 459921216.000000\n"
     ]
    }
   ],
   "source": [
    "_=true_model.train_me(trn_data_gen, val_data_gen,coarse=True,rf_grid=rf_grid, learning_rate=10e-8,epochs=10, num_iters = 1,check_every=1,print_stuff=True,check_dims=False, normalize=True,consolidate=True)"
   ]
  },
  {
   "cell_type": "code",
   "execution_count": 25,
   "metadata": {
    "collapsed": false
   },
   "outputs": [
    {
     "data": {
      "text/plain": [
       "[<matplotlib.lines.Line2D at 0x7f78ae3fcb50>]"
      ]
     },
     "execution_count": 25,
     "metadata": {},
     "output_type": "execute_result"
    },
    {
     "data": {
      "image/png": "[encoded data removed]",
      "text/plain": [
       "<matplotlib.figure.Figure at 0x7f78ae4573d0>"
      ]
     },
     "metadata": {},
     "output_type": "display_data"
    }
   ],
   "source": [
    "plt.plot(true_model.fwrf.NU.get_value().ravel(), true_NU.ravel(),'.')"
   ]
  },
  {
   "cell_type": "code",
   "execution_count": 26,
   "metadata": {
    "collapsed": false,
    "scrolled": true
   },
   "outputs": [
    {
     "name": "stdout",
     "output_type": "stream",
     "text": [
      "will solve for: [rf_fmap_08.x0, rf_fmap_08.y0, rf_fmap_08.sig, feature_weights]\n",
      "will update wrt: [rf_fmap_08.x0, rf_fmap_08.y0, rf_fmap_08.sig, feature_weights]\n",
      "compiling...\n",
      "=======epoch: 0\n",
      "====iter: 0\n",
      "number of improved models: 4\n",
      "trn error: 15979.267578\n",
      "====iter: 0\n",
      "number of improved models: 4\n",
      "trn error: 18067.097656\n",
      "====iter: 0\n",
      "number of improved models: 3\n",
      "trn error: 21679.121094\n",
      "====iter: 0\n",
      "number of improved models: 4\n",
      "trn error: 20802.160156\n",
      "====iter: 0\n",
      "number of improved models: 4\n",
      "trn error: 17009.835938\n",
      "====iter: 0\n",
      "number of improved models: 4\n",
      "trn error: 18831.109375\n",
      "====iter: 0\n",
      "number of improved models: 4\n",
      "trn error: 19643.904297\n",
      "====iter: 0\n",
      "number of improved models: 4\n",
      "trn error: 19635.968750\n",
      "====iter: 0\n",
      "number of improved models: 4\n",
      "trn error: 18696.960938\n",
      "====iter: 0\n",
      "number of improved models: 4\n",
      "trn error: 17143.531250\n",
      "====iter: 0\n",
      "number of improved models: 4\n",
      "trn error: 16112.613281\n",
      "====iter: 0\n",
      "number of improved models: 4\n",
      "trn error: 18979.517578\n",
      "====iter: 0\n",
      "number of improved models: 4\n",
      "trn error: 19132.960938\n",
      "====iter: 0\n",
      "number of improved models: 4\n",
      "trn error: 18346.816406\n",
      "====iter: 0\n",
      "number of improved models: 3\n",
      "trn error: 20646.437500\n",
      "====iter: 0\n",
      "number of improved models: 4\n",
      "trn error: 20705.427734\n",
      "====iter: 0\n",
      "number of improved models: 4\n",
      "trn error: 18186.609375\n",
      "====iter: 0\n",
      "number of improved models: 4\n",
      "trn error: 20337.863281\n",
      "====iter: 0\n",
      "number of improved models: 4\n",
      "trn error: 21314.109375\n",
      "====iter: 0\n",
      "number of improved models: 4\n",
      "trn error: 19417.878906\n",
      "====iter: 0\n",
      "number of improved models: 1\n",
      "trn error: 341.967957\n",
      "=======epoch: 1\n",
      "====iter: 0\n",
      "number of improved models: 3\n",
      "trn error: 15964.748047\n",
      "====iter: 0\n",
      "number of improved models: 4\n",
      "trn error: 18052.492188\n",
      "====iter: 0\n",
      "number of improved models: 3\n",
      "trn error: 21660.853516\n",
      "====iter: 0\n",
      "number of improved models: 4\n",
      "trn error: 20783.882812\n",
      "====iter: 0\n",
      "number of improved models: 4\n",
      "trn error: 16994.777344\n",
      "====iter: 0\n",
      "number of improved models: 4\n",
      "trn error: 18814.949219\n",
      "====iter: 0\n",
      "number of improved models: 4\n",
      "trn error: 19628.042969\n",
      "====iter: 0\n",
      "number of improved models: 4\n",
      "trn error: 19619.292969\n",
      "====iter: 0\n",
      "number of improved models: 4\n",
      "trn error: 18680.099609\n",
      "====iter: 0\n",
      "number of improved models: 4\n",
      "trn error: 17128.832031\n",
      "====iter: 0\n",
      "number of improved models: 4\n",
      "trn error: 16098.342773\n",
      "====iter: 0\n",
      "number of improved models: 4\n",
      "trn error: 18963.390625\n",
      "====iter: 0\n",
      "number of improved models: 4\n",
      "trn error: 19115.871094\n",
      "====iter: 0\n",
      "number of improved models: 4\n",
      "trn error: 18330.832031\n",
      "====iter: 0\n",
      "number of improved models: 3\n",
      "trn error: 20627.513672\n",
      "====iter: 0\n",
      "number of improved models: 4\n",
      "trn error: 20687.259766\n",
      "====iter: 0\n",
      "number of improved models: 4\n",
      "trn error: 18171.298828\n",
      "====iter: 0\n",
      "number of improved models: 4\n",
      "trn error: 20320.328125\n",
      "====iter: 0\n",
      "number of improved models: 4\n",
      "trn error: 21295.683594\n",
      "====iter: 0\n",
      "number of improved models: 4\n",
      "trn error: 19401.097656\n",
      "====iter: 0\n",
      "number of improved models: 1\n",
      "trn error: 341.758911\n",
      "=======epoch: 2\n",
      "====iter: 0\n",
      "number of improved models: 3\n",
      "trn error: 15950.111328\n",
      "====iter: 0\n",
      "number of improved models: 4\n",
      "trn error: 18038.140625\n",
      "====iter: 0\n",
      "number of improved models: 3\n",
      "trn error: 21642.646484\n",
      "====iter: 0\n",
      "number of improved models: 4\n",
      "trn error: 20765.585938\n",
      "====iter: 0\n",
      "number of improved models: 4\n",
      "trn error: 16979.687500\n",
      "====iter: 0\n",
      "number of improved models: 4\n",
      "trn error: 18798.851562\n",
      "====iter: 0\n",
      "number of improved models: 4\n",
      "trn error: 19612.417969\n",
      "====iter: 0\n",
      "number of improved models: 4\n",
      "trn error: 19602.640625\n",
      "====iter: 0\n",
      "number of improved models: 3\n",
      "trn error: 18663.179688\n",
      "====iter: 0\n",
      "number of improved models: 4\n",
      "trn error: 17114.152344\n",
      "====iter: 0\n",
      "number of improved models: 4\n",
      "trn error: 16083.989258\n",
      "====iter: 0\n",
      "number of improved models: 4\n",
      "trn error: 18947.316406\n",
      "====iter: 0\n",
      "number of improved models: 4\n",
      "trn error: 19098.726562\n",
      "====iter: 0\n",
      "number of improved models: 4\n",
      "trn error: 18314.875000\n",
      "====iter: 0\n",
      "number of improved models: 3\n",
      "trn error: 20608.402344\n",
      "====iter: 0\n",
      "number of improved models: 3\n",
      "trn error: 20669.078125\n",
      "====iter: 0\n",
      "number of improved models: 4\n",
      "trn error: 18156.126953\n",
      "====iter: 0\n",
      "number of improved models: 4\n",
      "trn error: 20302.849609\n",
      "====iter: 0\n",
      "number of improved models: 4\n",
      "trn error: 21277.277344\n",
      "====iter: 0\n",
      "number of improved models: 4\n",
      "trn error: 19384.320312\n",
      "====iter: 0\n",
      "number of improved models: 1\n",
      "trn error: 341.565063\n",
      "=======epoch: 3\n",
      "====iter: 0\n",
      "number of improved models: 3\n",
      "trn error: 15935.381836\n",
      "====iter: 0\n",
      "number of improved models: 4\n",
      "trn error: 18024.011719\n",
      "====iter: 0\n",
      "number of improved models: 3\n",
      "trn error: 21624.500000\n",
      "====iter: 0\n",
      "number of improved models: 4\n",
      "trn error: 20747.281250\n",
      "====iter: 0\n",
      "number of improved models: 4\n",
      "trn error: 16964.574219\n",
      "====iter: 0\n",
      "number of improved models: 4\n",
      "trn error: 18782.816406\n",
      "====iter: 0\n",
      "number of improved models: 4\n",
      "trn error: 19596.994141\n",
      "====iter: 0\n",
      "number of improved models: 4\n",
      "trn error: 19586.011719\n",
      "====iter: 0\n",
      "number of improved models: 3\n",
      "trn error: 18646.218750\n",
      "====iter: 0\n",
      "number of improved models: 4\n",
      "trn error: 17099.492188\n",
      "====iter: 0\n",
      "number of improved models: 3\n",
      "trn error: 16069.573242\n",
      "====iter: 0\n",
      "number of improved models: 4\n",
      "trn error: 18931.285156\n",
      "====iter: 0\n",
      "number of improved models: 3\n",
      "trn error: 19081.546875\n",
      "====iter: 0\n",
      "number of improved models: 4\n",
      "trn error: 18298.945312\n",
      "====iter: 0\n",
      "number of improved models: 3\n",
      "trn error: 20589.152344\n",
      "====iter: 0\n",
      "number of improved models: 3\n",
      "trn error: 20650.902344\n",
      "====iter: 0\n",
      "number of improved models: 4\n",
      "trn error: 18141.068359\n",
      "====iter: 0\n",
      "number of improved models: 4\n",
      "trn error: 20285.421875\n",
      "====iter: 0\n",
      "number of improved models: 4\n",
      "trn error: 21258.890625\n",
      "====iter: 0\n",
      "number of improved models: 4\n",
      "trn error: 19367.552734\n",
      "====iter: 0\n",
      "number of improved models: 1\n",
      "trn error: 341.382629\n",
      "=======epoch: 4\n",
      "====iter: 0\n",
      "number of improved models: 3\n",
      "trn error: 15920.593750\n",
      "====iter: 0\n",
      "number of improved models: 4\n",
      "trn error: 18010.054688\n",
      "====iter: 0\n",
      "number of improved models: 3\n",
      "trn error: 21606.417969\n",
      "====iter: 0\n",
      "number of improved models: 4\n",
      "trn error: 20728.976562\n",
      "====iter: 0\n",
      "number of improved models: 4\n",
      "trn error: 16949.451172\n",
      "====iter: 0\n",
      "number of improved models: 4\n",
      "trn error: 18766.832031\n",
      "====iter: 0\n",
      "number of improved models: 4\n",
      "trn error: 19581.712891\n",
      "====iter: 0\n",
      "number of improved models: 4\n",
      "trn error: 19569.398438\n",
      "====iter: 0\n",
      "number of improved models: 3\n",
      "trn error: 18629.248047\n",
      "====iter: 0\n",
      "number of improved models: 4\n",
      "trn error: 17084.861328\n",
      "====iter: 0\n",
      "number of improved models: 3\n",
      "trn error: 16055.128906\n",
      "====iter: 0\n",
      "number of improved models: 4\n",
      "trn error: 18915.304688\n",
      "====iter: 0\n",
      "number of improved models: 3\n",
      "trn error: 19064.359375\n",
      "====iter: 0\n",
      "number of improved models: 4\n",
      "trn error: 18283.048828\n",
      "====iter: 0\n",
      "number of improved models: 3\n",
      "trn error: 20569.839844\n",
      "====iter: 0\n",
      "number of improved models: 3\n",
      "trn error: 20632.738281\n",
      "====iter: 0\n",
      "number of improved models: 4\n",
      "trn error: 18126.105469\n",
      "====iter: 0\n",
      "number of improved models: 4\n",
      "trn error: 20268.031250\n",
      "====iter: 0\n",
      "number of improved models: 4\n",
      "trn error: 21240.523438\n",
      "====iter: 0\n",
      "number of improved models: 4\n",
      "trn error: 19350.804688\n",
      "====iter: 0\n",
      "number of improved models: 1\n",
      "trn error: 341.207275\n",
      "=======epoch: 5\n",
      "====iter: 0\n",
      "number of improved models: 3\n",
      "trn error: 15905.782227\n",
      "====iter: 0\n",
      "number of improved models: 4\n",
      "trn error: 17996.210938\n",
      "====iter: 0\n",
      "number of improved models: 3\n",
      "trn error: 21588.406250\n",
      "====iter: 0\n",
      "number of improved models: 4\n",
      "trn error: 20710.683594\n",
      "====iter: 0\n",
      "number of improved models: 4\n",
      "trn error: 16934.330078\n",
      "====iter: 0\n",
      "number of improved models: 4\n",
      "trn error: 18750.880859\n",
      "====iter: 0\n",
      "number of improved models: 3\n",
      "trn error: 19566.509766\n",
      "====iter: 0\n",
      "number of improved models: 4\n",
      "trn error: 19552.794922\n",
      "====iter: 0\n",
      "number of improved models: 3\n",
      "trn error: 18612.304688\n",
      "====iter: 0\n",
      "number of improved models: 4\n",
      "trn error: 17070.255859\n",
      "====iter: 0\n",
      "number of improved models: 3\n",
      "trn error: 16040.695312\n",
      "====iter: 0\n",
      "number of improved models: 4\n",
      "trn error: 18899.363281\n",
      "====iter: 0\n",
      "number of improved models: 3\n",
      "trn error: 19047.191406\n",
      "====iter: 0\n",
      "number of improved models: 4\n",
      "trn error: 18267.179688\n",
      "====iter: 0\n",
      "number of improved models: 3\n",
      "trn error: 20550.527344\n",
      "====iter: 0\n",
      "number of improved models: 2\n",
      "trn error: 20614.609375\n",
      "====iter: 0\n",
      "number of improved models: 3\n",
      "trn error: 18111.207031\n",
      "====iter: 0\n",
      "number of improved models: 4\n",
      "trn error: 20250.681641\n",
      "====iter: 0\n",
      "number of improved models: 4\n",
      "trn error: 21222.171875\n",
      "====iter: 0\n",
      "number of improved models: 4\n",
      "trn error: 19334.082031\n",
      "====iter: 0\n",
      "number of improved models: 1\n",
      "trn error: 341.033264\n",
      "=======epoch: 6\n",
      "====iter: 0\n",
      "number of improved models: 3\n",
      "trn error: 15890.992188\n",
      "====iter: 0\n",
      "number of improved models: 4\n",
      "trn error: 17982.410156\n",
      "====iter: 0\n",
      "number of improved models: 3\n",
      "trn error: 21570.458984\n",
      "====iter: 0\n",
      "number of improved models: 4\n",
      "trn error: 20692.419922\n",
      "====iter: 0\n",
      "number of improved models: 4\n",
      "trn error: 16919.226562\n",
      "====iter: 0\n",
      "number of improved models: 4\n",
      "trn error: 18734.949219\n",
      "====iter: 0\n",
      "number of improved models: 3\n",
      "trn error: 19551.310547\n",
      "====iter: 0\n",
      "number of improved models: 4\n",
      "trn error: 19536.195312\n",
      "====iter: 0\n",
      "number of improved models: 3\n",
      "trn error: 18595.410156\n",
      "====iter: 0\n",
      "number of improved models: 3\n",
      "trn error: 17055.683594\n",
      "====iter: 0\n",
      "number of improved models: 3\n",
      "trn error: 16026.304688\n",
      "====iter: 0\n",
      "number of improved models: 2\n",
      "trn error: 18883.464844\n",
      "====iter: 0\n",
      "number of improved models: 3\n",
      "trn error: 19030.070312\n",
      "====iter: 0\n",
      "number of improved models: 4\n",
      "trn error: 18251.337891\n",
      "====iter: 0\n",
      "number of improved models: 3\n",
      "trn error: 20531.304688\n",
      "====iter: 0\n",
      "number of improved models: 2\n",
      "trn error: 20596.523438\n",
      "====iter: 0\n",
      "number of improved models: 3\n",
      "trn error: 18096.328125\n",
      "====iter: 0\n",
      "number of improved models: 4\n",
      "trn error: 20233.355469\n",
      "====iter: 0\n",
      "number of improved models: 4\n",
      "trn error: 21203.847656\n",
      "====iter: 0\n",
      "number of improved models: 4\n",
      "trn error: 19317.392578\n",
      "====iter: 0\n",
      "number of improved models: 1\n",
      "trn error: 340.855713\n"
     ]
    }
   ],
   "source": [
    "_=true_model.train_me(trn_data_gen, val_data_gen, fine=True, learning_rate=10e-8,epochs=7, num_iters = 1,check_every=1,print_stuff=True,check_dims=False)"
   ]
  },
  {
   "cell_type": "code",
   "execution_count": 27,
   "metadata": {
    "collapsed": false
   },
   "outputs": [
    {
     "data": {
      "text/plain": [
       "[<matplotlib.lines.Line2D at 0x7f78ae448c50>]"
      ]
     },
     "execution_count": 27,
     "metadata": {},
     "output_type": "execute_result"
    },
    {
     "data": {
      "image/png": "[encoded data removed]",
      "text/plain": [
       "<matplotlib.figure.Figure at 0x7f78abadccd0>"
      ]
     },
     "metadata": {},
     "output_type": "display_data"
    }
   ],
   "source": [
    "plt.plot(true_model.fwrf.NU.get_value().ravel(), true_NU.ravel(),'.')"
   ]
  },
  {
   "cell_type": "code",
   "execution_count": 28,
   "metadata": {
    "collapsed": false
   },
   "outputs": [
    {
     "name": "stdout",
     "output_type": "stream",
     "text": [
      "[ 1.00152183  4.00058699  7.00012922  4.00034666]\n",
      "[ 1.  4.  7.  4.]\n"
     ]
    }
   ],
   "source": [
    "print true_model.rf_layer.sig.get_value().astype('float32')\n",
    "print true_rf_params['sig']"
   ]
  },
  {
   "cell_type": "code",
   "execution_count": 4,
   "metadata": {
    "collapsed": false
   },
   "outputs": [
    {
     "name": "stderr",
     "output_type": "stream",
     "text": [
      ".."
     ]
    },
    {
     "name": "stdout",
     "output_type": "stream",
     "text": [
      "parameter hid_init has shape (1, 11)\n",
      "parameter input_to_hidden.W has shape (144, 11)\n",
      "parameter input_to_hidden.b has shape (11,)\n",
      "parameter hidden_to_hidden.W has shape (11, 11)\n"
     ]
    },
    {
     "name": "stderr",
     "output_type": "stream",
     "text": [
      "\n",
      "----------------------------------------------------------------------\n",
      "Ran 2 tests in 0.005s\n",
      "\n",
      "OK\n"
     ]
    },
    {
     "data": {
      "text/plain": [
       "<unittest.runner.TextTestResult run=2 errors=0 failures=0>"
      ]
     },
     "execution_count": 4,
     "metadata": {},
     "output_type": "execute_result"
    }
   ],
   "source": [
    "class TestGetSetShape(unittest.TestCase):\n",
    "    def setUp(self):\n",
    "        ##build some random complicated layer\n",
    "        input_shape = (14, 13, 12, 12)\n",
    "        num_units = 11\n",
    "        self.test_layer = lasagne.layers.RecurrentLayer(input_shape,num_units)\n",
    "    \n",
    "    def test_param_set_get_shape(self):\n",
    "        params = lasagne.layers.get_all_params(self.test_layer)\n",
    "        for p in params:\n",
    "            val = get_named_params(self.test_layer, p.name)[p.name]\n",
    "            self.assertEqual(val.get_value().shape, get_named_param_shapes(self.test_layer, p.name)[p.name])\n",
    "            \n",
    "    def test_param_names(self):\n",
    "        pnames = get_model_params_names(self.test_layer)\n",
    "        self.assertEqual(pnames, [p.name for p in lasagne.layers.get_all_params(self.test_layer)])\n",
    "\n",
    "suite = unittest.TestLoader().loadTestsFromTestCase( TestGetSetShape )\n",
    "unittest.TextTestRunner(verbosity=1).run( suite )\n",
    "\n",
    "class TestRfLayer(unittest.TestCase):\n",
    "    def setUp(self):\n",
    "        self.T = 900\n",
    "        self.D = 90\n",
    "        self.S = 9\n",
    "        self.input_shape = (self.T,self.D,self.S,self.S)\n",
    "        self.V = 10\n",
    "        self.deg_per_stim = 20\n",
    "        #this tensor stores feature map\n",
    "        self.f_map_0 = tnsr.tensor4('f_map_0',dtype='float32')\n",
    "        ##construct an input layer\n",
    "        self.input_layer = lasagne.layers.InputLayer(self.input_shape, input_var = self.f_map_0, name='input_layer')\n",
    "        ##create a real numpy input of all 1's\n",
    "        self.input_data = np.ones(self.input_shape,dtype='float32')\n",
    "        \n",
    "        try:\n",
    "            self.rf_layer = receptive_field_layer(self.input_layer, self.V, make_space(self.S), self.deg_per_stim, name='rf_layer')\n",
    "        except:\n",
    "            print 'could not init rf layer'\n",
    "    \n",
    "    ##rf stack should be V,S,S\n",
    "    def test_rf_layer_make_rf_stack(self):          \n",
    "        self.assertEqual(self.rf_layer.make_rf_stack().shape, (self.V,self.S,self.S))\n",
    "    \n",
    "    ##output should be T,D,V\n",
    "    def test_rf_layer_output_shape(self):\n",
    "        output_shape = self.rf_layer.get_output_shape_for(self.input_shape)\n",
    "        self.assertEqual(output_shape, (self.T,self.D,self.V))\n",
    "    \n",
    "    ##grid where rfs are evaluated\n",
    "    def test_rf_layer_spatial_grid(self):\n",
    "        self.assertEqual(self.rf_layer.Xm.get_value().shape, (self.S,self.S))\n",
    "        self.assertEqual(self.rf_layer.Ym.get_value().shape, (self.S,self.S))\n",
    "    \n",
    "    ##should all be V\n",
    "    def test_rf_layer_param_shapes(self):\n",
    "        self.assertEqual(self.rf_layer.x0.get_value().shape, (self.V,))\n",
    "        self.assertEqual(self.rf_layer.y0.get_value().shape, (self.V,))\n",
    "        self.assertEqual(self.rf_layer.sig.get_value().shape, (self.V,))\n",
    "    \n",
    "    ##should be T,D,V\n",
    "    def test_rf_layer_output_function_shape(self):\n",
    "        rf_layer_expr = lasagne.layers.get_output(self.rf_layer)\n",
    "        rf_layer_func = function([self.input_layer.input_var], rf_layer_expr)\n",
    "        self.assertEqual(rf_layer_func(self.input_data).shape,(self.T,self.D,self.V))\n",
    "        \n",
    "    ##should go from 0 to 10\n",
    "    def test_set_value_for_voxel(self):\n",
    "        self.rf_layer.set_value_for_voxel(voxel_idx=-1,x0=10,y0=10,sig=10)\n",
    "        self.assertEqual(self.rf_layer.x0.get_value()[-1],10)  ## this is same as next line\n",
    "        self.assertEqual(get_named_params(self.rf_layer,self.rf_layer.x0.name)[self.rf_layer.x0.name].get_value()[-1],10)\n",
    "        self.assertEqual(self.rf_layer.y0.get_value()[-1],10)\n",
    "        self.assertEqual(self.rf_layer.sig.get_value()[-1],10)\n",
    "\n",
    "suite = unittest.TestLoader().loadTestsFromTestCase( TestRfLayer )\n",
    "unittest.TextTestRunner(verbosity=1).run( suite )        \n",
    "\n",
    "class TestCompressiveNonlinearityLayer(unittest.TestCase):\n",
    "    def setUp(self):\n",
    "        self.T = 1001\n",
    "        self.D = 101\n",
    "        self.V = 11\n",
    "        self.input_shape = (self.T,self.D,self.V)\n",
    "        self.test_layer = compressive_nonlinearity_layer(self.input_shape)\n",
    "    def test_output_shape(self):\n",
    "        self.assertEqual(self.input_shape, self.test_layer.get_output_shape_for(self.input_shape))\n",
    " \n",
    "suite = unittest.TestLoader().loadTestsFromTestCase( TestCompressiveNonlinearityLayer )\n",
    "unittest.TextTestRunner(verbosity=1).run( suite )   \n",
    "\n",
    "class TestNormalizationLayer(unittest.TestCase):\n",
    "    def setUp(self):\n",
    "        self.T = 1001\n",
    "        self.D = 4\n",
    "        self.V = 2\n",
    "        self.x = tnsr.tensor3('x')\n",
    "        self.input_shape = (self.T,self.D,self.V)\n",
    "        self.input_layer = lasagne.layers.InputLayer(self.input_shape, input_var=self.x, name='input_layer')\n",
    "        self.test_input = np.random.random(size=self.input_shape).astype('float32')\n",
    "        self.test_input[:,0,0] = 1.\n",
    "        self.mean = np.mean(self.test_input, axis=0)\n",
    "        self.std = np.std(self.test_input, axis=0)\n",
    "        self.mask = np.ones((self.D,self.V))\n",
    "        self.mask[0,0] = 0\n",
    "        self.test_layer = normalization_layer(self.input_layer, mean=self.mean, stdev = self.std, mask = self.mask)\n",
    "        \n",
    "    def test_output_shape(self):\n",
    "        self.assertEqual(self.input_shape, self.test_layer.get_output_shape_for(self.input_shape))\n",
    "    \n",
    "    def test_out_values(self):\n",
    "        output_func = function([self.x], [lasagne.layers.get_output(self.test_layer)])\n",
    "        y = output_func(self.test_input)[0]\n",
    "        ##shape is right\n",
    "        self.assertEqual(self.input_shape, y.shape)\n",
    "        ##degenerate entry set to 0\n",
    "        self.assertTrue(np.all(y[:,0,0]==0))\n",
    "        ##mean is 0\n",
    "        np.testing.assert_almost_equal(np.mean(y,axis=0), 0, decimal=5)\n",
    "        ##stdev is 1 for all but degnerate entry\n",
    "        np.testing.assert_almost_equal(np.std(y,axis=0).ravel()[1:], 1, decimal=6)\n",
    "\n",
    "\n",
    "suite = unittest.TestLoader().loadTestsFromTestCase( TestNormalizationLayer )\n",
    "unittest.TextTestRunner(verbosity=1).run( suite )           \n",
    "\n",
    "class TestFeatureWeightsLayer(unittest.TestCase):\n",
    "    def setUp(self):\n",
    "        T,D,V = 1001,4,20\n",
    "        self.input_shape = (T,D,V)\n",
    "        self.x = tnsr.tensor3('x')\n",
    "        self.input_layer = lasagne.layers.InputLayer(self.input_shape, input_var=self.x, name='input_layer')\n",
    "        self.test_input = np.random.random(size=self.input_shape).astype('float32')\n",
    "        self.test_layer = feature_weights_layer(self.input_layer)\n",
    "        self.layer_func = function([self.x], lasagne.layers.get_output(self.test_layer))\n",
    "        self.y = self.layer_func(self.test_input)\n",
    "    \n",
    "    def test_output(self):\n",
    "        self.assertEqual((self.input_shape[0], self.input_shape[-1]), self.test_layer.get_output_shape_for(self.input_shape))\n",
    "        self.assertEqual((self.input_shape[0], self.input_shape[-1]), self.y.shape)\n",
    "        \n",
    "    def test_set_weight_for_voxel(self):\n",
    "        self.assertIsNone(self.test_layer.set_weight_for_voxel(NU = None))\n",
    "        voxel_idx = [0,1,-2,-1]\n",
    "        NU = [1,1] ##this raise value error because of mismatch\n",
    "        with self.assertRaises(ValueError):\n",
    "            self.test_layer.set_weight_for_voxel(voxel_idx = voxel_idx, NU = NU)     \n",
    "        NU = np.random.random((self.input_shape[1], len(voxel_idx))).astype('float32')\n",
    "        self.test_layer.set_weight_for_voxel(voxel_idx = voxel_idx, NU=NU)\n",
    "        np.testing.assert_array_equal(self.test_layer.NU.get_value()[:,voxel_idx], NU)\n",
    "\n",
    "suite = unittest.TestLoader().loadTestsFromTestCase( TestFeatureWeightsLayer )\n",
    "unittest.TextTestRunner(verbosity=1).run( suite )         \n",
    "\n",
    "class TestPredictionMenuLayer( unittest.TestCase ):\n",
    "    def setUp(self):\n",
    "        T,D,G,V = 100, 11, 5, 3\n",
    "        x = tnsr.tensor3('x')\n",
    "        test_input = np.random.random((T,D,G)).astype('float32')\n",
    "        test_layer = lasagne.layers.InputLayer((T,D,G), input_var=x)\n",
    "        test_layer = prediction_menu_layer(test_layer,V)\n",
    "        test_layer_expr = lasagne.layers.get_output(test_layer) \n",
    "        test_layer_func = function([x], test_layer_expr)\n",
    "        \n",
    "        ##record\n",
    "        self.T,self.D,self.G,self.V = T,D,G,V\n",
    "        self.test_layer = test_layer\n",
    "        self.test_input = test_input\n",
    "        self.test_layer_func = test_layer_func\n",
    "    \n",
    "    def test_output_shape(self):\n",
    "        self.assertEqual((self.T,self.G,self.V), self.test_layer.get_output_shape_for(self.test_input.shape))\n",
    "        self.assertEqual((self.T,self.G,self.V), self.test_layer_func(self.test_input).shape)\n",
    "\n",
    "suite = unittest.TestLoader().loadTestsFromTestCase( TestPredictionMenuLayer )\n",
    "unittest.TextTestRunner(verbosity=1).run( suite )         \n",
    "\n",
    "class TestBatchModelLearner(unittest.TestCase):\n",
    "    \n",
    "    def setUp(self):\n",
    "        Ttrn,Tval,D,S,V = 5000,200,5,2,3\n",
    "        self.V = V\n",
    "        self.Ttrn = Ttrn\n",
    "        self.Tval = Tval\n",
    "        model_input_tnsr_dict = {}\n",
    "        model_input_tnsr_dict['fmap0'] = tnsr.tensor4('fmap0')\n",
    "        input_layer = lasagne.layers.InputLayer((None,D,S,S), input_var = model_input_tnsr_dict['fmap0'])\n",
    "        \n",
    "        self.true_W = np.random.random((D*S*S,V)).astype('float32')\n",
    "        true_model = lasagne.layers.DenseLayer(input_layer,num_units = V, W=self.true_W)\n",
    "        out_func = function([model_input_tnsr_dict['fmap0']], lasagne.layers.get_output(true_model))\n",
    "        \n",
    "        ##create training/val data using true model\n",
    "        trn_in = {}\n",
    "        trn_in['fmap0'] = np.random.random((Ttrn,D,S,S)).astype('float32')\n",
    "        trn_out = out_func(trn_in['fmap0'])\n",
    "        trn_data_gen = lambda: (yield trn_in, trn_out)\n",
    "        val_in = {}\n",
    "        val_in['fmap0'] = np.random.random((Tval,D,S,S)).astype('float32')\n",
    "        val_out = out_func(val_in['fmap0'])\n",
    "        val_data_gen = lambda: (yield val_in,val_out)\n",
    "        \n",
    "        ##test basic dimensions, parameter assignment\n",
    "        self.learn_nothing = batch_model_learner(true_model, model_input_tnsr_dict,trn_data_gen, val_data_gen, self.V)\n",
    "        \n",
    "        ##test learning of \"b\": start at b=1, see if it will learn b = 0\n",
    "        test_b_model = lasagne.layers.DenseLayer(input_layer,num_units = V, W=self.true_W, b=np.ones((self.V,)).astype('float32'))\n",
    "        self.learn_b = batch_model_learner(test_b_model, model_input_tnsr_dict,trn_data_gen, val_data_gen, self.V, learn_these_params=['b'], check_every=100,learning_rate= 0.00001, num_iters = 400,print_stuff=False)\n",
    "\n",
    "        ##test learning of \"W\": start at W = some other random values\n",
    "        test_W_model = lasagne.layers.DenseLayer(input_layer,num_units = V, W=np.random.random((D*S*S,V)).astype('float32'))\n",
    "        self.learn_W = batch_model_learner(test_b_model, model_input_tnsr_dict,trn_data_gen, val_data_gen, self.V, learn_these_params=['W'], check_every=100,learning_rate= 10e-15, num_iters = 90000, print_stuff=False)\n",
    "        \n",
    "        ##test learning of \"W\" and \"b\"\n",
    "        test_both_model = lasagne.layers.DenseLayer(input_layer,num_units = V, W=np.random.random((D*S*S,V)).astype('float32'),b=np.ones((self.V,)).astype('float32'))\n",
    "        self.learn_both = batch_model_learner(test_both_model, model_input_tnsr_dict,trn_data_gen, val_data_gen, self.V, check_every=100,learning_rate= 0.00001, num_iters = 15000, print_stuff=False)\n",
    "    \n",
    "    def test_num_voxels(self):\n",
    "        self.assertEqual(self.learn_nothing.num_voxels, self.V)\n",
    "    \n",
    "    def test_voxel_dims(self):\n",
    "        self.assertDictEqual(self.learn_nothing.voxel_dims, {'W': 1, 'b':0})        \n",
    "        \n",
    "    def test_loss_func(self):\n",
    "        trn_in,trn_out = self.learn_nothing.trn_data_generator().next()\n",
    "        trn_loss = self.learn_nothing.loss(trn_out,*trn_in.values())\n",
    "        self.assertEqual(trn_out.shape, (self.Ttrn, self.V))\n",
    "        self.assertEqual(trn_loss.shape, (self.V,))\n",
    "        np.testing.assert_array_equal(trn_loss, np.zeros((self.learn_nothing.num_voxels,)))\n",
    "    \n",
    "    def test_learn_b(self):\n",
    "        new_model,val_loss,val_hist,trn_hist = self.learn_b.learn()\n",
    "        np.testing.assert_array_almost_equal(new_model.b.get_value(), np.zeros((self.V)), decimal=5)\n",
    "        \n",
    "    def test_learn_W(self):\n",
    "        new_model,val_loss,val_hist,trn_hist = self.learn_W.learn()\n",
    "        np.testing.assert_array_almost_equal(new_model.W.get_value(), self.true_W, decimal=5)\n",
    "    \n",
    "    def test_learn_both(self):\n",
    "        new_model,val_loss,val_hist,trn_hist = self.learn_both.learn()\n",
    "        np.testing.assert_array_almost_equal(new_model.b.get_value(), np.zeros((self.V)), decimal=4)\n",
    "        np.testing.assert_array_almost_equal(new_model.W.get_value(), self.true_W, decimal=4)\n",
    "        \n",
    "        \n",
    "suite = unittest.TestLoader().loadTestsFromTestCase( TestBatchModelLearner )\n",
    "unittest.TextTestRunner(verbosity=1).run( suite )                \n",
    "\n",
    "class TestBatchModelLearnerMulti(unittest.TestCase):\n",
    "    \n",
    "    def setUp(self):\n",
    "        Ttrn,Tval,D,G,V = 5000,200,5,2,3\n",
    "        model_input_tnsr_dict = {}\n",
    "        model_input_tnsr_dict['fmap0'] = tnsr.tensor3('fmap0')\n",
    "        input_layer = lasagne.layers.InputLayer((None,D,G), input_var = model_input_tnsr_dict['fmap0'])\n",
    "        \n",
    "        true_NU = np.random.random((D,G,V)).astype('float32')\n",
    "        true_rf = np.random.randint(0,high=G,size=V)\n",
    "        best_model_matrix = [slice(None), tuple(true_rf), tuple(range(V))]\n",
    "        true_model = prediction_menu_layer(input_layer,V, NU=true_NU)\n",
    "        \n",
    "        \n",
    "        tmp_out_func = function([model_input_tnsr_dict['fmap0']], lasagne.layers.get_output(true_model))\n",
    "        out_func = lambda x: tmp_out_func(x)[best_model_matrix]\n",
    "\n",
    "\n",
    "        trn_in = {}\n",
    "        trn_in['fmap0'] = np.random.random((Ttrn,D,G)).astype('float32')\n",
    "        trn_out = out_func(trn_in['fmap0'])\n",
    "        trn_data_gen = lambda: (yield trn_in, trn_out)\n",
    "        val_in = {}\n",
    "        val_in['fmap0'] = np.random.random((Tval,D,G)).astype('float32')\n",
    "        val_out = out_func(val_in['fmap0'])\n",
    "        val_data_gen = lambda: (yield val_in,val_out)   \n",
    "        \n",
    "        ##test basic dimensions, parameter assignment\n",
    "        learn_nothing = batch_model_learner_multi(true_model, model_input_tnsr_dict,trn_data_gen, val_data_gen, V, G, model_dims=None)\n",
    "        val_loss = learn_nothing.loss(val_out,*val_in.values())        \n",
    "\n",
    "        \n",
    "        ##test learning of NU\n",
    "        test_model = prediction_menu_layer(input_layer,V, NU=np.random.random((D,G,V)).astype('float32'))\n",
    "        learn_something = batch_model_learner_multi(test_model, model_input_tnsr_dict,trn_data_gen, val_data_gen, V, G, check_every=100,learning_rate= 0.0000001, num_iters = 150000, print_stuff=False)\n",
    "        \n",
    " \n",
    "        ##record everything needed in self\n",
    "        self.V = V\n",
    "        self.Ttrn = Ttrn\n",
    "        self.Tval = Tval\n",
    "        self.G = G\n",
    "        self.input_layer = input_layer\n",
    "        self.true_NU = true_NU\n",
    "        self.true_rf = true_rf\n",
    "        self.learn_nothing = learn_nothing\n",
    "        self.learn_something = learn_something\n",
    "        self.val_in = val_in\n",
    "        self.val_out = val_out\n",
    " \n",
    "    \n",
    "    def test_num_voxels(self):\n",
    "        self.assertEqual(self.learn_nothing.num_voxels, self.V)\n",
    "    \n",
    "    def test_voxel_dims(self):\n",
    "        self.assertDictEqual(self.learn_nothing.voxel_dims, {'feature_weights': 2})   \n",
    "        \n",
    "    def test_data_generator(self):\n",
    "        val_in, val_out = self.learn_nothing.val_data_generator().next()\n",
    "        self.assertEqual(val_out.shape, (self.Tval, self.V))\n",
    "        \n",
    "    def test_loss_func_and_best_model_selection(self):\n",
    "        \n",
    "        val_loss = self.learn_nothing.loss(self.val_out,*self.val_in.values())        \n",
    "        self.assertEqual(val_loss.shape, (self.G, self.V,))\n",
    "        \n",
    "        min_val_loss,argmin_val_loss = self.learn_nothing.get_min_loss(val_loss)\n",
    "\n",
    "        \n",
    "        np.testing.assert_array_equal(min_val_loss, np.zeros(self.learn_nothing.num_voxels))\n",
    "        np.testing.assert_array_equal(argmin_val_loss, self.true_rf)\n",
    "        \n",
    "        best_model_params = self.learn_nothing.select_best_model(val_loss)\n",
    "        for vv in range(self.V):\n",
    "            np.testing.assert_array_equal(best_model_params['feature_weights'][:,vv], self.true_NU[:,self.true_rf[vv],vv])\n",
    "            \n",
    "    def test_learn_something(self):\n",
    "        new_model,val_loss,val_hist,trn_hist = self.learn_something.learn()\n",
    "        best_model_params = self.learn_something.select_best_model(val_loss)\n",
    "        for vv in range(self.V):\n",
    "            np.testing.assert_array_almost_equal(best_model_params['feature_weights'][:,vv], self.true_NU[:,self.true_rf[vv],vv], decimal=2)\n",
    "    \n",
    "        \n",
    "suite = unittest.TestLoader().loadTestsFromTestCase( TestBatchModelLearnerMulti )\n",
    "unittest.TextTestRunner(verbosity=1).run( suite )  \n",
    "\n",
    "class TestRfModelSpace( unittest.TestCase ):\n",
    "    \n",
    "    def setUp(self):\n",
    "        T,D,V = 20,13,3\n",
    "        self.V = V\n",
    "        self.nmaps = 10\n",
    "        self.D = D\n",
    "        self.T = T\n",
    "        self.deg_per_stim = 10\n",
    "        self.feature_map_dict = {}\n",
    "        ##create 10 feature maps where resolution happens to be name\n",
    "        for ii in range(1,self.nmaps+1):\n",
    "            input_name = 'fmap_%0.2d' % (ii)\n",
    "            self.feature_map_dict[input_name] = np.random.random((T,D,ii,ii)).astype('float32')\n",
    "        \n",
    "        self.rfms = rf_model_space(self.feature_map_dict, self.deg_per_stim, self.V)\n",
    "        \n",
    "        self.cal_data_generator = lambda: (yield self.feature_map_dict)\n",
    "    \n",
    "    def test_basic_attributes(self):\n",
    "        self.assertEqual(self.rfms.D, self.D*self.nmaps)\n",
    "    \n",
    "    def test_construct_model_space_tensor(self):\n",
    "        mst = self.rfms.construct_model_space_tensor(*self.feature_map_dict.values())\n",
    "        self.assertEqual(mst.shape, (self.T, self.rfms.D, self.V))\n",
    "        \n",
    "    def test_normalize(self):\n",
    "        self.rfms.normalize(self.cal_data_generator)\n",
    "        mst = self.rfms.construct_model_space_tensor(*self.feature_map_dict.values())\n",
    "        np.testing.assert_array_almost_equal(np.mean(mst,axis=0), np.zeros((self.rfms.D,self.V)), decimal=6)\n",
    "        np.testing.assert_array_almost_equal(np.std(mst,axis=0), np.ones((self.rfms.D,self.V)), decimal=6)\n",
    "\n",
    "suite = unittest.TestLoader().loadTestsFromTestCase( TestRfModelSpace )\n",
    "unittest.TextTestRunner(verbosity=1).run( suite )                        \n",
    "\n",
    "class TestFwrf( unittest.TestCase ):\n",
    "    \n",
    "    def setUp(self):\n",
    "        \n",
    "        ##params\n",
    "        Ttrn,Tval,D,V,nmaps = 2003,301,17,4,8\n",
    "        deg_per_stim = 20\n",
    "        sf = 10\n",
    "\n",
    "        ##feature maps\n",
    "        trn_feature_map_dict = {}\n",
    "        for ii in range(1,nmaps+1):\n",
    "            input_name = 'fmap_%0.2d' % (ii)\n",
    "            trn_feature_map_dict[input_name] = np.random.random((Ttrn,D,sf*ii,sf*ii)).astype('float32')\n",
    "\n",
    "        val_feature_map_dict = {}\n",
    "        for ii in range(1,nmaps+1):\n",
    "            input_name = 'fmap_%0.2d' % (ii)\n",
    "            val_feature_map_dict[input_name] = np.random.random((Tval,D,sf*ii,sf*ii)).astype('float32')\n",
    "\n",
    "\n",
    "        ##true rfs\n",
    "        bound = int((deg_per_stim-3)/2.)\n",
    "        true_rf_params = {k:np.random.randint(-bound,high=bound, size=V).astype('float32') for k in ['x0','y0']}\n",
    "        true_rf_params['sig'] = np.random.randint(1,high=bound,size=V).astype('float32')\n",
    "        ##true feature weights\n",
    "        true_NU = np.random.random((D*nmaps,V)).astype('float32')\n",
    "\n",
    "        ##fwrf model\n",
    "        true_model = fwrf(val_feature_map_dict,deg_per_stim,V,rf_init=true_rf_params, NU=true_NU)\n",
    "        true_model.normalize(lambda: (yield trn_feature_map_dict))\n",
    "\n",
    "        ##true outputs, trn/val\n",
    "        trn_voxel_activity = true_model.predict(trn_feature_map_dict).astype('float32')\n",
    "        val_voxel_activity = true_model.predict(val_feature_map_dict).astype('float32')\n",
    "\n",
    "        ##data generator: note these are functions that *return* generators, so we can reboot the generator whenever.\n",
    "        chunk_size = 100\n",
    "        trn_data_gen = lambda: (({k:v[ii:ii+chunk_size,:,:,:] for k,v in trn_feature_map_dict.iteritems()}, trn_voxel_activity[ii:ii+chunk_size,:]) for ii in range(0,Ttrn,chunk_size))\n",
    "        val_data_gen = lambda: (({k:v[ii:ii+chunk_size,:,:,:] for k,v in val_feature_map_dict.iteritems()}, val_voxel_activity[ii:ii+chunk_size,:]) for ii in range(0,Tval,chunk_size))       \n",
    "\n",
    "        ##rf grid for coarse training\n",
    "        deg_per_radius = (1,deg_per_stim,12)\n",
    "        spacing = 2\n",
    "        rf_grid_df = make_rf_table(deg_per_stim,deg_per_radius,spacing,pix_per_stim = None)\n",
    "        G = rf_grid_df.shape[0]\n",
    "        rf_grid = {}\n",
    "        rf_grid['x0'] = rf_grid_df.x_deg.values.astype('float32')\n",
    "        rf_grid['y0'] = rf_grid_df.y_deg.values.astype('float32')\n",
    "        rf_grid['sig'] = rf_grid_df.deg_per_radius.values.astype('float32')\n",
    "\n",
    "        ##record what is needed\n",
    "        self.true_model = true_model\n",
    "        self.trn_data_gen = trn_data_gen\n",
    "        self.val_data_gen = val_data_gen\n",
    "        self.true_NU = true_NU\n",
    "        self.true_rf_params = true_rf_params\n",
    "        self.rf_grid = rf_grid\n",
    "        self.Tval = Tval\n",
    "        self.V = V\n",
    "        self.Ttrn = Ttrn\n",
    "        self.chunk_size = chunk_size\n",
    "        self.D = D\n",
    "        self.nmaps = nmaps\n",
    "        self.G = G\n",
    "\n",
    "\n",
    "    ##test fwrf output dimensions\n",
    "    def test_fwrf_output_dimensions(self):\n",
    "        inp,outp = self.val_data_gen().next()\n",
    "        self.assertEqual(outp.shape,(self.chunk_size, self.V))\n",
    "        inp,outp = self.trn_data_gen().next()\n",
    "        self.assertEqual(outp.shape,(self.chunk_size, self.V))\n",
    "        self.assertEqual(self.D*self.nmaps, self.true_model.D)\n",
    "\n",
    "    ##loss is 0 for fwrf with true params\n",
    "    def test_fwrf_true_output(self):\n",
    "        inp,outp = self.val_data_gen().next()\n",
    "        learner = batch_model_learner(self.true_model.fwrf,self.true_model.input_var_dict,self.trn_data_gen,self.val_data_gen,self.V)\n",
    "        val_loss = learner.loss(outp, *inp.values())\n",
    "        np.testing.assert_array_almost_equal(val_loss, np.zeros(val_loss.shape), decimal = 7)\n",
    "    \n",
    "    ##test create proxy and test proxy shape\n",
    "    def test_create_proxy_net(self):\n",
    "        pxnet,_ = self.true_model._build_proxy_network((None,self.D*self.nmaps,self.G))\n",
    "        out_shape = pxnet.get_output_shape_for((self.Ttrn,self.true_model.D,self.G))\n",
    "        self.assertEqual(out_shape, (self.Ttrn,self.G,self.V))\n",
    "        \n",
    "    ##test construct model space tensor\n",
    "    def test_construct_model_space_tensor( self ):\n",
    "        _,mst_gen = self.true_model._build_rf_model_space_tensor(self.trn_data_gen,self.val_data_gen,self.rf_grid, consolidate=False)\n",
    "        self.assertEqual(mst_gen().next()[0]['mst'].shape, (self.chunk_size,self.true_model.D,self.G))\n",
    "        self.assertEqual(mst_gen().next()[1].shape, (self.chunk_size, self.V))\n",
    "        \n",
    "        _,mst_gen = self.true_model._build_rf_model_space_tensor(self.trn_data_gen,self.val_data_gen,self.rf_grid, consolidate=True)\n",
    "        self.assertEqual(mst_gen().next()[0]['mst'].shape, (self.Tval,self.true_model.D,self.G))\n",
    "        self.assertEqual(mst_gen().next()[1].shape, (self.Tval, self.V))\n",
    "        \n",
    "    \n",
    "    ##test coarse learning using rf grid\n",
    "    def test_fwrf_train_me( self ):\n",
    "        ##coarse\n",
    "        _=true_model.train_me(trn_data_gen, val_data_gen,coarse=True,rf_grid=rf_grid, learning_rate=10e-8,epochs=10, num_iters = 1,check_every=1,print_stuff=True,check_dims=False, normalize=True,consolidate=True)\n",
    "        ##fine\n",
    "        _=true_model.train_me(trn_data_gen, val_data_gen, fine=True, learning_rate=10e-8,epochs=7, num_iters = 1,check_every=1,print_stuff=True,check_dims=False)\n",
    "   \n",
    "        np.testing.assert_array_almost_equal(true_model.rf_layer.sig.get_value().astype('float32'),true_rf_params['sig'],decimal=2)\n",
    "        np.testing.assert_array_almost_equal(true_model.rf_layer.x0.get_value().astype('float32'),true_rf_params['x0'],decimal=2)\n",
    "        np.testing.assert_array_almost_equal(true_model.rf_layer.y0.get_value().astype('float32'),true_rf_params['y0'],decimal=2)\n",
    "    \n",
    "suite = unittest.TestLoader().loadTestsFromTestCase( TestFwrf )\n",
    "unittest.TextTestRunner(verbosity=1).run( suite )                        "
   ]
  },
  {
   "cell_type": "code",
   "execution_count": null,
   "metadata": {
    "collapsed": true
   },
   "outputs": [],
   "source": [
    "\n",
    "##MAKE THIS A CLASS, WITH ABILITY TO LOOP OVER MANY TRN/VAL MODEL PAIRS.\n",
    "##\n",
    "##TODO: INPUTS AS SHARED VARIABLES?\n",
    "def decode_feature_maps(trn_fwrf_model, val_fwrf_model, trn_activity, val_activity, feature_map_dict, error_diff_thresh):\n",
    "    ##build loss\n",
    "    trn_activity_tensor = tnsr.matrix('trn_activity')\n",
    "    val_activity_tensor = tnsr.matrix('val_activity')\n",
    "\n",
    "    trn_diff = trn_activity_tensor-trn_fwrf_model.pred_expr  ##difference tensor: (T x V)\n",
    "    trn_loss_expr = (trn_diff*trn_diff).sum(axis=1) ##sum-sqaured-diffs tensor:: the sum is over VOXELS.\n",
    "    \n",
    "    ##Outputs are scalar\n",
    "    trn_loss_func = function([[trn_activity_tensor]+trn_fwrf_model.input_var_dict.values()], trn_loss_expr.sum())\n",
    "\n",
    "    val_diff = val_activity_tensor-val_fwrf_model.pred_expr  ##difference tensor: (T x V)\n",
    "    val_loss_expr = (val_diff*val_diff).sum(axis=1) ##sum-sqaured-diffs tensor: SUM OVER VOXELS\n",
    "    \n",
    "    ##Outputs should just be T.\n",
    "    val_loss_func = BLARF\n",
    "\n",
    "    ##build gradient w.r.t. input vars\n",
    "    grad_expr = tnsr.gradient(trn_loss_expr, wrt=trn_fwrf_model.input_var_dict.values())\n",
    "    \n",
    "    ##a list of feature map gradients.\n",
    "    ##each gradient in the list should be like T,D,S,S tensor4\n",
    "    grad_func = function([trn_activity_tensor]+trn_fwrf_model.input_var_dict.values(), grad_expr)\n",
    "    \n",
    "    val_loss_is = np.inf\n",
    "    val_loss_was = np.inf\n",
    "    \n",
    "    err_diff = np.abs(val_loss_is - val_loss_was)\n",
    "    \n",
    "    new_feature_map_values = SOME KIND OF COPY OF THE THE INIT. FEATURE MAPS. A LIST OF T,D,S,S tensors\n",
    "    \n",
    "    for step in range(number_of_steps):\n",
    "        \n",
    "        map_grads = grad_func(BLARF, new_feature_map_values) ##list of T,D,S,S tensors\n",
    "        ##update each feature map using \n",
    "        for fm in len(map_grads):\n",
    "            new_feature_map_values[fm] -= learning_rate*map_grads[fm]\n",
    "        \n",
    "        ##test against val set\n",
    "        val_loss = val_loss_fun(new_feature_map_values)\n",
    "        \n",
    "        ##save if improved. We'll stay with the batch model where we iterate for fixed number for all batches\n",
    "        \n",
    "    ##On exit, give the feature map, the val_loss, history\n",
    "        "
   ]
  },
  {
   "cell_type": "code",
   "execution_count": 32,
   "metadata": {
    "collapsed": false
   },
   "outputs": [
    {
     "data": {
      "text/plain": [
       "False"
      ]
     },
     "execution_count": 32,
     "metadata": {},
     "output_type": "execute_result"
    }
   ],
   "source": [
    "(np.inf - np.inf) < 0"
   ]
  },
  {
   "cell_type": "code",
   "execution_count": null,
   "metadata": {
    "collapsed": true
   },
   "outputs": [],
   "source": [
    "####===================ORPHANAGE========================="
   ]
  },
  {
   "cell_type": "code",
   "execution_count": null,
   "metadata": {
    "collapsed": true
   },
   "outputs": [],
   "source": [
    "import string"
   ]
  },
  {
   "cell_type": "code",
   "execution_count": 15,
   "metadata": {
    "collapsed": false
   },
   "outputs": [],
   "source": [
    "T = 256 ##trials\n",
    "D = [61, 62, 63] ##features\n",
    "S = [11, 12, 13]\n",
    "nmaps = len(D)\n",
    "map_names = string.uppercase[:nmaps]\n",
    "V = 100 ##voxels\n",
    "deg_per_stim = 20"
   ]
  },
  {
   "cell_type": "code",
   "execution_count": 29,
   "metadata": {
    "collapsed": true
   },
   "outputs": [],
   "source": [
    "class MakeSpaceTest(unittest.TestCase):\n",
    "    def test_make_space(self):\n",
    "        pass"
   ]
  },
  {
   "cell_type": "code",
   "execution_count": 27,
   "metadata": {
    "collapsed": false
   },
   "outputs": [],
   "source": [
    "class fwrfTest(unittest.TestCase):\n",
    "    \n",
    "    def setUp(self):\n",
    "        \n",
    "        #testing of individual layers done with first feature map\n",
    "        #testing of rf_model_space and fwrf done with full feature map dict.\n",
    "        \n",
    "        #--feature maps\n",
    "        self.feature_map_dict = {key: val for key,val in zip(map_names, [np.random.rand(T,D[ii],S[ii],S[ii]) for ii in range(nmaps)])}\n",
    "        self.means = [np.mean(self.feature_map_dict[key],axis=0) for key in self.feature_map_dict.keys()]\n",
    "        self.stds = [np.std(self.feature_map_dict[key],axis=0) for key in self.feature_map_dict.keys()]\n",
    "        self.masks = [np.random.randint(0,2,size=(T,D[ii],S[ii],S[ii])) for ii in range(nmaps)]\n",
    "        \n",
    "        #--input\n",
    "        self.input_shape = (T,D,S[0],S[0])\n",
    "        #this tensor stores feature map\n",
    "        self.f_map_0 = tnsr.tensor4('f_map_0',dtype='float32')\n",
    "\n",
    "        #--layers\n",
    "        self.layers = {}\n",
    "        self.output_shapes = {}\n",
    "    \n",
    "    def test_input_layer_init(self):    \n",
    "        #the lasagne input layer\n",
    "        self.layers['layer_1'] = lasagne.layers.InputLayer(self.input_shape, input_var = self.f_map_0, name='layer_1')\n",
    "        #should not change output shape\n",
    "        self.output_shapes['layer_1'] = self.layers['layer_1'].get_output_shape_for(self.input_shape)\n",
    "        self.assertEqual(self.output_shapes['layer_1'], self.input_shape)\n",
    "    \n",
    "\n",
    "    def test_act_layer_init(self):\n",
    "        #--activation layber\n",
    "        self.layers['act_layer'] = compressive_nonlinearity_layer(self.layers['rf_layer'],name='act_layer')\n",
    "        self.output_shapes['act_layer'] = self.layers['act_layer'].get_output_shape_for(self.output_shapes['rf_layer'])\n",
    "        self.assertEqual(self.output_shapes['act_layer'], self.output_shapes['rf_layer']) ##should not change shape\n",
    "    \n",
    "    def test_norm_layer_init(self):\n",
    "        #--norm layer\n",
    "        self.layers['norm_layer'] = normalization_layer(self.layers['act_layer'], mean=self.means[0], stdev=self.stds[0], mask = self.masks[0], name='norm_layer')\n",
    "        self.output_shapes['norm_layer'] = self.layers['norm_layer'].get_output_shape_for(self.output_shapes['act_layer'])\n",
    "        self.assertEqual(self.output_shapes['norm_layer'], self.output_shapes['act_layer']) ##should not change shape\n",
    "    \n",
    "    def feature_layer_init(self):\n",
    "        #--feature layer\n",
    "        self.layers['feature_layer'] = feature_weights_layer(self.layers['norm_layer'])\n",
    "        self.output_shapes['feature_layer'] = self.layers['feature_layer'].get_output_shape_for(self.output_shapes['norm_layer'])\n",
    "        self.assertEqual(self.output_shapes['feature_layer'], (T,V))\n",
    "    \n",
    "    def tearDown(self):\n",
    "        for s in self.output_shapes:\n",
    "            print s\n",
    "    \n",
    "    \n",
    "    def test_rf_layer(self):\n",
    "        pass\n",
    "    \n",
    "    def test_norm_layer(self):\n",
    "        pass\n",
    "    \n",
    "    def test_modelspace(self):\n",
    "        pass\n",
    "    \n",
    "    def test_feature_weights_layer(self):\n",
    "        pass\n",
    "    \n",
    "    def test_fwrf_init(self):\n",
    "        pass\n",
    "    \n",
    "    def test_learn_lasagne_model(self):\n",
    "        pass\n",
    "    \n",
    "    def test_fwrf_train_me_coarse(self):\n",
    "        pass\n",
    "    \n",
    "    def test_fwrf_train_me_fine(self):\n",
    "        pass\n",
    "    \n",
    "    def test_fwrf_decode(self):\n",
    "        pass"
   ]
  },
  {
   "cell_type": "code",
   "execution_count": null,
   "metadata": {
    "collapsed": true
   },
   "outputs": [],
   "source": [
    "##rf layer unittest\n",
    "def setUp(self):\n",
    "        \n",
    "        #testing of individual layers done with first feature map\n",
    "        #testing of rf_model_space and fwrf done with full feature map dict.\n",
    "        \n",
    "        #--feature maps\n",
    "        self.feature_map_dict = {key: val for key,val in zip(map_names, [np.random.rand(T,D[ii],S[ii],S[ii]) for ii in range(nmaps)])}\n",
    "        self.means = [np.mean(self.feature_map_dict[key],axis=0) for key in self.feature_map_dict.keys()]\n",
    "        self.stds = [np.std(self.feature_map_dict[key],axis=0) for key in self.feature_map_dict.keys()]\n",
    "        self.masks = [np.random.randint(0,2,size=(T,D[ii],S[ii],S[ii])) for ii in range(nmaps)]\n",
    "        \n",
    "        #--input\n",
    "        self.input_shape = (T,D,S[0],S[0])\n",
    "        #this tensor stores feature map\n",
    "        self.f_map_0 = tnsr.tensor4('f_map_0',dtype='float32')\n",
    "\n",
    "        #--layers\n",
    "        self.layers = {}\n",
    "        self.output_shapes = {}\n",
    "    \n",
    "    def test_input_layer_init(self):    \n",
    "        #the lasagne input layer\n",
    "        self.layers['layer_1'] = lasagne.layers.InputLayer(self.input_shape, input_var = self.f_map_0, name='layer_1')\n",
    "        #should not change output shape\n",
    "        self.output_shapes['layer_1'] = self.layers['layer_1'].get_output_shape_for(self.input_shape)\n",
    "        self.assertEqual(self.output_shapes['layer_1'], self.input_shape)"
   ]
  },
  {
   "cell_type": "code",
   "execution_count": 30,
   "metadata": {
    "collapsed": false
   },
   "outputs": [
    {
     "ename": "TypeError",
     "evalue": "issubclass() arg 1 must be a class",
     "output_type": "error",
     "traceback": [
      "\u001b[1;31m---------------------------------------------------------------------------\u001b[0m",
      "\u001b[1;31mTypeError\u001b[0m                                 Traceback (most recent call last)",
      "\u001b[1;32m<ipython-input-30-49159a4988b6>\u001b[0m in \u001b[0;36m<module>\u001b[1;34m()\u001b[0m\n\u001b[1;32m----> 1\u001b[1;33m \u001b[0msuite\u001b[0m \u001b[1;33m=\u001b[0m \u001b[0munittest\u001b[0m\u001b[1;33m.\u001b[0m\u001b[0mTestLoader\u001b[0m\u001b[1;33m(\u001b[0m\u001b[1;33m)\u001b[0m\u001b[1;33m.\u001b[0m\u001b[0mloadTestsFromTestCase\u001b[0m\u001b[1;33m(\u001b[0m \u001b[1;33m[\u001b[0m\u001b[0mfwrfTest\u001b[0m\u001b[1;33m,\u001b[0m \u001b[0mMakeSpaceTest\u001b[0m\u001b[1;33m]\u001b[0m \u001b[1;33m)\u001b[0m\u001b[1;33m\u001b[0m\u001b[0m\n\u001b[0m\u001b[0;32m      2\u001b[0m \u001b[0munittest\u001b[0m\u001b[1;33m.\u001b[0m\u001b[0mTextTestRunner\u001b[0m\u001b[1;33m(\u001b[0m\u001b[0mverbosity\u001b[0m\u001b[1;33m=\u001b[0m\u001b[1;36m1\u001b[0m\u001b[1;33m)\u001b[0m\u001b[1;33m.\u001b[0m\u001b[0mrun\u001b[0m\u001b[1;33m(\u001b[0m \u001b[0msuite\u001b[0m \u001b[1;33m)\u001b[0m\u001b[1;33m\u001b[0m\u001b[0m\n",
      "\u001b[1;32m/home/tnaselar/anaconda/lib/python2.7/unittest/loader.pyc\u001b[0m in \u001b[0;36mloadTestsFromTestCase\u001b[1;34m(self, testCaseClass)\u001b[0m\n\u001b[0;32m     48\u001b[0m     \u001b[1;32mdef\u001b[0m \u001b[0mloadTestsFromTestCase\u001b[0m\u001b[1;33m(\u001b[0m\u001b[0mself\u001b[0m\u001b[1;33m,\u001b[0m \u001b[0mtestCaseClass\u001b[0m\u001b[1;33m)\u001b[0m\u001b[1;33m:\u001b[0m\u001b[1;33m\u001b[0m\u001b[0m\n\u001b[0;32m     49\u001b[0m         \u001b[1;34m\"\"\"Return a suite of all tests cases contained in testCaseClass\"\"\"\u001b[0m\u001b[1;33m\u001b[0m\u001b[0m\n\u001b[1;32m---> 50\u001b[1;33m         \u001b[1;32mif\u001b[0m \u001b[0missubclass\u001b[0m\u001b[1;33m(\u001b[0m\u001b[0mtestCaseClass\u001b[0m\u001b[1;33m,\u001b[0m \u001b[0msuite\u001b[0m\u001b[1;33m.\u001b[0m\u001b[0mTestSuite\u001b[0m\u001b[1;33m)\u001b[0m\u001b[1;33m:\u001b[0m\u001b[1;33m\u001b[0m\u001b[0m\n\u001b[0m\u001b[0;32m     51\u001b[0m             raise TypeError(\"Test cases should not be derived from TestSuite.\" \\\n\u001b[0;32m     52\u001b[0m                                 \" Maybe you meant to derive from TestCase?\")\n",
      "\u001b[1;31mTypeError\u001b[0m: issubclass() arg 1 must be a class"
     ]
    }
   ],
   "source": []
  },
  {
   "cell_type": "code",
   "execution_count": 921,
   "metadata": {
    "collapsed": false
   },
   "outputs": [],
   "source": [
    "        \n",
    "#     def _build_trn_pred(self):\n",
    "#         self.trn_pred_expr = lasagne.layers.get_output(self.fwrf)\n",
    "#         #self.trn_pred_func = function(self.input_var_dict.values(), self.trn_pred_expr)\n",
    "    \n",
    "#     def _build_val_pred(self):\n",
    "#         ##this will make predictions using the current normalization params (i.e., since the last call of trn_pred_func)\n",
    "#         self.val_pred_expr = lasagne.layers.get_output(self.fwrf, deterministic='True')\n",
    "#         ##FUNCTION\n",
    "#         self.predicted_activity = function(self.input_var_dict.values(), self.val_pred_expr)\n",
    "        \n",
    "#     def _build_trn_loss(self):\n",
    "#         ##training loss expression: same as above except for the last summing step. so:\n",
    "#         trn_diff = self.voxel_data_tnsr.T[:,:,np.newaxis]-self.trn_pred_expr  ##difference tensor: (V x T x 1) - (V x T x 1) = (V x T x 1)\n",
    "#         self.trn_loss_expr = (trn_diff*trn_diff).sum(axis=1).sum() ##sum-sqaured-diffs tensor: V x 1\n",
    "    \n",
    "#     def _build_val_loss(self): \n",
    "#         ##validation loss\n",
    "#         val_diff = self.voxel_data_tnsr.T[:,:,np.newaxis]-self.val_pred_expr  ##difference tensor: (V x T x 1) - (V x T x 1) = (V x T x 1)\n",
    "#         self.val_loss_expr = (val_diff*val_diff).sum(axis=1) ##sum-sqaured-diffs tensor: V x 1\n",
    "#         ##FUNCTION\n",
    "#         self.loss = function([self.voxel_data_tnsr]+self.input_var_dict.values(), self.val_loss_expr)\n",
    "\n",
    "        \n",
    "        \n",
    "              "
   ]
  },
  {
   "cell_type": "markdown",
   "metadata": {},
   "source": [
    "#### How to build an input layer"
   ]
  },
  {
   "cell_type": "code",
   "execution_count": 49,
   "metadata": {
    "collapsed": false
   },
   "outputs": [],
   "source": [
    "####input shape\n",
    "input_shape = (T,D,S,S)\n",
    "####this tensor stores feature map\n",
    "f_map_0 = tnsr.tensor4('f_map_0',dtype='float32')  ##(T,D,S,S)\n",
    "\n",
    "####the lasagne input layer\n",
    "layer_1 = lasagne.layers.InputLayer(input_shape, input_var = f_map_0, name='layer_1')"
   ]
  },
  {
   "cell_type": "markdown",
   "metadata": {},
   "source": [
    "#### Test the rf layer\n",
    "Output will have model-space tensor dimensions. "
   ]
  },
  {
   "cell_type": "code",
   "execution_count": 52,
   "metadata": {
    "collapsed": true
   },
   "outputs": [],
   "source": [
    "G = 48\n",
    "deg_per_stim = 20"
   ]
  },
  {
   "cell_type": "code",
   "execution_count": 53,
   "metadata": {
    "collapsed": false
   },
   "outputs": [],
   "source": [
    "\n",
    "rf_layer = receptive_field_layer(layer_1, G, make_space(S), deg_per_stim)"
   ]
  },
  {
   "cell_type": "markdown",
   "metadata": {},
   "source": [
    "##### see initial stack of rfs -- they are all the same"
   ]
  },
  {
   "cell_type": "code",
   "execution_count": 78,
   "metadata": {
    "collapsed": false
   },
   "outputs": [
    {
     "data": {
      "text/plain": [
       "<matplotlib.image.AxesImage at 0x7f77cf4f4510>"
      ]
     },
     "execution_count": 78,
     "metadata": {},
     "output_type": "execute_result"
    },
    {
     "data": {
      "image/png": "[encoded data removed]",
      "text/plain": [
       "<matplotlib.figure.Figure at 0x7f77ce389250>"
      ]
     },
     "metadata": {},
     "output_type": "display_data"
    }
   ],
   "source": [
    "extent=[-deg_per_stim/2.,deg_per_stim/2.,deg_per_stim/2.,-deg_per_stim/2.]\n",
    "plt.imshow(rf_layer.make_rf_stack()[-1,:,:],cmap=plt.cm.Reds, interpolation='none', extent=extent)"
   ]
  },
  {
   "cell_type": "markdown",
   "metadata": {},
   "source": [
    "##### but now change them, and re-view them\n",
    "NOTE: everytyhing is specified in degrees.\n"
   ]
  },
  {
   "cell_type": "code",
   "execution_count": 15,
   "metadata": {
    "collapsed": false
   },
   "outputs": [
    {
     "data": {
      "text/plain": [
       "<matplotlib.image.AxesImage at 0x7f77cf6cb550>"
      ]
     },
     "execution_count": 15,
     "metadata": {},
     "output_type": "execute_result"
    },
    {
     "data": {
      "image/png": "[encoded data removed]",
      "text/plain": [
       "<matplotlib.figure.Figure at 0x7f77d05f6c90>"
      ]
     },
     "metadata": {},
     "output_type": "display_data"
    }
   ],
   "source": [
    "rf_layer.x0.set_value(-5*np.ones(G).astype('float32'))\n",
    "rf_layer.y0.set_value(5*np.ones(G).astype('float32'))\n",
    "rf_layer.sig.set_value(3*np.ones(G).astype('float32'))\n",
    "plt.imshow(rf_layer.make_rf_stack()[3,:,:],cmap=plt.cm.Reds, interpolation='none', extent=extent)"
   ]
  },
  {
   "cell_type": "markdown",
   "metadata": {},
   "source": [
    "##### compile output function, test shape"
   ]
  },
  {
   "cell_type": "code",
   "execution_count": 16,
   "metadata": {
    "collapsed": false
   },
   "outputs": [],
   "source": [
    "prediction = lasagne.layers.get_output(rf_layer)\n",
    "pred_func = function([layer_1.input_var], prediction)"
   ]
  },
  {
   "cell_type": "code",
   "execution_count": 17,
   "metadata": {
    "collapsed": false
   },
   "outputs": [
    {
     "name": "stdout",
     "output_type": "stream",
     "text": [
      "float32\n",
      "(48, 256, 64)\n"
     ]
    }
   ],
   "source": [
    "outp = pred_func(np.zeros(input_shape).astype('float32'))\n",
    "print outp.dtype\n",
    "print outp.shape"
   ]
  },
  {
   "cell_type": "markdown",
   "metadata": {},
   "source": [
    "##### check out the params"
   ]
  },
  {
   "cell_type": "code",
   "execution_count": 18,
   "metadata": {
    "collapsed": false
   },
   "outputs": [
    {
     "data": {
      "text/plain": [
       "[x0, y0, sig]"
      ]
     },
     "execution_count": 18,
     "metadata": {},
     "output_type": "execute_result"
    }
   ],
   "source": [
    "lasagne.layers.get_all_params(rf_layer)"
   ]
  },
  {
   "cell_type": "markdown",
   "metadata": {},
   "source": [
    "#### Test the activation layer\n",
    "For the gabor model, we sometimes use the log(1+sqrt(x)) transforms. Here's that:"
   ]
  },
  {
   "cell_type": "code",
   "execution_count": 54,
   "metadata": {
    "collapsed": true
   },
   "outputs": [],
   "source": [
    "act_layer = compressive_nonlinearity_layer(rf_layer)"
   ]
  },
  {
   "cell_type": "code",
   "execution_count": 20,
   "metadata": {
    "collapsed": false
   },
   "outputs": [
    {
     "data": {
      "text/plain": [
       "[x0, y0, sig]"
      ]
     },
     "execution_count": 20,
     "metadata": {},
     "output_type": "execute_result"
    }
   ],
   "source": [
    "lasagne.layers.get_all_params(act_layer)"
   ]
  },
  {
   "cell_type": "code",
   "execution_count": 21,
   "metadata": {
    "collapsed": false
   },
   "outputs": [],
   "source": [
    "l_3 = lasagne.layers.get_output(act_layer)\n",
    "l_3_func = function([layer_1.input_var], l_3)"
   ]
  },
  {
   "cell_type": "code",
   "execution_count": 22,
   "metadata": {
    "collapsed": false
   },
   "outputs": [
    {
     "data": {
      "text/plain": [
       "(48, 256, 64)"
      ]
     },
     "execution_count": 22,
     "metadata": {},
     "output_type": "execute_result"
    }
   ],
   "source": [
    "l_3_func(np.zeros(input_shape).astype('float32')).shape"
   ]
  },
  {
   "cell_type": "markdown",
   "metadata": {},
   "source": [
    "#### Normalization layer\n",
    "    pass deterministic=False for training\n",
    "    pass deterministic=True for validation\n",
    "    in our case output shape = (G,T,D), so normalization must integrate over axis=1\n",
    "    this will give mean/stdev/gamma/beta params of shape (G,D)"
   ]
  },
  {
   "cell_type": "code",
   "execution_count": 79,
   "metadata": {
    "collapsed": false
   },
   "outputs": [],
   "source": [
    "norm_layer = lasagne.layers.BatchNormLayer(rf_layer, axes=(1,))"
   ]
  },
  {
   "cell_type": "code",
   "execution_count": 80,
   "metadata": {
    "collapsed": false
   },
   "outputs": [
    {
     "name": "stdout",
     "output_type": "stream",
     "text": [
      "(48, 64)\n",
      "(48, 64)\n",
      "(48, 64)\n",
      "(48, 64)\n"
     ]
    }
   ],
   "source": [
    "print norm_layer.mean.get_value().shape\n",
    "print norm_layer.inv_std.get_value().shape\n",
    "print norm_layer.gamma.get_value().shape\n",
    "print norm_layer.beta.get_value().shape"
   ]
  },
  {
   "cell_type": "markdown",
   "metadata": {},
   "source": [
    "##### so everytime you call the layer_4 output function the mean/stdev params are updated.\n",
    "but if you call with deterministic='True', the mean/stdev are not updated, they are fixed."
   ]
  },
  {
   "cell_type": "code",
   "execution_count": 82,
   "metadata": {
    "collapsed": true
   },
   "outputs": [],
   "source": [
    "norm_pred_expr = lasagne.layers.get_output(norm_layer)\n",
    "norm_pred_func = function([layer_1.input_var], norm_pred_expr)"
   ]
  },
  {
   "cell_type": "code",
   "execution_count": 88,
   "metadata": {
    "collapsed": true
   },
   "outputs": [],
   "source": [
    "x = np.random.random(size=input_shape).astype('float32')\n",
    "_=norm_pred_func(x)\n",
    "before= norm_layer.mean.get_value()\n",
    "for _ in range(10):\n",
    "    x = np.random.random(size=input_shape).astype('float32')\n",
    "    um=norm_pred_func(x)\n",
    "after = norm_layer.mean.get_value()"
   ]
  },
  {
   "cell_type": "code",
   "execution_count": 89,
   "metadata": {
    "collapsed": false
   },
   "outputs": [
    {
     "data": {
      "text/plain": [
       "<matplotlib.collections.PathCollection at 0x7f778f3a3c90>"
      ]
     },
     "execution_count": 89,
     "metadata": {},
     "output_type": "execute_result"
    },
    {
     "data": {
      "image/png": "[encoded data removed]",
      "text/plain": [
       "<matplotlib.figure.Figure at 0x7f778f13f690>"
      ]
     },
     "metadata": {},
     "output_type": "display_data"
    }
   ],
   "source": [
    "plt.scatter(before,after)\n",
    "# lims = [np.min(after), np.max(after)]\n",
    "# plt.xlim(lims)\n",
    "# plt.ylim(lims)"
   ]
  },
  {
   "cell_type": "markdown",
   "metadata": {},
   "source": [
    "...call layer_4 output function with deterministic='Trure' in a loop, and means are updated stay fixed"
   ]
  },
  {
   "cell_type": "code",
   "execution_count": 90,
   "metadata": {
    "collapsed": true
   },
   "outputs": [],
   "source": [
    "norm_pred_expr_fixed = lasagne.layers.get_output(norm_layer, deterministic = 'True')\n",
    "norm_pred_func_fixed = function([layer_1.input_var], norm_pred_expr_fixed)"
   ]
  },
  {
   "cell_type": "code",
   "execution_count": 91,
   "metadata": {
    "collapsed": false,
    "scrolled": true
   },
   "outputs": [
    {
     "data": {
      "text/plain": [
       "<matplotlib.collections.PathCollection at 0x7f77cc20d910>"
      ]
     },
     "execution_count": 91,
     "metadata": {},
     "output_type": "execute_result"
    },
    {
     "data": {
      "image/png": "[encoded data removed]",
      "text/plain": [
       "<matplotlib.figure.Figure at 0x7f77cc32d290>"
      ]
     },
     "metadata": {},
     "output_type": "display_data"
    }
   ],
   "source": [
    "before= norm_layer.mean.get_value()\n",
    "for _ in range(10):\n",
    "    x = np.random.random(size=input_shape).astype('float32')\n",
    "    _=norm_pred_func_fixed(x)\n",
    "after = norm_layer.mean.get_value()\n",
    "plt.scatter(before,after)"
   ]
  },
  {
   "cell_type": "markdown",
   "metadata": {},
   "source": [
    "#### Feature weights layer\n"
   ]
  },
  {
   "cell_type": "code",
   "execution_count": 92,
   "metadata": {
    "collapsed": true
   },
   "outputs": [],
   "source": [
    "layer_5 = feature_weights_layer(norm_layer,1)"
   ]
  },
  {
   "cell_type": "code",
   "execution_count": 93,
   "metadata": {
    "collapsed": true
   },
   "outputs": [],
   "source": [
    "layer_5_pred_expr = lasagne.layers.get_output(layer_5)"
   ]
  },
  {
   "cell_type": "code",
   "execution_count": 94,
   "metadata": {
    "collapsed": true
   },
   "outputs": [],
   "source": [
    "layer_5_pred_func = function([layer_1.input_var],layer_5_pred_expr)"
   ]
  },
  {
   "cell_type": "code",
   "execution_count": 95,
   "metadata": {
    "collapsed": false
   },
   "outputs": [
    {
     "data": {
      "text/plain": [
       "(48, 256, 1)"
      ]
     },
     "execution_count": 95,
     "metadata": {},
     "output_type": "execute_result"
    }
   ],
   "source": [
    "\n",
    "layer_5_pred_func(x).shape"
   ]
  },
  {
   "cell_type": "markdown",
   "metadata": {},
   "source": [
    "#### Putting it all together\n",
    "Usually we'll have multiple features spaces, where each feature space is a stack of feature maps with the same \n",
    "resolution.  \n",
    "Because resolution can vary, we'll need construct separate rf layers for each feature space.  \n",
    "Then, we can merge the feature spaces, and apply whatever normalization, nonlinearity, etc. we want before apply the feature weights."
   ]
  },
  {
   "cell_type": "markdown",
   "metadata": {},
   "source": [
    "##### construct feature space dictionary"
   ]
  },
  {
   "cell_type": "code",
   "execution_count": 166,
   "metadata": {
    "collapsed": true
   },
   "outputs": [],
   "source": [
    "feature_map_names = ['a','b','c']\n",
    "feature_map_dict = {}\n",
    "feature_depths = [12, 45, 78]\n",
    "for fmap,fdep in zip(feature_map_names,feature_depths):\n",
    "    feature_map_dict[fmap] = np.random.random(size=(T,fdep,S,S)).astype('float32')\n",
    "\n",
    "num_rfs = 10"
   ]
  },
  {
   "cell_type": "code",
   "execution_count": 167,
   "metadata": {
    "collapsed": false
   },
   "outputs": [],
   "source": [
    "##construct model space\n",
    "input_var_dict, model_space = make_fwrf_model_space(feature_map_dict, num_rfs, deg_per_stim)"
   ]
  },
  {
   "cell_type": "markdown",
   "metadata": {},
   "source": [
    "test the model space part"
   ]
  },
  {
   "cell_type": "code",
   "execution_count": 168,
   "metadata": {
    "collapsed": false
   },
   "outputs": [
    {
     "name": "stdout",
     "output_type": "stream",
     "text": [
      "(256, 64, 125, 125)\n"
     ]
    }
   ],
   "source": [
    "print model_space.get_output_shape_for([input_shape])\n",
    "\n",
    "model_space_pred_expr = lasagne.layers.get_output(model_space)\n",
    "model_space_pred_func = function(input_var_dict.values(), model_space_pred_expr)"
   ]
  },
  {
   "cell_type": "code",
   "execution_count": 172,
   "metadata": {
    "collapsed": false
   },
   "outputs": [
    {
     "data": {
      "text/plain": [
       "[rf_a.x0, rf_a.y0, rf_a.sig]"
      ]
     },
     "execution_count": 172,
     "metadata": {},
     "output_type": "execute_result"
    }
   ],
   "source": [
    "lasagne.layers.get_all_params(model_space,rf_param=True)"
   ]
  },
  {
   "cell_type": "raw",
   "metadata": {},
   "source": [
    "important: note how we need to unpack the argument list."
   ]
  },
  {
   "cell_type": "code",
   "execution_count": 173,
   "metadata": {
    "collapsed": true
   },
   "outputs": [
    {
     "name": "stdout",
     "output_type": "stream",
     "text": [
      "(10, 256, 135)\n",
      "135\n"
     ]
    }
   ],
   "source": [
    "print model_space_pred_func(*feature_map_dict.values()).shape\n",
    "print sum(feature_depths)"
   ]
  },
  {
   "cell_type": "markdown",
   "metadata": {},
   "source": [
    "check the parameters"
   ]
  },
  {
   "cell_type": "markdown",
   "metadata": {},
   "source": [
    "### Two ways to train"
   ]
  },
  {
   "cell_type": "markdown",
   "metadata": {},
   "source": [
    "**Method 1**: Grid search over many rfs for each voxel. In this case we run the model space+act+norm network to construct a model-space tensor for the training and testing data. Then we construct a simple linear network where we just apply the feature weights to the mst. We do this to avoid having to re-apply the rf models to the feature maps each time we want to make a prediction. The gradient of loss is now w.r.t. to the feature weights only, but the training procedure needs to include a mechanism for selecting the best rf for each voxel."
   ]
  },
  {
   "cell_type": "code",
   "execution_count": 102,
   "metadata": {
    "collapsed": true
   },
   "outputs": [],
   "source": [
    "##define the model space network\n",
    "model_space = compressive_nonlinearity_layer(model_space)\n",
    "model_space = lasagne.layers.BatchNormLayer(model_space, axes=(1,))"
   ]
  },
  {
   "cell_type": "code",
   "execution_count": 103,
   "metadata": {
    "collapsed": true
   },
   "outputs": [],
   "source": [
    "##define the prediction expression / function\n",
    "model_space_pred_expr = lasagne.layers.get_output(model_space, deterministic='False')\n",
    "model_space_pred_func = function(input_var_dict.values(), model_space_pred_expr)"
   ]
  },
  {
   "cell_type": "code",
   "execution_count": 107,
   "metadata": {
    "collapsed": false
   },
   "outputs": [
    {
     "name": "stdout",
     "output_type": "stream",
     "text": [
      "(10, 256, 135)\n"
     ]
    }
   ],
   "source": [
    "##construct the mst\n",
    "mst = model_space_pred_func(*feature_map_dict.values())\n",
    "print mst.shape"
   ]
  },
  {
   "cell_type": "code",
   "execution_count": 108,
   "metadata": {
    "collapsed": true
   },
   "outputs": [],
   "source": [
    "##now construct full model: the input is the model space tensor\n",
    "mst_tnsr = tnsr.tensor3('mst')\n",
    "fwrf = lasagne.layers.InputLayer((mst.shape[0],None,mst.shape[-1]), input_var=mst_tnsr,name='fwrf')\n",
    "fwrf = feature_weights_layer(fwrf,V)"
   ]
  },
  {
   "cell_type": "code",
   "execution_count": 109,
   "metadata": {
    "collapsed": true
   },
   "outputs": [],
   "source": [
    "##construct prediction expr: (G,T,V)\n",
    "fwrf_pred_expr = lasagne.layers.get_output(fwrf)"
   ]
  },
  {
   "cell_type": "code",
   "execution_count": 110,
   "metadata": {
    "collapsed": true
   },
   "outputs": [],
   "source": [
    "##loss expression: we already have all this stuff from before\n",
    "voxel_data_tnsr = tnsr.matrix('voxel_data_tnsr')  ##voxel data tensor: T x V\n",
    "diff = voxel_data_tnsr-fwrf_pred_expr  ##difference tensor: (T x V) - (G x T x V) = (G x T x V)\n",
    "sq_diff = (diff*diff).sum(axis=1) ##sum-sqaured-diffs tensor: G x V\n",
    "\n",
    "\n",
    "fwrf_loss_expr = sq_diff.sum()  ##<<this sum is critical. theano knows not to differentiate w.r.t params if deriv. is always 0"
   ]
  },
  {
   "cell_type": "code",
   "execution_count": 111,
   "metadata": {
    "collapsed": true
   },
   "outputs": [],
   "source": [
    "##update rule\n",
    "learning_rate = 0.1\n",
    "params = lasagne.layers.get_all_params(fwrf)\n",
    "fwrf_update = lasagne.updates.sgd(fwrf_loss_expr, params, learning_rate)"
   ]
  },
  {
   "cell_type": "code",
   "execution_count": 112,
   "metadata": {
    "collapsed": true
   },
   "outputs": [],
   "source": [
    "##training kernel: returns loss, updates params\n",
    "trn_kernel = function([mst_tnsr,voxel_data_tnsr], fwrf_loss_expr, updates=fwrf_update)"
   ]
  },
  {
   "cell_type": "code",
   "execution_count": 113,
   "metadata": {
    "collapsed": true
   },
   "outputs": [],
   "source": [
    "##validation kernel: returns predictions and loss, leaves params alone\n",
    "val_kernel = function([mst_tnsr, voxel_data_tnsr], [fwrf_pred_expr, fwrf_loss_expr])"
   ]
  },
  {
   "cell_type": "code",
   "execution_count": 117,
   "metadata": {
    "collapsed": false
   },
   "outputs": [
    {
     "name": "stdout",
     "output_type": "stream",
     "text": [
      "5.03935089508e+14\n"
     ]
    }
   ],
   "source": [
    "neural_data = np.random.random(size=(T,V)).astype('float32')\n",
    "print trn_kernel(mst, neural_data)"
   ]
  },
  {
   "cell_type": "code",
   "execution_count": 118,
   "metadata": {
    "collapsed": false
   },
   "outputs": [
    {
     "name": "stdout",
     "output_type": "stream",
     "text": [
      "(10, 256, 100)\n",
      "3.93386847789e+24\n"
     ]
    }
   ],
   "source": [
    "pred,loss = val_kernel(mst, neural_data)\n",
    "print pred.shape\n",
    "print loss"
   ]
  },
  {
   "cell_type": "code",
   "execution_count": null,
   "metadata": {
    "collapsed": true
   },
   "outputs": [],
   "source": [
    "##training proc: pseudo-code\n",
    "# val_in, val_out = get_val_data(mst)\n",
    "# for trn_in, trn_out in batch_generator(mst):\n",
    "#     trn_loss = trn_kernel(trn_in, trn_out)\n",
    "#     _,val_loss = val_kernel(val_in,val_out) ##don't really care about val_pred here\n",
    "#     if val_loss is less_than_it_was:\n",
    "#         rf_idx = select_best_rf(fwrf)\n",
    "#         NU = select_best_weights(fwrf)\n",
    "#     if val_loss is too_big:\n",
    "#         break\n",
    "# new_fwrf = make_best_model(rf_idx, NU)"
   ]
  },
  {
   "cell_type": "markdown",
   "metadata": {},
   "source": [
    "**Method 2**: Gradient descent on rf parameters. In this case we optimize one rf per voxel using gradient descent. We build the full network and take gradients w.r.t. both the mean/size of each voxel's rf and the feature weights. "
   ]
  },
  {
   "cell_type": "code",
   "execution_count": 174,
   "metadata": {
    "collapsed": true
   },
   "outputs": [],
   "source": [
    "##Construct the full model network\n",
    "##add activation\n",
    "fwrf = compressive_nonlinearity_layer(model_space)\n",
    "\n",
    "##add normalization\n",
    "fwrf = lasagne.layers.BatchNormLayer(fwrf, axes=(1,))\n",
    "\n",
    "##add feature layer\n",
    "num_outputs=1\n",
    "fwrf = feature_weights_layer(fwrf,num_outputs)"
   ]
  },
  {
   "cell_type": "code",
   "execution_count": 175,
   "metadata": {
    "collapsed": false
   },
   "outputs": [],
   "source": [
    "##prediction expression with update of normalization params: ##V x T x 1\n",
    "trn_pred_expr = lasagne.layers.get_output(fwrf)\n",
    "# trn_pred_func = function(input_var_dict.values(), trn_pred_expr)\n",
    "\n",
    "##this will make predictions using the current normalization params (i.e., since the last call of trn_pred_func)\n",
    "val_pred_expr = lasagne.layers.get_output(fwrf, deterministic='True')\n",
    "# val_pred_func = function(input_var_dict.values(), val_pred_expr)"
   ]
  },
  {
   "cell_type": "code",
   "execution_count": 176,
   "metadata": {
    "collapsed": true
   },
   "outputs": [],
   "source": [
    "##voxel data needed for loss\n",
    "voxel_data_tnsr = tnsr.matrix('voxel_data_tnsr')  ##voxel data tensor: (T x V)\n",
    "\n",
    "##training loss expression: same as above except for the last summing step. so:\n",
    "trn_diff = voxel_data_tnsr.T[:,:,np.newaxis]-trn_pred_expr  ##difference tensor: (V x T x 1) - (V x T x 1) = (V x T x 1)\n",
    "trn_loss = (trn_diff*trn_diff).sum(axis=1) ##sum-sqaured-diffs tensor: V x 1\n",
    "\n",
    "##validation loss\n",
    "val_diff = voxel_data_tnsr.T[:,:,np.newaxis]-val_pred_expr  ##difference tensor: (V x T x 1) - (V x T x 1) = (V x T x 1)\n",
    "val_loss = (val_diff*val_diff).sum(axis=1) ##sum-sqaured-diffs tensor: V x 1"
   ]
  },
  {
   "cell_type": "code",
   "execution_count": 187,
   "metadata": {
    "collapsed": false
   },
   "outputs": [
    {
     "data": {
      "text/plain": [
       "[rf_a.x0, rf_a.y0, rf_a.sig, beta, gamma, feature_weights]"
      ]
     },
     "execution_count": 187,
     "metadata": {},
     "output_type": "execute_result"
    }
   ],
   "source": [
    "lasagne.layers.get_all_params(fwrf,trainable=True)"
   ]
  },
  {
   "cell_type": "code",
   "execution_count": 178,
   "metadata": {
    "collapsed": false
   },
   "outputs": [],
   "source": [
    "##-----check the gradients\n",
    "fw_grad = tnsr.grad(trn_loss.sum(),fwrf.NU)\n",
    "rf_grad = tnsr.grad(trn_loss.sum(),lasagne.layers.get_all_params(fwrf,rf_param=True))\n",
    "\n",
    "\n",
    "##functionalize\n",
    "fw_grad_func = function([voxel_data_tnsr]+input_var_dict.values(), fw_grad)\n",
    "rf_grad_func = function([voxel_data_tnsr]+input_var_dict.values(), rf_grad)"
   ]
  },
  {
   "cell_type": "code",
   "execution_count": 190,
   "metadata": {
    "collapsed": true
   },
   "outputs": [],
   "source": [
    "encoding_grad = tnsr.grad(trn_loss.sum(),lasagne.layers.get_all_params(fwrf,trainable=True))\n",
    "encoding_grad_func = function([voxel_data_tnsr]+input_var_dict.values(), encoding_grad)"
   ]
  },
  {
   "cell_type": "code",
   "execution_count": 198,
   "metadata": {
    "collapsed": false
   },
   "outputs": [
    {
     "name": "stdout",
     "output_type": "stream",
     "text": [
      "(10, 135, 1)\n"
     ]
    }
   ],
   "source": [
    "print fw_grad_func(neural_data,*feature_map_dict.values()).shape"
   ]
  },
  {
   "cell_type": "code",
   "execution_count": 179,
   "metadata": {
    "collapsed": false
   },
   "outputs": [],
   "source": [
    "neural_data = np.random.random(size=(T,num_rfs)).astype('float32')"
   ]
  },
  {
   "cell_type": "code",
   "execution_count": 193,
   "metadata": {
    "collapsed": true
   },
   "outputs": [],
   "source": [
    "grads= encoding_grad_func(neural_data,*feature_map_dict.values())"
   ]
  },
  {
   "cell_type": "code",
   "execution_count": 197,
   "metadata": {
    "collapsed": false
   },
   "outputs": [
    {
     "data": {
      "text/plain": [
       "(10, 135, 1)"
      ]
     },
     "execution_count": 197,
     "metadata": {},
     "output_type": "execute_result"
    }
   ],
   "source": [
    "grads[-1].shape"
   ]
  },
  {
   "cell_type": "code",
   "execution_count": 182,
   "metadata": {
    "collapsed": false
   },
   "outputs": [
    {
     "data": {
      "text/plain": [
       "[array([ 0.,  0.,  0.,  0.,  0.,  0.,  0.,  0.,  0.,  0.], dtype=float32),\n",
       " array([ 0.,  0.,  0.,  0.,  0.,  0.,  0.,  0.,  0.,  0.], dtype=float32),\n",
       " array([ 0.,  0.,  0.,  0.,  0.,  0.,  0.,  0.,  0.,  0.], dtype=float32)]"
      ]
     },
     "execution_count": 182,
     "metadata": {},
     "output_type": "execute_result"
    }
   ],
   "source": [
    "rf_grad_func(neural_data,*feature_map_dict.values())"
   ]
  },
  {
   "cell_type": "code",
   "execution_count": 199,
   "metadata": {
    "collapsed": false
   },
   "outputs": [],
   "source": [
    "##update rule\n",
    "learning_rate = 0.1\n",
    "params = lasagne.layers.get_all_params(fwrf,trainable=True)\n",
    "fwrf_update = lasagne.updates.sgd(trn_loss.sum(),params,learning_rate)"
   ]
  },
  {
   "cell_type": "code",
   "execution_count": 200,
   "metadata": {
    "collapsed": true
   },
   "outputs": [],
   "source": [
    "##training kernel\n",
    "trn_kernel = function(input_var_dict.values()+[voxel_data_tnsr], trn_loss, updates=fwrf_update)"
   ]
  },
  {
   "cell_type": "code",
   "execution_count": 201,
   "metadata": {
    "collapsed": true
   },
   "outputs": [],
   "source": [
    "##validation kernel\n",
    "val_kernel = function(input_var_dict.values()+[voxel_data_tnsr], [val_pred_expr,val_loss])"
   ]
  },
  {
   "cell_type": "code",
   "execution_count": null,
   "metadata": {
    "collapsed": false
   },
   "outputs": [],
   "source": [
    "##training proc: pseudo-code\n",
    "# val_in, val_out = get_val_data(mst)\n",
    "# for trn_in, trn_out in batch_generator(mst):\n",
    "#     trn_loss = trn_kernel(trn_in, trn_out)\n",
    "#     _,val_loss = val_kernel(val_in,val_out) ##don't really care about val_pred here\n",
    "#     if val_loss is less_than_it_was:\n",
    "#         NU = lasagne.layers.get_param_values(fwrf)[-1]  ##<<something like this\n",
    "#     if val_loss is too_big:\n",
    "#         break\n",
    "# new_fwrf = make_best_model(NU)"
   ]
  },
  {
   "cell_type": "markdown",
   "metadata": {},
   "source": [
    "### Decoding\n",
    "uses \"new_fwrf\" resulting from one of the two training methods.\n",
    "How to treat input layer?\n",
    "Link input to a shared variable? Probably a bad idea.\n",
    "Create a feature map layer that has a shared variable param? When building the \"new_fwrf\", make a decoding version with this feature map layer at the front?\n",
    "Or: just dont' use shared variable here...probably the best idea."
   ]
  },
  {
   "cell_type": "code",
   "execution_count": 206,
   "metadata": {
    "collapsed": true
   },
   "outputs": [],
   "source": [
    "decoding_pred_expr = lasagne.layers.get_output(fwrf, deterministic='True') ##V x T x 1\n",
    "target_activity = tnsr.matrix('target_activity')  #T x V\n",
    "decoding_loss = val_loss.sum()"
   ]
  },
  {
   "cell_type": "code",
   "execution_count": 208,
   "metadata": {
    "collapsed": false
   },
   "outputs": [],
   "source": [
    "##apparently, the input_var can't be share variable, so we'll have to do updates explicitly\n",
    "decoding_grad = tnsr.grad(decoding_loss,wrt=input_var_dict.values())\n",
    "decoding_grad_func = function([voxel_data_tnsr]+input_var_dict.values(), decoding_grad)"
   ]
  },
  {
   "cell_type": "code",
   "execution_count": 215,
   "metadata": {
    "collapsed": true
   },
   "outputs": [],
   "source": [
    "decodeable_pattern = np.random.random(size=(T,num_rfs)).astype('float32')"
   ]
  },
  {
   "cell_type": "code",
   "execution_count": 216,
   "metadata": {
    "collapsed": false,
    "scrolled": true
   },
   "outputs": [],
   "source": [
    "d_grad = decoding_grad_func(decodeable_pattern, *feature_map_dict.values())"
   ]
  },
  {
   "cell_type": "code",
   "execution_count": 217,
   "metadata": {
    "collapsed": false
   },
   "outputs": [
    {
     "data": {
      "text/plain": [
       "3"
      ]
     },
     "execution_count": 217,
     "metadata": {},
     "output_type": "execute_result"
    }
   ],
   "source": [
    "len(d_grad)"
   ]
  },
  {
   "cell_type": "code",
   "execution_count": 220,
   "metadata": {
    "collapsed": false
   },
   "outputs": [],
   "source": [
    "foo = shared(np.ones((2,2)))"
   ]
  },
  {
   "cell_type": "code",
   "execution_count": 225,
   "metadata": {
    "collapsed": false
   },
   "outputs": [
    {
     "data": {
      "text/plain": [
       "'fwrf_model_space'"
      ]
     },
     "execution_count": 225,
     "metadata": {},
     "output_type": "execute_result"
    }
   ],
   "source": [
    "model_space.name"
   ]
  },
  {
   "cell_type": "code",
   "execution_count": 1077,
   "metadata": {
    "collapsed": true
   },
   "outputs": [],
   "source": [
    "inp = tnsr.tensor4('inp')\n",
    "rfs = tnsr.tensor3('rfs')\n",
    "outp = tnsr.tensordot(inp, rfs, axes= [[2,3],[1,2]])\n",
    "florg = function([inp, rfs], outp)"
   ]
  },
  {
   "cell_type": "code",
   "execution_count": 1078,
   "metadata": {
    "collapsed": false
   },
   "outputs": [
    {
     "name": "stdout",
     "output_type": "stream",
     "text": [
      "(256, 64, 100)\n"
     ]
    }
   ],
   "source": [
    "x = np.zeros((T,D,S,S),dtype='float32')\n",
    "r = np.zeros((V, S, S),dtype='float32')\n",
    "blarg = florg(x,r)\n",
    "print blarg.shape"
   ]
  },
  {
   "cell_type": "code",
   "execution_count": 1076,
   "metadata": {
    "collapsed": false
   },
   "outputs": [
    {
     "ename": "ValueError",
     "evalue": "operands could not be broadcast together with shapes (256,64,125,125) (1,100,125,125) ",
     "output_type": "error",
     "traceback": [
      "\u001b[1;31m---------------------------------------------------------------------------\u001b[0m",
      "\u001b[1;31mValueError\u001b[0m                                Traceback (most recent call last)",
      "\u001b[1;32m<ipython-input-1076-645ca8f7f1e6>\u001b[0m in \u001b[0;36m<module>\u001b[1;34m()\u001b[0m\n\u001b[1;32m----> 1\u001b[1;33m \u001b[0mx\u001b[0m\u001b[1;33m*\u001b[0m\u001b[0mr\u001b[0m\u001b[1;33m[\u001b[0m\u001b[0mnp\u001b[0m\u001b[1;33m.\u001b[0m\u001b[0mnewaxis\u001b[0m\u001b[1;33m,\u001b[0m\u001b[1;33m:\u001b[0m\u001b[1;33m,\u001b[0m\u001b[1;33m:\u001b[0m\u001b[1;33m,\u001b[0m\u001b[1;33m:\u001b[0m\u001b[1;33m]\u001b[0m\u001b[1;33m\u001b[0m\u001b[0m\n\u001b[0m",
      "\u001b[1;31mValueError\u001b[0m: operands could not be broadcast together with shapes (256,64,125,125) (1,100,125,125) "
     ]
    }
   ],
   "source": [
    "x*r[np.newaxis,:,:,:]"
   ]
  },
  {
   "cell_type": "code",
   "execution_count": 1093,
   "metadata": {
    "collapsed": false
   },
   "outputs": [],
   "source": [
    "featw = tnsr.matrix('featw')\n",
    "out2 = (outp*featw[np.newaxis,:,:]).sum(axis=1)\n",
    "final_out = function([outp,featw], out2)"
   ]
  },
  {
   "cell_type": "code",
   "execution_count": 1094,
   "metadata": {
    "collapsed": false
   },
   "outputs": [
    {
     "data": {
      "text/plain": [
       "(256, 100)"
      ]
     },
     "execution_count": 1094,
     "metadata": {},
     "output_type": "execute_result"
    }
   ],
   "source": [
    "w = np.zeros((D,V), dtype='float32')\n",
    "final_out(blarg, w).shape"
   ]
  },
  {
   "cell_type": "code",
   "execution_count": null,
   "metadata": {
    "collapsed": true
   },
   "outputs": [],
   "source": []
  }
 ],
 "metadata": {
  "kernelspec": {
   "display_name": "Python 2",
   "language": "python",
   "name": "python2"
  },
  "language_info": {
   "codemirror_mode": {
    "name": "ipython",
    "version": 2
   },
   "file_extension": ".py",
   "mimetype": "text/x-python",
   "name": "python",
   "nbconvert_exporter": "python",
   "pygments_lexer": "ipython2",
   "version": "2.7.11"
  }
 },
 "nbformat": 4,
 "nbformat_minor": 0
}
